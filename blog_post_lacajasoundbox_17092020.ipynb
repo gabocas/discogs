{
 "cells": [
  {
   "cell_type": "code",
   "execution_count": 1,
   "metadata": {},
   "outputs": [],
   "source": [
    "import requests\n",
    "import os\n",
    "import pandas as pd\n",
    "import numpy as np\n",
    "import matplotlib.pyplot as plt\n",
    "import plotly.express as px\n",
    "from plotly.subplots import make_subplots\n",
    "import seaborn as sns\n",
    "sns.set(style=\"whitegrid\")\n",
    "sns.set_context(\"notebook\", font_scale=1.5)\n",
    "%matplotlib inline"
   ]
  },
  {
   "cell_type": "code",
   "execution_count": 2,
   "metadata": {},
   "outputs": [],
   "source": [
    "def count_by(df,group_vars,counter_col,count_col_label='total'):\n",
    "    df_count = df.groupby(group_vars, as_index=False)[counter_col].count() \n",
    "    df_count = df_count.rename(columns={counter_col:count_col_label})\n",
    "    df_count = df_count.sort_values(by=count_col_label, ascending=False,ignore_index=True)\n",
    "    return df_count"
   ]
  },
  {
   "cell_type": "code",
   "execution_count": 6,
   "metadata": {},
   "outputs": [
    {
     "data": {
      "text/html": [
       "<div>\n",
       "<style scoped>\n",
       "    .dataframe tbody tr th:only-of-type {\n",
       "        vertical-align: middle;\n",
       "    }\n",
       "\n",
       "    .dataframe tbody tr th {\n",
       "        vertical-align: top;\n",
       "    }\n",
       "\n",
       "    .dataframe thead th {\n",
       "        text-align: right;\n",
       "    }\n",
       "</style>\n",
       "<table border=\"1\" class=\"dataframe\">\n",
       "  <thead>\n",
       "    <tr style=\"text-align: right;\">\n",
       "      <th></th>\n",
       "      <th>uid</th>\n",
       "      <th>artist</th>\n",
       "      <th>album</th>\n",
       "      <th>genre</th>\n",
       "      <th>style</th>\n",
       "      <th>style2</th>\n",
       "      <th>format</th>\n",
       "      <th>format_type</th>\n",
       "      <th>release_year</th>\n",
       "      <th>master_year</th>\n",
       "      <th>decade</th>\n",
       "      <th>label</th>\n",
       "      <th>release_type</th>\n",
       "      <th>reissue</th>\n",
       "      <th>release_dif_time</th>\n",
       "      <th>Tipo</th>\n",
       "    </tr>\n",
       "  </thead>\n",
       "  <tbody>\n",
       "    <tr>\n",
       "      <th>0</th>\n",
       "      <td>Dii_box</td>\n",
       "      <td>AIR</td>\n",
       "      <td>10,000 Hz Legend</td>\n",
       "      <td>Electronic</td>\n",
       "      <td>Downtempo</td>\n",
       "      <td>Electro</td>\n",
       "      <td>Vinyl</td>\n",
       "      <td>LP</td>\n",
       "      <td>2001</td>\n",
       "      <td>2001.0</td>\n",
       "      <td>00's</td>\n",
       "      <td>Source</td>\n",
       "      <td>Album</td>\n",
       "      <td>0</td>\n",
       "      <td>0.0</td>\n",
       "      <td>no SAE</td>\n",
       "    </tr>\n",
       "    <tr>\n",
       "      <th>1</th>\n",
       "      <td>Dii_box</td>\n",
       "      <td>AIR</td>\n",
       "      <td>Talkie Walkie</td>\n",
       "      <td>Electronic</td>\n",
       "      <td>Downtempo</td>\n",
       "      <td>Synth-pop</td>\n",
       "      <td>Vinyl</td>\n",
       "      <td>LP</td>\n",
       "      <td>2004</td>\n",
       "      <td>2004.0</td>\n",
       "      <td>00's</td>\n",
       "      <td>Source</td>\n",
       "      <td>Album</td>\n",
       "      <td>0</td>\n",
       "      <td>0.0</td>\n",
       "      <td>no SAE</td>\n",
       "    </tr>\n",
       "    <tr>\n",
       "      <th>2</th>\n",
       "      <td>Dii_box</td>\n",
       "      <td>Apparat</td>\n",
       "      <td>LP5</td>\n",
       "      <td>Electronic</td>\n",
       "      <td>Ambient</td>\n",
       "      <td>NaN</td>\n",
       "      <td>Vinyl</td>\n",
       "      <td>LP</td>\n",
       "      <td>2019</td>\n",
       "      <td>2019.0</td>\n",
       "      <td>10's</td>\n",
       "      <td>Mute</td>\n",
       "      <td>Album</td>\n",
       "      <td>0</td>\n",
       "      <td>0.0</td>\n",
       "      <td>no SAE</td>\n",
       "    </tr>\n",
       "    <tr>\n",
       "      <th>3</th>\n",
       "      <td>Dii_box</td>\n",
       "      <td>Apparat</td>\n",
       "      <td>Walls</td>\n",
       "      <td>Electronic</td>\n",
       "      <td>Leftfield</td>\n",
       "      <td>NaN</td>\n",
       "      <td>Vinyl</td>\n",
       "      <td>LP</td>\n",
       "      <td>2016</td>\n",
       "      <td>2007.0</td>\n",
       "      <td>00's</td>\n",
       "      <td>Shitkatapult</td>\n",
       "      <td>Album</td>\n",
       "      <td>1</td>\n",
       "      <td>9.0</td>\n",
       "      <td>no SAE</td>\n",
       "    </tr>\n",
       "    <tr>\n",
       "      <th>4</th>\n",
       "      <td>Dii_box</td>\n",
       "      <td>Bauhaus</td>\n",
       "      <td>Bela Lugosi's Dead</td>\n",
       "      <td>Rock</td>\n",
       "      <td>New Wave</td>\n",
       "      <td>NaN</td>\n",
       "      <td>Vinyl</td>\n",
       "      <td>12\"</td>\n",
       "      <td>1979</td>\n",
       "      <td>1979.0</td>\n",
       "      <td>70's</td>\n",
       "      <td>Small Wonder Records</td>\n",
       "      <td>Single</td>\n",
       "      <td>0</td>\n",
       "      <td>0.0</td>\n",
       "      <td>SAE</td>\n",
       "    </tr>\n",
       "    <tr>\n",
       "      <th>...</th>\n",
       "      <td>...</td>\n",
       "      <td>...</td>\n",
       "      <td>...</td>\n",
       "      <td>...</td>\n",
       "      <td>...</td>\n",
       "      <td>...</td>\n",
       "      <td>...</td>\n",
       "      <td>...</td>\n",
       "      <td>...</td>\n",
       "      <td>...</td>\n",
       "      <td>...</td>\n",
       "      <td>...</td>\n",
       "      <td>...</td>\n",
       "      <td>...</td>\n",
       "      <td>...</td>\n",
       "      <td>...</td>\n",
       "    </tr>\n",
       "    <tr>\n",
       "      <th>12808</th>\n",
       "      <td>rotblot</td>\n",
       "      <td>Wire</td>\n",
       "      <td>Chairs Missing</td>\n",
       "      <td>Rock</td>\n",
       "      <td>Post-Punk</td>\n",
       "      <td>NaN</td>\n",
       "      <td>Vinyl</td>\n",
       "      <td>LP</td>\n",
       "      <td>0</td>\n",
       "      <td>1978.0</td>\n",
       "      <td>70's</td>\n",
       "      <td>Harvest</td>\n",
       "      <td>Album</td>\n",
       "      <td>1</td>\n",
       "      <td>-1978.0</td>\n",
       "      <td>SAE</td>\n",
       "    </tr>\n",
       "    <tr>\n",
       "      <th>12809</th>\n",
       "      <td>rotblot</td>\n",
       "      <td>Wire</td>\n",
       "      <td>Pink Flag</td>\n",
       "      <td>Rock</td>\n",
       "      <td>Punk</td>\n",
       "      <td>NaN</td>\n",
       "      <td>Vinyl</td>\n",
       "      <td>LP</td>\n",
       "      <td>1978</td>\n",
       "      <td>1977.0</td>\n",
       "      <td>70's</td>\n",
       "      <td>Harvest</td>\n",
       "      <td>Album</td>\n",
       "      <td>1</td>\n",
       "      <td>1.0</td>\n",
       "      <td>SAE</td>\n",
       "    </tr>\n",
       "    <tr>\n",
       "      <th>12810</th>\n",
       "      <td>rotblot</td>\n",
       "      <td>Wire</td>\n",
       "      <td>Pink Flag</td>\n",
       "      <td>Rock</td>\n",
       "      <td>Punk</td>\n",
       "      <td>NaN</td>\n",
       "      <td>CD</td>\n",
       "      <td>CD</td>\n",
       "      <td>0</td>\n",
       "      <td>1977.0</td>\n",
       "      <td>70's</td>\n",
       "      <td>Parlophone</td>\n",
       "      <td>Album</td>\n",
       "      <td>1</td>\n",
       "      <td>-1977.0</td>\n",
       "      <td>no SAE</td>\n",
       "    </tr>\n",
       "    <tr>\n",
       "      <th>12811</th>\n",
       "      <td>rotblot</td>\n",
       "      <td>The XX</td>\n",
       "      <td>I See You</td>\n",
       "      <td>Electronic</td>\n",
       "      <td>Indie Pop</td>\n",
       "      <td>NaN</td>\n",
       "      <td>Box Set</td>\n",
       "      <td>Box Set</td>\n",
       "      <td>2017</td>\n",
       "      <td>2017.0</td>\n",
       "      <td>10's</td>\n",
       "      <td>Young Turks</td>\n",
       "      <td>Deluxe Edition</td>\n",
       "      <td>0</td>\n",
       "      <td>0.0</td>\n",
       "      <td>no SAE</td>\n",
       "    </tr>\n",
       "    <tr>\n",
       "      <th>12812</th>\n",
       "      <td>rotblot</td>\n",
       "      <td>Youth Lagoon</td>\n",
       "      <td>Wondrous Bughouse</td>\n",
       "      <td>Electronic</td>\n",
       "      <td>Lo-Fi</td>\n",
       "      <td>NaN</td>\n",
       "      <td>Vinyl</td>\n",
       "      <td>LP</td>\n",
       "      <td>2013</td>\n",
       "      <td>2013.0</td>\n",
       "      <td>10's</td>\n",
       "      <td>Fat Possum Records</td>\n",
       "      <td>Album</td>\n",
       "      <td>0</td>\n",
       "      <td>0.0</td>\n",
       "      <td>no SAE</td>\n",
       "    </tr>\n",
       "  </tbody>\n",
       "</table>\n",
       "<p>12813 rows × 16 columns</p>\n",
       "</div>"
      ],
      "text/plain": [
       "           uid        artist               album       genre      style  \\\n",
       "0      Dii_box           AIR    10,000 Hz Legend  Electronic  Downtempo   \n",
       "1      Dii_box           AIR       Talkie Walkie  Electronic  Downtempo   \n",
       "2      Dii_box       Apparat                 LP5  Electronic    Ambient   \n",
       "3      Dii_box       Apparat               Walls  Electronic  Leftfield   \n",
       "4      Dii_box       Bauhaus  Bela Lugosi's Dead        Rock   New Wave   \n",
       "...        ...           ...                 ...         ...        ...   \n",
       "12808  rotblot          Wire      Chairs Missing        Rock  Post-Punk   \n",
       "12809  rotblot          Wire           Pink Flag        Rock       Punk   \n",
       "12810  rotblot          Wire           Pink Flag        Rock       Punk   \n",
       "12811  rotblot        The XX           I See You  Electronic  Indie Pop   \n",
       "12812  rotblot  Youth Lagoon   Wondrous Bughouse  Electronic      Lo-Fi   \n",
       "\n",
       "          style2   format format_type  release_year  master_year decade  \\\n",
       "0        Electro    Vinyl          LP          2001       2001.0   00's   \n",
       "1      Synth-pop    Vinyl          LP          2004       2004.0   00's   \n",
       "2            NaN    Vinyl          LP          2019       2019.0   10's   \n",
       "3            NaN    Vinyl          LP          2016       2007.0   00's   \n",
       "4            NaN    Vinyl         12\"          1979       1979.0   70's   \n",
       "...          ...      ...         ...           ...          ...    ...   \n",
       "12808        NaN    Vinyl          LP             0       1978.0   70's   \n",
       "12809        NaN    Vinyl          LP          1978       1977.0   70's   \n",
       "12810        NaN       CD          CD             0       1977.0   70's   \n",
       "12811        NaN  Box Set     Box Set          2017       2017.0   10's   \n",
       "12812        NaN    Vinyl          LP          2013       2013.0   10's   \n",
       "\n",
       "                      label    release_type  reissue  release_dif_time    Tipo  \n",
       "0                    Source           Album        0               0.0  no SAE  \n",
       "1                    Source           Album        0               0.0  no SAE  \n",
       "2                      Mute           Album        0               0.0  no SAE  \n",
       "3              Shitkatapult           Album        1               9.0  no SAE  \n",
       "4      Small Wonder Records          Single        0               0.0     SAE  \n",
       "...                     ...             ...      ...               ...     ...  \n",
       "12808               Harvest           Album        1           -1978.0     SAE  \n",
       "12809               Harvest           Album        1               1.0     SAE  \n",
       "12810            Parlophone           Album        1           -1977.0  no SAE  \n",
       "12811           Young Turks  Deluxe Edition        0               0.0  no SAE  \n",
       "12812    Fat Possum Records           Album        0               0.0  no SAE  \n",
       "\n",
       "[12813 rows x 16 columns]"
      ]
     },
     "execution_count": 6,
     "metadata": {},
     "output_type": "execute_result"
    }
   ],
   "source": [
    "all_releases_df = pd.read_csv('../all_releases_db_comm_caja_16092020.csv')\n",
    "all_releases_df['Tipo'] = 'SAE'\n",
    "all_releases_df.loc[(all_releases_df['master_year']>1995) | (all_releases_df['release_year']>1995) | (all_releases_df['format_type']=='CD'),'Tipo'] = 'no SAE'\n",
    "all_releases_df.loc[all_releases_df['master_year']==0,'Tipo'] = 'desconocido'\n",
    "all_releases_df"
   ]
  },
  {
   "cell_type": "markdown",
   "metadata": {},
   "source": [
    "# Estadísticas sobre las colecciones de la comunidad de la [cajasoundbox](https://lacajasoundbox.com)\n",
    "**Por Gabriel Castrillon (@gabocas en Twitter)***\n",
    "\n",
    "Una actividad cotidiana en esta comunidad es mostrar lo que rueda en nuestros tocadiscos, dándonos la oportunidad de compartir nuestras colecciones, aprender sobre diferentes versiones de ese disco que tanto nos gusta o añadir nuevos discos a nuestra lista de deseos en Discogs. Adicionalmente, ha generado discusiones sobre cuántos discos podemos reunir entre todos nosotros, cuáles de estos son [SAE](https://lacajasoundbox.com/blogs/comunidad/glosario-esencial-para-los-cajiamigos-coleccionistas) o la discusión fija semanal sobre cuál es el mejor álbum de Soda Stereo. \n",
    "\n",
    "Así que para conocer mejor nuestras colecciones, esculcamos 26 de ellas en Discogs, para un total de 12813 vinilos, cassetes, DVDs, etc, a los cuales me referiré de ahora en adelante como discos. El formato más coleccionados es el vinilo (75%, 71% SAE), seguido por el CD (20%), DVD (2%) y cassette (1.5%). De nuestro formato ganador, la mayoría de los discos coleccionados fueron lanzados en la década de los 80's (33%, 89% SAE), seguida por los 70's (27%, 92% SAE) y los 90's (33.3%, 49% SAE).\n"
   ]
  },
  {
   "cell_type": "code",
   "execution_count": 66,
   "metadata": {},
   "outputs": [
    {
     "data": {
      "application/vnd.plotly.v1+json": {
       "config": {
        "plotlyServerURL": "https://plot.ly"
       },
       "data": [
        {
         "branchvalues": "total",
         "domain": {
          "x": [
           0,
           1
          ],
          "y": [
           0,
           1
          ]
         },
         "hovertemplate": "labels=%{label}<br>total=%{value}<br>parent=%{parent}<br>id=%{id}<extra></extra>",
         "ids": [
          "Vinyl/40's/SAE",
          "Shellac/50's/SAE",
          "Vinyl/50's/SAE",
          "Box Set/60's/SAE",
          "Cassette/60's/SAE",
          "Vinyl/60's/SAE",
          "All Media/70's/SAE",
          "Cassette/70's/SAE",
          "Reel-To-Reel/70's/SAE",
          "Vinyl/70's/SAE",
          "Box Set/80's/SAE",
          "Cassette/80's/SAE",
          "DVD/80's/SAE",
          "Laserdisc/80's/SAE",
          "VHS/80's/SAE",
          "Vinyl/80's/SAE",
          "All Media/90's/SAE",
          "Box Set/90's/SAE",
          "Cassette/90's/SAE",
          "DVD/90's/SAE",
          "VHS/90's/SAE",
          "Vinyl/90's/SAE",
          "All Media/00's/no SAE",
          "Box Set/00's/no SAE",
          "CD/00's/no SAE",
          "CDr/00's/no SAE",
          "Cassette/00's/no SAE",
          "DVD/00's/no SAE",
          "DVDr/00's/no SAE",
          "File/00's/no SAE",
          "Hybrid/00's/no SAE",
          "Vinyl/00's/no SAE",
          "All Media/10's/no SAE",
          "Blu-ray/10's/no SAE",
          "Box Set/10's/no SAE",
          "CD/10's/no SAE",
          "CDr/10's/no SAE",
          "Cassette/10's/no SAE",
          "DVD/10's/no SAE",
          "File/10's/no SAE",
          "Vinyl/10's/no SAE",
          "Box Set/20's/no SAE",
          "DVD/20's/no SAE",
          "Vinyl/20's/no SAE",
          "Vinyl/50's/no SAE",
          "Box Set/60's/no SAE",
          "CD/60's/no SAE",
          "CDr/60's/no SAE",
          "Vinyl/60's/no SAE",
          "All Media/70's/no SAE",
          "Blu-ray/70's/no SAE",
          "Box Set/70's/no SAE",
          "CD/70's/no SAE",
          "CDr/70's/no SAE",
          "DVD/70's/no SAE",
          "SACD/70's/no SAE",
          "Vinyl/70's/no SAE",
          "Box Set/80's/no SAE",
          "CD/80's/no SAE",
          "Cassette/80's/no SAE",
          "DVD/80's/no SAE",
          "Hybrid/80's/no SAE",
          "VHS/80's/no SAE",
          "Vinyl/80's/no SAE",
          "All Media/90's/no SAE",
          "Box Set/90's/no SAE",
          "CD/90's/no SAE",
          "CDr/90's/no SAE",
          "Cassette/90's/no SAE",
          "DVD/90's/no SAE",
          "Hybrid/90's/no SAE",
          "VHS/90's/no SAE",
          "Vinyl/90's/no SAE",
          "All Media/00's",
          "Box Set/00's",
          "CD/00's",
          "CDr/00's",
          "Cassette/00's",
          "DVD/00's",
          "DVDr/00's",
          "File/00's",
          "Hybrid/00's",
          "Vinyl/00's",
          "All Media/10's",
          "Blu-ray/10's",
          "Box Set/10's",
          "CD/10's",
          "CDr/10's",
          "Cassette/10's",
          "DVD/10's",
          "File/10's",
          "Vinyl/10's",
          "Box Set/20's",
          "DVD/20's",
          "Vinyl/20's",
          "Vinyl/40's",
          "Shellac/50's",
          "Vinyl/50's",
          "Box Set/60's",
          "CD/60's",
          "CDr/60's",
          "Cassette/60's",
          "Vinyl/60's",
          "All Media/70's",
          "Blu-ray/70's",
          "Box Set/70's",
          "CD/70's",
          "CDr/70's",
          "Cassette/70's",
          "DVD/70's",
          "Reel-To-Reel/70's",
          "SACD/70's",
          "Vinyl/70's",
          "Box Set/80's",
          "CD/80's",
          "Cassette/80's",
          "DVD/80's",
          "Hybrid/80's",
          "Laserdisc/80's",
          "VHS/80's",
          "Vinyl/80's",
          "All Media/90's",
          "Box Set/90's",
          "CD/90's",
          "CDr/90's",
          "Cassette/90's",
          "DVD/90's",
          "Hybrid/90's",
          "VHS/90's",
          "Vinyl/90's",
          "All Media",
          "Blu-ray",
          "Box Set",
          "CD",
          "CDr",
          "Cassette",
          "DVD",
          "DVDr",
          "File",
          "Hybrid",
          "Laserdisc",
          "Reel-To-Reel",
          "SACD",
          "Shellac",
          "VHS",
          "Vinyl"
         ],
         "labels": [
          "SAE",
          "SAE",
          "SAE",
          "SAE",
          "SAE",
          "SAE",
          "SAE",
          "SAE",
          "SAE",
          "SAE",
          "SAE",
          "SAE",
          "SAE",
          "SAE",
          "SAE",
          "SAE",
          "SAE",
          "SAE",
          "SAE",
          "SAE",
          "SAE",
          "SAE",
          "no SAE",
          "no SAE",
          "no SAE",
          "no SAE",
          "no SAE",
          "no SAE",
          "no SAE",
          "no SAE",
          "no SAE",
          "no SAE",
          "no SAE",
          "no SAE",
          "no SAE",
          "no SAE",
          "no SAE",
          "no SAE",
          "no SAE",
          "no SAE",
          "no SAE",
          "no SAE",
          "no SAE",
          "no SAE",
          "no SAE",
          "no SAE",
          "no SAE",
          "no SAE",
          "no SAE",
          "no SAE",
          "no SAE",
          "no SAE",
          "no SAE",
          "no SAE",
          "no SAE",
          "no SAE",
          "no SAE",
          "no SAE",
          "no SAE",
          "no SAE",
          "no SAE",
          "no SAE",
          "no SAE",
          "no SAE",
          "no SAE",
          "no SAE",
          "no SAE",
          "no SAE",
          "no SAE",
          "no SAE",
          "no SAE",
          "no SAE",
          "no SAE",
          "00's",
          "00's",
          "00's",
          "00's",
          "00's",
          "00's",
          "00's",
          "00's",
          "00's",
          "00's",
          "10's",
          "10's",
          "10's",
          "10's",
          "10's",
          "10's",
          "10's",
          "10's",
          "10's",
          "20's",
          "20's",
          "20's",
          "40's",
          "50's",
          "50's",
          "60's",
          "60's",
          "60's",
          "60's",
          "60's",
          "70's",
          "70's",
          "70's",
          "70's",
          "70's",
          "70's",
          "70's",
          "70's",
          "70's",
          "70's",
          "80's",
          "80's",
          "80's",
          "80's",
          "80's",
          "80's",
          "80's",
          "80's",
          "90's",
          "90's",
          "90's",
          "90's",
          "90's",
          "90's",
          "90's",
          "90's",
          "90's",
          "All Media",
          "Blu-ray",
          "Box Set",
          "CD",
          "CDr",
          "Cassette",
          "DVD",
          "DVDr",
          "File",
          "Hybrid",
          "Laserdisc",
          "Reel-To-Reel",
          "SACD",
          "Shellac",
          "VHS",
          "Vinyl"
         ],
         "name": "",
         "parents": [
          "Vinyl/40's",
          "Shellac/50's",
          "Vinyl/50's",
          "Box Set/60's",
          "Cassette/60's",
          "Vinyl/60's",
          "All Media/70's",
          "Cassette/70's",
          "Reel-To-Reel/70's",
          "Vinyl/70's",
          "Box Set/80's",
          "Cassette/80's",
          "DVD/80's",
          "Laserdisc/80's",
          "VHS/80's",
          "Vinyl/80's",
          "All Media/90's",
          "Box Set/90's",
          "Cassette/90's",
          "DVD/90's",
          "VHS/90's",
          "Vinyl/90's",
          "All Media/00's",
          "Box Set/00's",
          "CD/00's",
          "CDr/00's",
          "Cassette/00's",
          "DVD/00's",
          "DVDr/00's",
          "File/00's",
          "Hybrid/00's",
          "Vinyl/00's",
          "All Media/10's",
          "Blu-ray/10's",
          "Box Set/10's",
          "CD/10's",
          "CDr/10's",
          "Cassette/10's",
          "DVD/10's",
          "File/10's",
          "Vinyl/10's",
          "Box Set/20's",
          "DVD/20's",
          "Vinyl/20's",
          "Vinyl/50's",
          "Box Set/60's",
          "CD/60's",
          "CDr/60's",
          "Vinyl/60's",
          "All Media/70's",
          "Blu-ray/70's",
          "Box Set/70's",
          "CD/70's",
          "CDr/70's",
          "DVD/70's",
          "SACD/70's",
          "Vinyl/70's",
          "Box Set/80's",
          "CD/80's",
          "Cassette/80's",
          "DVD/80's",
          "Hybrid/80's",
          "VHS/80's",
          "Vinyl/80's",
          "All Media/90's",
          "Box Set/90's",
          "CD/90's",
          "CDr/90's",
          "Cassette/90's",
          "DVD/90's",
          "Hybrid/90's",
          "VHS/90's",
          "Vinyl/90's",
          "All Media",
          "Box Set",
          "CD",
          "CDr",
          "Cassette",
          "DVD",
          "DVDr",
          "File",
          "Hybrid",
          "Vinyl",
          "All Media",
          "Blu-ray",
          "Box Set",
          "CD",
          "CDr",
          "Cassette",
          "DVD",
          "File",
          "Vinyl",
          "Box Set",
          "DVD",
          "Vinyl",
          "Vinyl",
          "Shellac",
          "Vinyl",
          "Box Set",
          "CD",
          "CDr",
          "Cassette",
          "Vinyl",
          "All Media",
          "Blu-ray",
          "Box Set",
          "CD",
          "CDr",
          "Cassette",
          "DVD",
          "Reel-To-Reel",
          "SACD",
          "Vinyl",
          "Box Set",
          "CD",
          "Cassette",
          "DVD",
          "Hybrid",
          "Laserdisc",
          "VHS",
          "Vinyl",
          "All Media",
          "Box Set",
          "CD",
          "CDr",
          "Cassette",
          "DVD",
          "Hybrid",
          "VHS",
          "Vinyl",
          "",
          "",
          "",
          "",
          "",
          "",
          "",
          "",
          "",
          "",
          "",
          "",
          "",
          "",
          "",
          ""
         ],
         "type": "sunburst",
         "values": [
          10,
          1,
          176,
          1,
          1,
          671,
          1,
          12,
          1,
          2256,
          1,
          68,
          2,
          1,
          7,
          2664,
          1,
          3,
          61,
          2,
          11,
          588,
          2,
          20,
          659,
          1,
          5,
          140,
          1,
          1,
          1,
          486,
          3,
          5,
          19,
          262,
          4,
          10,
          22,
          2,
          947,
          1,
          1,
          20,
          10,
          1,
          18,
          1,
          45,
          2,
          1,
          2,
          138,
          1,
          1,
          3,
          188,
          2,
          282,
          3,
          17,
          3,
          1,
          330,
          1,
          6,
          835,
          2,
          18,
          42,
          1,
          6,
          607,
          2,
          20,
          659,
          1,
          5,
          140,
          1,
          1,
          1,
          486,
          3,
          5,
          19,
          262,
          4,
          10,
          22,
          2,
          947,
          1,
          1,
          20,
          10,
          1,
          186,
          2,
          18,
          1,
          1,
          716,
          3,
          1,
          2,
          138,
          1,
          12,
          1,
          1,
          3,
          2444,
          3,
          282,
          71,
          19,
          3,
          1,
          8,
          2994,
          2,
          9,
          835,
          2,
          79,
          44,
          1,
          17,
          1195,
          10,
          6,
          56,
          2194,
          9,
          178,
          227,
          1,
          3,
          5,
          1,
          1,
          3,
          1,
          25,
          8998
         ]
        }
       ],
       "layout": {
        "legend": {
         "tracegroupgap": 0
        },
        "margin": {
         "t": 60
        },
        "sunburstcolorway": [
         "#005867",
         "#FFB335",
         "#F3F1EA",
         "#2E383D"
        ],
        "template": {
         "data": {
          "bar": [
           {
            "error_x": {
             "color": "#2a3f5f"
            },
            "error_y": {
             "color": "#2a3f5f"
            },
            "marker": {
             "line": {
              "color": "#E5ECF6",
              "width": 0.5
             }
            },
            "type": "bar"
           }
          ],
          "barpolar": [
           {
            "marker": {
             "line": {
              "color": "#E5ECF6",
              "width": 0.5
             }
            },
            "type": "barpolar"
           }
          ],
          "carpet": [
           {
            "aaxis": {
             "endlinecolor": "#2a3f5f",
             "gridcolor": "white",
             "linecolor": "white",
             "minorgridcolor": "white",
             "startlinecolor": "#2a3f5f"
            },
            "baxis": {
             "endlinecolor": "#2a3f5f",
             "gridcolor": "white",
             "linecolor": "white",
             "minorgridcolor": "white",
             "startlinecolor": "#2a3f5f"
            },
            "type": "carpet"
           }
          ],
          "choropleth": [
           {
            "colorbar": {
             "outlinewidth": 0,
             "ticks": ""
            },
            "type": "choropleth"
           }
          ],
          "contour": [
           {
            "colorbar": {
             "outlinewidth": 0,
             "ticks": ""
            },
            "colorscale": [
             [
              0,
              "#0d0887"
             ],
             [
              0.1111111111111111,
              "#46039f"
             ],
             [
              0.2222222222222222,
              "#7201a8"
             ],
             [
              0.3333333333333333,
              "#9c179e"
             ],
             [
              0.4444444444444444,
              "#bd3786"
             ],
             [
              0.5555555555555556,
              "#d8576b"
             ],
             [
              0.6666666666666666,
              "#ed7953"
             ],
             [
              0.7777777777777778,
              "#fb9f3a"
             ],
             [
              0.8888888888888888,
              "#fdca26"
             ],
             [
              1,
              "#f0f921"
             ]
            ],
            "type": "contour"
           }
          ],
          "contourcarpet": [
           {
            "colorbar": {
             "outlinewidth": 0,
             "ticks": ""
            },
            "type": "contourcarpet"
           }
          ],
          "heatmap": [
           {
            "colorbar": {
             "outlinewidth": 0,
             "ticks": ""
            },
            "colorscale": [
             [
              0,
              "#0d0887"
             ],
             [
              0.1111111111111111,
              "#46039f"
             ],
             [
              0.2222222222222222,
              "#7201a8"
             ],
             [
              0.3333333333333333,
              "#9c179e"
             ],
             [
              0.4444444444444444,
              "#bd3786"
             ],
             [
              0.5555555555555556,
              "#d8576b"
             ],
             [
              0.6666666666666666,
              "#ed7953"
             ],
             [
              0.7777777777777778,
              "#fb9f3a"
             ],
             [
              0.8888888888888888,
              "#fdca26"
             ],
             [
              1,
              "#f0f921"
             ]
            ],
            "type": "heatmap"
           }
          ],
          "heatmapgl": [
           {
            "colorbar": {
             "outlinewidth": 0,
             "ticks": ""
            },
            "colorscale": [
             [
              0,
              "#0d0887"
             ],
             [
              0.1111111111111111,
              "#46039f"
             ],
             [
              0.2222222222222222,
              "#7201a8"
             ],
             [
              0.3333333333333333,
              "#9c179e"
             ],
             [
              0.4444444444444444,
              "#bd3786"
             ],
             [
              0.5555555555555556,
              "#d8576b"
             ],
             [
              0.6666666666666666,
              "#ed7953"
             ],
             [
              0.7777777777777778,
              "#fb9f3a"
             ],
             [
              0.8888888888888888,
              "#fdca26"
             ],
             [
              1,
              "#f0f921"
             ]
            ],
            "type": "heatmapgl"
           }
          ],
          "histogram": [
           {
            "marker": {
             "colorbar": {
              "outlinewidth": 0,
              "ticks": ""
             }
            },
            "type": "histogram"
           }
          ],
          "histogram2d": [
           {
            "colorbar": {
             "outlinewidth": 0,
             "ticks": ""
            },
            "colorscale": [
             [
              0,
              "#0d0887"
             ],
             [
              0.1111111111111111,
              "#46039f"
             ],
             [
              0.2222222222222222,
              "#7201a8"
             ],
             [
              0.3333333333333333,
              "#9c179e"
             ],
             [
              0.4444444444444444,
              "#bd3786"
             ],
             [
              0.5555555555555556,
              "#d8576b"
             ],
             [
              0.6666666666666666,
              "#ed7953"
             ],
             [
              0.7777777777777778,
              "#fb9f3a"
             ],
             [
              0.8888888888888888,
              "#fdca26"
             ],
             [
              1,
              "#f0f921"
             ]
            ],
            "type": "histogram2d"
           }
          ],
          "histogram2dcontour": [
           {
            "colorbar": {
             "outlinewidth": 0,
             "ticks": ""
            },
            "colorscale": [
             [
              0,
              "#0d0887"
             ],
             [
              0.1111111111111111,
              "#46039f"
             ],
             [
              0.2222222222222222,
              "#7201a8"
             ],
             [
              0.3333333333333333,
              "#9c179e"
             ],
             [
              0.4444444444444444,
              "#bd3786"
             ],
             [
              0.5555555555555556,
              "#d8576b"
             ],
             [
              0.6666666666666666,
              "#ed7953"
             ],
             [
              0.7777777777777778,
              "#fb9f3a"
             ],
             [
              0.8888888888888888,
              "#fdca26"
             ],
             [
              1,
              "#f0f921"
             ]
            ],
            "type": "histogram2dcontour"
           }
          ],
          "mesh3d": [
           {
            "colorbar": {
             "outlinewidth": 0,
             "ticks": ""
            },
            "type": "mesh3d"
           }
          ],
          "parcoords": [
           {
            "line": {
             "colorbar": {
              "outlinewidth": 0,
              "ticks": ""
             }
            },
            "type": "parcoords"
           }
          ],
          "pie": [
           {
            "automargin": true,
            "type": "pie"
           }
          ],
          "scatter": [
           {
            "marker": {
             "colorbar": {
              "outlinewidth": 0,
              "ticks": ""
             }
            },
            "type": "scatter"
           }
          ],
          "scatter3d": [
           {
            "line": {
             "colorbar": {
              "outlinewidth": 0,
              "ticks": ""
             }
            },
            "marker": {
             "colorbar": {
              "outlinewidth": 0,
              "ticks": ""
             }
            },
            "type": "scatter3d"
           }
          ],
          "scattercarpet": [
           {
            "marker": {
             "colorbar": {
              "outlinewidth": 0,
              "ticks": ""
             }
            },
            "type": "scattercarpet"
           }
          ],
          "scattergeo": [
           {
            "marker": {
             "colorbar": {
              "outlinewidth": 0,
              "ticks": ""
             }
            },
            "type": "scattergeo"
           }
          ],
          "scattergl": [
           {
            "marker": {
             "colorbar": {
              "outlinewidth": 0,
              "ticks": ""
             }
            },
            "type": "scattergl"
           }
          ],
          "scattermapbox": [
           {
            "marker": {
             "colorbar": {
              "outlinewidth": 0,
              "ticks": ""
             }
            },
            "type": "scattermapbox"
           }
          ],
          "scatterpolar": [
           {
            "marker": {
             "colorbar": {
              "outlinewidth": 0,
              "ticks": ""
             }
            },
            "type": "scatterpolar"
           }
          ],
          "scatterpolargl": [
           {
            "marker": {
             "colorbar": {
              "outlinewidth": 0,
              "ticks": ""
             }
            },
            "type": "scatterpolargl"
           }
          ],
          "scatterternary": [
           {
            "marker": {
             "colorbar": {
              "outlinewidth": 0,
              "ticks": ""
             }
            },
            "type": "scatterternary"
           }
          ],
          "surface": [
           {
            "colorbar": {
             "outlinewidth": 0,
             "ticks": ""
            },
            "colorscale": [
             [
              0,
              "#0d0887"
             ],
             [
              0.1111111111111111,
              "#46039f"
             ],
             [
              0.2222222222222222,
              "#7201a8"
             ],
             [
              0.3333333333333333,
              "#9c179e"
             ],
             [
              0.4444444444444444,
              "#bd3786"
             ],
             [
              0.5555555555555556,
              "#d8576b"
             ],
             [
              0.6666666666666666,
              "#ed7953"
             ],
             [
              0.7777777777777778,
              "#fb9f3a"
             ],
             [
              0.8888888888888888,
              "#fdca26"
             ],
             [
              1,
              "#f0f921"
             ]
            ],
            "type": "surface"
           }
          ],
          "table": [
           {
            "cells": {
             "fill": {
              "color": "#EBF0F8"
             },
             "line": {
              "color": "white"
             }
            },
            "header": {
             "fill": {
              "color": "#C8D4E3"
             },
             "line": {
              "color": "white"
             }
            },
            "type": "table"
           }
          ]
         },
         "layout": {
          "annotationdefaults": {
           "arrowcolor": "#2a3f5f",
           "arrowhead": 0,
           "arrowwidth": 1
          },
          "coloraxis": {
           "colorbar": {
            "outlinewidth": 0,
            "ticks": ""
           }
          },
          "colorscale": {
           "diverging": [
            [
             0,
             "#8e0152"
            ],
            [
             0.1,
             "#c51b7d"
            ],
            [
             0.2,
             "#de77ae"
            ],
            [
             0.3,
             "#f1b6da"
            ],
            [
             0.4,
             "#fde0ef"
            ],
            [
             0.5,
             "#f7f7f7"
            ],
            [
             0.6,
             "#e6f5d0"
            ],
            [
             0.7,
             "#b8e186"
            ],
            [
             0.8,
             "#7fbc41"
            ],
            [
             0.9,
             "#4d9221"
            ],
            [
             1,
             "#276419"
            ]
           ],
           "sequential": [
            [
             0,
             "#0d0887"
            ],
            [
             0.1111111111111111,
             "#46039f"
            ],
            [
             0.2222222222222222,
             "#7201a8"
            ],
            [
             0.3333333333333333,
             "#9c179e"
            ],
            [
             0.4444444444444444,
             "#bd3786"
            ],
            [
             0.5555555555555556,
             "#d8576b"
            ],
            [
             0.6666666666666666,
             "#ed7953"
            ],
            [
             0.7777777777777778,
             "#fb9f3a"
            ],
            [
             0.8888888888888888,
             "#fdca26"
            ],
            [
             1,
             "#f0f921"
            ]
           ],
           "sequentialminus": [
            [
             0,
             "#0d0887"
            ],
            [
             0.1111111111111111,
             "#46039f"
            ],
            [
             0.2222222222222222,
             "#7201a8"
            ],
            [
             0.3333333333333333,
             "#9c179e"
            ],
            [
             0.4444444444444444,
             "#bd3786"
            ],
            [
             0.5555555555555556,
             "#d8576b"
            ],
            [
             0.6666666666666666,
             "#ed7953"
            ],
            [
             0.7777777777777778,
             "#fb9f3a"
            ],
            [
             0.8888888888888888,
             "#fdca26"
            ],
            [
             1,
             "#f0f921"
            ]
           ]
          },
          "colorway": [
           "#636efa",
           "#EF553B",
           "#00cc96",
           "#ab63fa",
           "#FFA15A",
           "#19d3f3",
           "#FF6692",
           "#B6E880",
           "#FF97FF",
           "#FECB52"
          ],
          "font": {
           "color": "#2a3f5f"
          },
          "geo": {
           "bgcolor": "white",
           "lakecolor": "white",
           "landcolor": "#E5ECF6",
           "showlakes": true,
           "showland": true,
           "subunitcolor": "white"
          },
          "hoverlabel": {
           "align": "left"
          },
          "hovermode": "closest",
          "mapbox": {
           "style": "light"
          },
          "paper_bgcolor": "white",
          "plot_bgcolor": "#E5ECF6",
          "polar": {
           "angularaxis": {
            "gridcolor": "white",
            "linecolor": "white",
            "ticks": ""
           },
           "bgcolor": "#E5ECF6",
           "radialaxis": {
            "gridcolor": "white",
            "linecolor": "white",
            "ticks": ""
           }
          },
          "scene": {
           "xaxis": {
            "backgroundcolor": "#E5ECF6",
            "gridcolor": "white",
            "gridwidth": 2,
            "linecolor": "white",
            "showbackground": true,
            "ticks": "",
            "zerolinecolor": "white"
           },
           "yaxis": {
            "backgroundcolor": "#E5ECF6",
            "gridcolor": "white",
            "gridwidth": 2,
            "linecolor": "white",
            "showbackground": true,
            "ticks": "",
            "zerolinecolor": "white"
           },
           "zaxis": {
            "backgroundcolor": "#E5ECF6",
            "gridcolor": "white",
            "gridwidth": 2,
            "linecolor": "white",
            "showbackground": true,
            "ticks": "",
            "zerolinecolor": "white"
           }
          },
          "shapedefaults": {
           "line": {
            "color": "#2a3f5f"
           }
          },
          "ternary": {
           "aaxis": {
            "gridcolor": "white",
            "linecolor": "white",
            "ticks": ""
           },
           "baxis": {
            "gridcolor": "white",
            "linecolor": "white",
            "ticks": ""
           },
           "bgcolor": "#E5ECF6",
           "caxis": {
            "gridcolor": "white",
            "linecolor": "white",
            "ticks": ""
           }
          },
          "title": {
           "x": 0.05
          },
          "xaxis": {
           "automargin": true,
           "gridcolor": "white",
           "linecolor": "white",
           "ticks": "",
           "title": {
            "standoff": 15
           },
           "zerolinecolor": "white",
           "zerolinewidth": 2
          },
          "yaxis": {
           "automargin": true,
           "gridcolor": "white",
           "linecolor": "white",
           "ticks": "",
           "title": {
            "standoff": 15
           },
           "zerolinecolor": "white",
           "zerolinewidth": 2
          }
         }
        }
       }
      },
      "text/html": [
       "<div>\n",
       "        \n",
       "        \n",
       "            <div id=\"14fdfe5a-2a3d-483d-bd88-4769994c2584\" class=\"plotly-graph-div\" style=\"height:525px; width:100%;\"></div>\n",
       "            <script type=\"text/javascript\">\n",
       "                require([\"plotly\"], function(Plotly) {\n",
       "                    window.PLOTLYENV=window.PLOTLYENV || {};\n",
       "                    \n",
       "                if (document.getElementById(\"14fdfe5a-2a3d-483d-bd88-4769994c2584\")) {\n",
       "                    Plotly.newPlot(\n",
       "                        '14fdfe5a-2a3d-483d-bd88-4769994c2584',\n",
       "                        [{\"branchvalues\": \"total\", \"domain\": {\"x\": [0.0, 1.0], \"y\": [0.0, 1.0]}, \"hovertemplate\": \"labels=%{label}<br>total=%{value}<br>parent=%{parent}<br>id=%{id}<extra></extra>\", \"ids\": [\"Vinyl/40's/SAE\", \"Shellac/50's/SAE\", \"Vinyl/50's/SAE\", \"Box Set/60's/SAE\", \"Cassette/60's/SAE\", \"Vinyl/60's/SAE\", \"All Media/70's/SAE\", \"Cassette/70's/SAE\", \"Reel-To-Reel/70's/SAE\", \"Vinyl/70's/SAE\", \"Box Set/80's/SAE\", \"Cassette/80's/SAE\", \"DVD/80's/SAE\", \"Laserdisc/80's/SAE\", \"VHS/80's/SAE\", \"Vinyl/80's/SAE\", \"All Media/90's/SAE\", \"Box Set/90's/SAE\", \"Cassette/90's/SAE\", \"DVD/90's/SAE\", \"VHS/90's/SAE\", \"Vinyl/90's/SAE\", \"All Media/00's/no SAE\", \"Box Set/00's/no SAE\", \"CD/00's/no SAE\", \"CDr/00's/no SAE\", \"Cassette/00's/no SAE\", \"DVD/00's/no SAE\", \"DVDr/00's/no SAE\", \"File/00's/no SAE\", \"Hybrid/00's/no SAE\", \"Vinyl/00's/no SAE\", \"All Media/10's/no SAE\", \"Blu-ray/10's/no SAE\", \"Box Set/10's/no SAE\", \"CD/10's/no SAE\", \"CDr/10's/no SAE\", \"Cassette/10's/no SAE\", \"DVD/10's/no SAE\", \"File/10's/no SAE\", \"Vinyl/10's/no SAE\", \"Box Set/20's/no SAE\", \"DVD/20's/no SAE\", \"Vinyl/20's/no SAE\", \"Vinyl/50's/no SAE\", \"Box Set/60's/no SAE\", \"CD/60's/no SAE\", \"CDr/60's/no SAE\", \"Vinyl/60's/no SAE\", \"All Media/70's/no SAE\", \"Blu-ray/70's/no SAE\", \"Box Set/70's/no SAE\", \"CD/70's/no SAE\", \"CDr/70's/no SAE\", \"DVD/70's/no SAE\", \"SACD/70's/no SAE\", \"Vinyl/70's/no SAE\", \"Box Set/80's/no SAE\", \"CD/80's/no SAE\", \"Cassette/80's/no SAE\", \"DVD/80's/no SAE\", \"Hybrid/80's/no SAE\", \"VHS/80's/no SAE\", \"Vinyl/80's/no SAE\", \"All Media/90's/no SAE\", \"Box Set/90's/no SAE\", \"CD/90's/no SAE\", \"CDr/90's/no SAE\", \"Cassette/90's/no SAE\", \"DVD/90's/no SAE\", \"Hybrid/90's/no SAE\", \"VHS/90's/no SAE\", \"Vinyl/90's/no SAE\", \"All Media/00's\", \"Box Set/00's\", \"CD/00's\", \"CDr/00's\", \"Cassette/00's\", \"DVD/00's\", \"DVDr/00's\", \"File/00's\", \"Hybrid/00's\", \"Vinyl/00's\", \"All Media/10's\", \"Blu-ray/10's\", \"Box Set/10's\", \"CD/10's\", \"CDr/10's\", \"Cassette/10's\", \"DVD/10's\", \"File/10's\", \"Vinyl/10's\", \"Box Set/20's\", \"DVD/20's\", \"Vinyl/20's\", \"Vinyl/40's\", \"Shellac/50's\", \"Vinyl/50's\", \"Box Set/60's\", \"CD/60's\", \"CDr/60's\", \"Cassette/60's\", \"Vinyl/60's\", \"All Media/70's\", \"Blu-ray/70's\", \"Box Set/70's\", \"CD/70's\", \"CDr/70's\", \"Cassette/70's\", \"DVD/70's\", \"Reel-To-Reel/70's\", \"SACD/70's\", \"Vinyl/70's\", \"Box Set/80's\", \"CD/80's\", \"Cassette/80's\", \"DVD/80's\", \"Hybrid/80's\", \"Laserdisc/80's\", \"VHS/80's\", \"Vinyl/80's\", \"All Media/90's\", \"Box Set/90's\", \"CD/90's\", \"CDr/90's\", \"Cassette/90's\", \"DVD/90's\", \"Hybrid/90's\", \"VHS/90's\", \"Vinyl/90's\", \"All Media\", \"Blu-ray\", \"Box Set\", \"CD\", \"CDr\", \"Cassette\", \"DVD\", \"DVDr\", \"File\", \"Hybrid\", \"Laserdisc\", \"Reel-To-Reel\", \"SACD\", \"Shellac\", \"VHS\", \"Vinyl\"], \"labels\": [\"SAE\", \"SAE\", \"SAE\", \"SAE\", \"SAE\", \"SAE\", \"SAE\", \"SAE\", \"SAE\", \"SAE\", \"SAE\", \"SAE\", \"SAE\", \"SAE\", \"SAE\", \"SAE\", \"SAE\", \"SAE\", \"SAE\", \"SAE\", \"SAE\", \"SAE\", \"no SAE\", \"no SAE\", \"no SAE\", \"no SAE\", \"no SAE\", \"no SAE\", \"no SAE\", \"no SAE\", \"no SAE\", \"no SAE\", \"no SAE\", \"no SAE\", \"no SAE\", \"no SAE\", \"no SAE\", \"no SAE\", \"no SAE\", \"no SAE\", \"no SAE\", \"no SAE\", \"no SAE\", \"no SAE\", \"no SAE\", \"no SAE\", \"no SAE\", \"no SAE\", \"no SAE\", \"no SAE\", \"no SAE\", \"no SAE\", \"no SAE\", \"no SAE\", \"no SAE\", \"no SAE\", \"no SAE\", \"no SAE\", \"no SAE\", \"no SAE\", \"no SAE\", \"no SAE\", \"no SAE\", \"no SAE\", \"no SAE\", \"no SAE\", \"no SAE\", \"no SAE\", \"no SAE\", \"no SAE\", \"no SAE\", \"no SAE\", \"no SAE\", \"00's\", \"00's\", \"00's\", \"00's\", \"00's\", \"00's\", \"00's\", \"00's\", \"00's\", \"00's\", \"10's\", \"10's\", \"10's\", \"10's\", \"10's\", \"10's\", \"10's\", \"10's\", \"10's\", \"20's\", \"20's\", \"20's\", \"40's\", \"50's\", \"50's\", \"60's\", \"60's\", \"60's\", \"60's\", \"60's\", \"70's\", \"70's\", \"70's\", \"70's\", \"70's\", \"70's\", \"70's\", \"70's\", \"70's\", \"70's\", \"80's\", \"80's\", \"80's\", \"80's\", \"80's\", \"80's\", \"80's\", \"80's\", \"90's\", \"90's\", \"90's\", \"90's\", \"90's\", \"90's\", \"90's\", \"90's\", \"90's\", \"All Media\", \"Blu-ray\", \"Box Set\", \"CD\", \"CDr\", \"Cassette\", \"DVD\", \"DVDr\", \"File\", \"Hybrid\", \"Laserdisc\", \"Reel-To-Reel\", \"SACD\", \"Shellac\", \"VHS\", \"Vinyl\"], \"name\": \"\", \"parents\": [\"Vinyl/40's\", \"Shellac/50's\", \"Vinyl/50's\", \"Box Set/60's\", \"Cassette/60's\", \"Vinyl/60's\", \"All Media/70's\", \"Cassette/70's\", \"Reel-To-Reel/70's\", \"Vinyl/70's\", \"Box Set/80's\", \"Cassette/80's\", \"DVD/80's\", \"Laserdisc/80's\", \"VHS/80's\", \"Vinyl/80's\", \"All Media/90's\", \"Box Set/90's\", \"Cassette/90's\", \"DVD/90's\", \"VHS/90's\", \"Vinyl/90's\", \"All Media/00's\", \"Box Set/00's\", \"CD/00's\", \"CDr/00's\", \"Cassette/00's\", \"DVD/00's\", \"DVDr/00's\", \"File/00's\", \"Hybrid/00's\", \"Vinyl/00's\", \"All Media/10's\", \"Blu-ray/10's\", \"Box Set/10's\", \"CD/10's\", \"CDr/10's\", \"Cassette/10's\", \"DVD/10's\", \"File/10's\", \"Vinyl/10's\", \"Box Set/20's\", \"DVD/20's\", \"Vinyl/20's\", \"Vinyl/50's\", \"Box Set/60's\", \"CD/60's\", \"CDr/60's\", \"Vinyl/60's\", \"All Media/70's\", \"Blu-ray/70's\", \"Box Set/70's\", \"CD/70's\", \"CDr/70's\", \"DVD/70's\", \"SACD/70's\", \"Vinyl/70's\", \"Box Set/80's\", \"CD/80's\", \"Cassette/80's\", \"DVD/80's\", \"Hybrid/80's\", \"VHS/80's\", \"Vinyl/80's\", \"All Media/90's\", \"Box Set/90's\", \"CD/90's\", \"CDr/90's\", \"Cassette/90's\", \"DVD/90's\", \"Hybrid/90's\", \"VHS/90's\", \"Vinyl/90's\", \"All Media\", \"Box Set\", \"CD\", \"CDr\", \"Cassette\", \"DVD\", \"DVDr\", \"File\", \"Hybrid\", \"Vinyl\", \"All Media\", \"Blu-ray\", \"Box Set\", \"CD\", \"CDr\", \"Cassette\", \"DVD\", \"File\", \"Vinyl\", \"Box Set\", \"DVD\", \"Vinyl\", \"Vinyl\", \"Shellac\", \"Vinyl\", \"Box Set\", \"CD\", \"CDr\", \"Cassette\", \"Vinyl\", \"All Media\", \"Blu-ray\", \"Box Set\", \"CD\", \"CDr\", \"Cassette\", \"DVD\", \"Reel-To-Reel\", \"SACD\", \"Vinyl\", \"Box Set\", \"CD\", \"Cassette\", \"DVD\", \"Hybrid\", \"Laserdisc\", \"VHS\", \"Vinyl\", \"All Media\", \"Box Set\", \"CD\", \"CDr\", \"Cassette\", \"DVD\", \"Hybrid\", \"VHS\", \"Vinyl\", \"\", \"\", \"\", \"\", \"\", \"\", \"\", \"\", \"\", \"\", \"\", \"\", \"\", \"\", \"\", \"\"], \"type\": \"sunburst\", \"values\": [10, 1, 176, 1, 1, 671, 1, 12, 1, 2256, 1, 68, 2, 1, 7, 2664, 1, 3, 61, 2, 11, 588, 2, 20, 659, 1, 5, 140, 1, 1, 1, 486, 3, 5, 19, 262, 4, 10, 22, 2, 947, 1, 1, 20, 10, 1, 18, 1, 45, 2, 1, 2, 138, 1, 1, 3, 188, 2, 282, 3, 17, 3, 1, 330, 1, 6, 835, 2, 18, 42, 1, 6, 607, 2, 20, 659, 1, 5, 140, 1, 1, 1, 486, 3, 5, 19, 262, 4, 10, 22, 2, 947, 1, 1, 20, 10, 1, 186, 2, 18, 1, 1, 716, 3, 1, 2, 138, 1, 12, 1, 1, 3, 2444, 3, 282, 71, 19, 3, 1, 8, 2994, 2, 9, 835, 2, 79, 44, 1, 17, 1195, 10, 6, 56, 2194, 9, 178, 227, 1, 3, 5, 1, 1, 3, 1, 25, 8998]}],\n",
       "                        {\"legend\": {\"tracegroupgap\": 0}, \"margin\": {\"t\": 60}, \"sunburstcolorway\": [\"#005867\", \"#FFB335\", \"#F3F1EA\", \"#2E383D\"], \"template\": {\"data\": {\"bar\": [{\"error_x\": {\"color\": \"#2a3f5f\"}, \"error_y\": {\"color\": \"#2a3f5f\"}, \"marker\": {\"line\": {\"color\": \"#E5ECF6\", \"width\": 0.5}}, \"type\": \"bar\"}], \"barpolar\": [{\"marker\": {\"line\": {\"color\": \"#E5ECF6\", \"width\": 0.5}}, \"type\": \"barpolar\"}], \"carpet\": [{\"aaxis\": {\"endlinecolor\": \"#2a3f5f\", \"gridcolor\": \"white\", \"linecolor\": \"white\", \"minorgridcolor\": \"white\", \"startlinecolor\": \"#2a3f5f\"}, \"baxis\": {\"endlinecolor\": \"#2a3f5f\", \"gridcolor\": \"white\", \"linecolor\": \"white\", \"minorgridcolor\": \"white\", \"startlinecolor\": \"#2a3f5f\"}, \"type\": \"carpet\"}], \"choropleth\": [{\"colorbar\": {\"outlinewidth\": 0, \"ticks\": \"\"}, \"type\": \"choropleth\"}], \"contour\": [{\"colorbar\": {\"outlinewidth\": 0, \"ticks\": \"\"}, \"colorscale\": [[0.0, \"#0d0887\"], [0.1111111111111111, \"#46039f\"], [0.2222222222222222, \"#7201a8\"], [0.3333333333333333, \"#9c179e\"], [0.4444444444444444, \"#bd3786\"], [0.5555555555555556, \"#d8576b\"], [0.6666666666666666, \"#ed7953\"], [0.7777777777777778, \"#fb9f3a\"], [0.8888888888888888, \"#fdca26\"], [1.0, \"#f0f921\"]], \"type\": \"contour\"}], \"contourcarpet\": [{\"colorbar\": {\"outlinewidth\": 0, \"ticks\": \"\"}, \"type\": \"contourcarpet\"}], \"heatmap\": [{\"colorbar\": {\"outlinewidth\": 0, \"ticks\": \"\"}, \"colorscale\": [[0.0, \"#0d0887\"], [0.1111111111111111, \"#46039f\"], [0.2222222222222222, \"#7201a8\"], [0.3333333333333333, \"#9c179e\"], [0.4444444444444444, \"#bd3786\"], [0.5555555555555556, \"#d8576b\"], [0.6666666666666666, \"#ed7953\"], [0.7777777777777778, \"#fb9f3a\"], [0.8888888888888888, \"#fdca26\"], [1.0, \"#f0f921\"]], \"type\": \"heatmap\"}], \"heatmapgl\": [{\"colorbar\": {\"outlinewidth\": 0, \"ticks\": \"\"}, \"colorscale\": [[0.0, \"#0d0887\"], [0.1111111111111111, \"#46039f\"], [0.2222222222222222, \"#7201a8\"], [0.3333333333333333, \"#9c179e\"], [0.4444444444444444, \"#bd3786\"], [0.5555555555555556, \"#d8576b\"], [0.6666666666666666, \"#ed7953\"], [0.7777777777777778, \"#fb9f3a\"], [0.8888888888888888, \"#fdca26\"], [1.0, \"#f0f921\"]], \"type\": \"heatmapgl\"}], \"histogram\": [{\"marker\": {\"colorbar\": {\"outlinewidth\": 0, \"ticks\": \"\"}}, \"type\": \"histogram\"}], \"histogram2d\": [{\"colorbar\": {\"outlinewidth\": 0, \"ticks\": \"\"}, \"colorscale\": [[0.0, \"#0d0887\"], [0.1111111111111111, \"#46039f\"], [0.2222222222222222, \"#7201a8\"], [0.3333333333333333, \"#9c179e\"], [0.4444444444444444, \"#bd3786\"], [0.5555555555555556, \"#d8576b\"], [0.6666666666666666, \"#ed7953\"], [0.7777777777777778, \"#fb9f3a\"], [0.8888888888888888, \"#fdca26\"], [1.0, \"#f0f921\"]], \"type\": \"histogram2d\"}], \"histogram2dcontour\": [{\"colorbar\": {\"outlinewidth\": 0, \"ticks\": \"\"}, \"colorscale\": [[0.0, \"#0d0887\"], [0.1111111111111111, \"#46039f\"], [0.2222222222222222, \"#7201a8\"], [0.3333333333333333, \"#9c179e\"], [0.4444444444444444, \"#bd3786\"], [0.5555555555555556, \"#d8576b\"], [0.6666666666666666, \"#ed7953\"], [0.7777777777777778, \"#fb9f3a\"], [0.8888888888888888, \"#fdca26\"], [1.0, \"#f0f921\"]], \"type\": \"histogram2dcontour\"}], \"mesh3d\": [{\"colorbar\": {\"outlinewidth\": 0, \"ticks\": \"\"}, \"type\": \"mesh3d\"}], \"parcoords\": [{\"line\": {\"colorbar\": {\"outlinewidth\": 0, \"ticks\": \"\"}}, \"type\": \"parcoords\"}], \"pie\": [{\"automargin\": true, \"type\": \"pie\"}], \"scatter\": [{\"marker\": {\"colorbar\": {\"outlinewidth\": 0, \"ticks\": \"\"}}, \"type\": \"scatter\"}], \"scatter3d\": [{\"line\": {\"colorbar\": {\"outlinewidth\": 0, \"ticks\": \"\"}}, \"marker\": {\"colorbar\": {\"outlinewidth\": 0, \"ticks\": \"\"}}, \"type\": \"scatter3d\"}], \"scattercarpet\": [{\"marker\": {\"colorbar\": {\"outlinewidth\": 0, \"ticks\": \"\"}}, \"type\": \"scattercarpet\"}], \"scattergeo\": [{\"marker\": {\"colorbar\": {\"outlinewidth\": 0, \"ticks\": \"\"}}, \"type\": \"scattergeo\"}], \"scattergl\": [{\"marker\": {\"colorbar\": {\"outlinewidth\": 0, \"ticks\": \"\"}}, \"type\": \"scattergl\"}], \"scattermapbox\": [{\"marker\": {\"colorbar\": {\"outlinewidth\": 0, \"ticks\": \"\"}}, \"type\": \"scattermapbox\"}], \"scatterpolar\": [{\"marker\": {\"colorbar\": {\"outlinewidth\": 0, \"ticks\": \"\"}}, \"type\": \"scatterpolar\"}], \"scatterpolargl\": [{\"marker\": {\"colorbar\": {\"outlinewidth\": 0, \"ticks\": \"\"}}, \"type\": \"scatterpolargl\"}], \"scatterternary\": [{\"marker\": {\"colorbar\": {\"outlinewidth\": 0, \"ticks\": \"\"}}, \"type\": \"scatterternary\"}], \"surface\": [{\"colorbar\": {\"outlinewidth\": 0, \"ticks\": \"\"}, \"colorscale\": [[0.0, \"#0d0887\"], [0.1111111111111111, \"#46039f\"], [0.2222222222222222, \"#7201a8\"], [0.3333333333333333, \"#9c179e\"], [0.4444444444444444, \"#bd3786\"], [0.5555555555555556, \"#d8576b\"], [0.6666666666666666, \"#ed7953\"], [0.7777777777777778, \"#fb9f3a\"], [0.8888888888888888, \"#fdca26\"], [1.0, \"#f0f921\"]], \"type\": \"surface\"}], \"table\": [{\"cells\": {\"fill\": {\"color\": \"#EBF0F8\"}, \"line\": {\"color\": \"white\"}}, \"header\": {\"fill\": {\"color\": \"#C8D4E3\"}, \"line\": {\"color\": \"white\"}}, \"type\": \"table\"}]}, \"layout\": {\"annotationdefaults\": {\"arrowcolor\": \"#2a3f5f\", \"arrowhead\": 0, \"arrowwidth\": 1}, \"coloraxis\": {\"colorbar\": {\"outlinewidth\": 0, \"ticks\": \"\"}}, \"colorscale\": {\"diverging\": [[0, \"#8e0152\"], [0.1, \"#c51b7d\"], [0.2, \"#de77ae\"], [0.3, \"#f1b6da\"], [0.4, \"#fde0ef\"], [0.5, \"#f7f7f7\"], [0.6, \"#e6f5d0\"], [0.7, \"#b8e186\"], [0.8, \"#7fbc41\"], [0.9, \"#4d9221\"], [1, \"#276419\"]], \"sequential\": [[0.0, \"#0d0887\"], [0.1111111111111111, \"#46039f\"], [0.2222222222222222, \"#7201a8\"], [0.3333333333333333, \"#9c179e\"], [0.4444444444444444, \"#bd3786\"], [0.5555555555555556, \"#d8576b\"], [0.6666666666666666, \"#ed7953\"], [0.7777777777777778, \"#fb9f3a\"], [0.8888888888888888, \"#fdca26\"], [1.0, \"#f0f921\"]], \"sequentialminus\": [[0.0, \"#0d0887\"], [0.1111111111111111, \"#46039f\"], [0.2222222222222222, \"#7201a8\"], [0.3333333333333333, \"#9c179e\"], [0.4444444444444444, \"#bd3786\"], [0.5555555555555556, \"#d8576b\"], [0.6666666666666666, \"#ed7953\"], [0.7777777777777778, \"#fb9f3a\"], [0.8888888888888888, \"#fdca26\"], [1.0, \"#f0f921\"]]}, \"colorway\": [\"#636efa\", \"#EF553B\", \"#00cc96\", \"#ab63fa\", \"#FFA15A\", \"#19d3f3\", \"#FF6692\", \"#B6E880\", \"#FF97FF\", \"#FECB52\"], \"font\": {\"color\": \"#2a3f5f\"}, \"geo\": {\"bgcolor\": \"white\", \"lakecolor\": \"white\", \"landcolor\": \"#E5ECF6\", \"showlakes\": true, \"showland\": true, \"subunitcolor\": \"white\"}, \"hoverlabel\": {\"align\": \"left\"}, \"hovermode\": \"closest\", \"mapbox\": {\"style\": \"light\"}, \"paper_bgcolor\": \"white\", \"plot_bgcolor\": \"#E5ECF6\", \"polar\": {\"angularaxis\": {\"gridcolor\": \"white\", \"linecolor\": \"white\", \"ticks\": \"\"}, \"bgcolor\": \"#E5ECF6\", \"radialaxis\": {\"gridcolor\": \"white\", \"linecolor\": \"white\", \"ticks\": \"\"}}, \"scene\": {\"xaxis\": {\"backgroundcolor\": \"#E5ECF6\", \"gridcolor\": \"white\", \"gridwidth\": 2, \"linecolor\": \"white\", \"showbackground\": true, \"ticks\": \"\", \"zerolinecolor\": \"white\"}, \"yaxis\": {\"backgroundcolor\": \"#E5ECF6\", \"gridcolor\": \"white\", \"gridwidth\": 2, \"linecolor\": \"white\", \"showbackground\": true, \"ticks\": \"\", \"zerolinecolor\": \"white\"}, \"zaxis\": {\"backgroundcolor\": \"#E5ECF6\", \"gridcolor\": \"white\", \"gridwidth\": 2, \"linecolor\": \"white\", \"showbackground\": true, \"ticks\": \"\", \"zerolinecolor\": \"white\"}}, \"shapedefaults\": {\"line\": {\"color\": \"#2a3f5f\"}}, \"ternary\": {\"aaxis\": {\"gridcolor\": \"white\", \"linecolor\": \"white\", \"ticks\": \"\"}, \"baxis\": {\"gridcolor\": \"white\", \"linecolor\": \"white\", \"ticks\": \"\"}, \"bgcolor\": \"#E5ECF6\", \"caxis\": {\"gridcolor\": \"white\", \"linecolor\": \"white\", \"ticks\": \"\"}}, \"title\": {\"x\": 0.05}, \"xaxis\": {\"automargin\": true, \"gridcolor\": \"white\", \"linecolor\": \"white\", \"ticks\": \"\", \"title\": {\"standoff\": 15}, \"zerolinecolor\": \"white\", \"zerolinewidth\": 2}, \"yaxis\": {\"automargin\": true, \"gridcolor\": \"white\", \"linecolor\": \"white\", \"ticks\": \"\", \"title\": {\"standoff\": 15}, \"zerolinecolor\": \"white\", \"zerolinewidth\": 2}}}},\n",
       "                        {\"responsive\": true}\n",
       "                    ).then(function(){\n",
       "                            \n",
       "var gd = document.getElementById('14fdfe5a-2a3d-483d-bd88-4769994c2584');\n",
       "var x = new MutationObserver(function (mutations, observer) {{\n",
       "        var display = window.getComputedStyle(gd).display;\n",
       "        if (!display || display === 'none') {{\n",
       "            console.log([gd, 'removed!']);\n",
       "            Plotly.purge(gd);\n",
       "            observer.disconnect();\n",
       "        }}\n",
       "}});\n",
       "\n",
       "// Listen for the removal of the full notebook cells\n",
       "var notebookContainer = gd.closest('#notebook-container');\n",
       "if (notebookContainer) {{\n",
       "    x.observe(notebookContainer, {childList: true});\n",
       "}}\n",
       "\n",
       "// Listen for the clearing of the current output cell\n",
       "var outputEl = gd.closest('.output');\n",
       "if (outputEl) {{\n",
       "    x.observe(outputEl, {childList: true});\n",
       "}}\n",
       "\n",
       "                        })\n",
       "                };\n",
       "                });\n",
       "            </script>\n",
       "        </div>"
      ]
     },
     "metadata": {},
     "output_type": "display_data"
    }
   ],
   "source": [
    "cm_466 = ['#005867','#FFB335','#F3F1EA','#2E383D'] #taken from https://www.instagram.com/colours.cafe/\n",
    "releases_by_format_decade = count_by(all_releases_df,['format','decade','Tipo'],'album')\n",
    "px.sunburst(releases_by_format_decade, path=['format','decade','Tipo'], values='total',color_discrete_sequence=cm_466)\n"
   ]
  },
  {
   "cell_type": "markdown",
   "metadata": {},
   "source": [
    "En general, los géneros más coleccionados son el Rock (62%)🤘, específicamente Rock Alternativo (13%), Pop Rock (12%), Hard Rock (11%) y Heavy Metal (5%); seguido por Electrónica (19%), específicamente Synth-pop (18%), New wave (9%) y Alternativo (9%); y Latin (6%), específicamente Salsa (45%), Cumbia (9%) y Bolero (6%). Cabe aclarar que los diferentes géneros y subgéneros usado en esta gráfica fueron extraídos directamente de la base de datos de Discogs."
   ]
  },
  {
   "cell_type": "code",
   "execution_count": 18,
   "metadata": {},
   "outputs": [
    {
     "data": {
      "application/vnd.plotly.v1+json": {
       "config": {
        "plotlyServerURL": "https://plot.ly"
       },
       "data": [
        {
         "branchvalues": "total",
         "domain": {
          "x": [
           0,
           1
          ],
          "y": [
           0,
           1
          ]
         },
         "hovertemplate": "labels=%{label}<br>total=%{value}<br>parent=%{parent}<br>id=%{id}<extra></extra>",
         "ids": [
          "Rock/AOR",
          "Electronic/Abstract",
          "Rock/Abstract",
          "Electronic/Acid",
          "Electronic/Acid House",
          "Electronic/Acid Jazz",
          "Rock/Acid Rock",
          "Electronic/Acoustic",
          "Funk / Soul/Acoustic",
          "Jazz/Acoustic",
          "Pop/Acoustic",
          "Rock/Acoustic",
          "Electronic/African",
          "Folk, World, & Country/African",
          "Electronic/Afro-Cuban",
          "Jazz/Afro-Cuban",
          "Latin/Afro-Cuban",
          "Rock/Afro-Cuban",
          "Electronic/Afro-Cuban Jazz",
          "Jazz/Afro-Cuban Jazz",
          "Electronic/Alternative Rock",
          "Hip Hop/Alternative Rock",
          "Jazz/Alternative Rock",
          "Latin/Alternative Rock",
          "Rock/Alternative Rock",
          "Electronic/Ambient",
          "Rock/Arena Rock",
          "Electronic/Art Rock",
          "Jazz/Art Rock",
          "Rock/Art Rock",
          "Non-Music/Audiobook",
          "Jazz/Avant-garde Jazz",
          "Electronic/Avantgarde",
          "Rock/Avantgarde",
          "Electronic/Ballad",
          "Funk / Soul/Ballad",
          "Jazz/Ballad",
          "Latin/Ballad",
          "Pop/Ballad",
          "Rock/Ballad",
          "Classical/Baroque",
          "Electronic/Baroque",
          "Jazz/Baroque",
          "Funk / Soul/Bayou Funk",
          "Rock/Beat",
          "Electronic/Berlin-School",
          "Jazz/Big Band",
          "Pop/Big Band",
          "Electronic/Big Beat",
          "Electronic/Black Metal",
          "Rock/Black Metal",
          "Jazz/Bluegrass",
          "Electronic/Blues Rock",
          "Hip Hop/Blues Rock",
          "Jazz/Blues Rock",
          "Rock/Blues Rock",
          "Jazz/Bolero",
          "Latin/Bolero",
          "Rock/Bolero",
          "Jazz/Boogaloo",
          "Latin/Boogaloo",
          "Hip Hop/Boom Bap",
          "Jazz/Bop",
          "Jazz/Bossa Nova",
          "Electronic/Bossanova",
          "Jazz/Bossanova",
          "Latin/Bossanova",
          "Electronic/Breakbeat",
          "Electronic/Breaks",
          "Rock/Brit Pop",
          "Electronic/Broken Beat",
          "Jazz/Calypso",
          "Latin/Calypso",
          "Pop/Canzone Napoletana",
          "Jazz/Cha-Cha",
          "Latin/Cha-Cha",
          "Rock/Cha-Cha",
          "Electronic/Chanson",
          "Latin/Chanson",
          "Pop/Chanson",
          "Rock/Chanson",
          "Latin/Charanga",
          "Blues/Chicago Blues",
          "Electronic/Classic Rock",
          "Rock/Classic Rock",
          "Classical/Classical",
          "Jazz/Classical",
          "Rock/Classical",
          "Latin/Conjunto",
          "Hip Hop/Conscious",
          "Classical/Contemporary",
          "Jazz/Contemporary",
          "Jazz/Contemporary Jazz",
          "Electronic/Contemporary R&B",
          "Funk / Soul/Contemporary R&B",
          "Hip Hop/Contemporary R&B",
          "Jazz/Cool Jazz",
          "Folk, World, & Country/Country",
          "Pop/Country",
          "Rock/Country",
          "Blues/Country Blues",
          "Rock/Country Blues",
          "Pop/Country Rock",
          "Rock/Country Rock",
          "Jazz/Cubano",
          "Latin/Cubano",
          "Electronic/Cumbia",
          "Jazz/Cumbia",
          "Latin/Cumbia",
          "Reggae/Cumbia",
          "Rock/Cumbia",
          "Hip Hop/Cut-up/DJ",
          "Electronic/Dance-pop",
          "Hip Hop/Dancehall",
          "Reggae/Dancehall",
          "Latin/Danzon",
          "Electronic/Dark Ambient",
          "Electronic/Darkwave",
          "Rock/Death Metal",
          "Electronic/Deep House",
          "Blues/Delta Blues",
          "Jazz/Descarga",
          "Latin/Descarga",
          "Rock/Dialogue",
          "Electronic/Disco",
          "Funk / Soul/Disco",
          "Jazz/Disco",
          "Pop/Disco",
          "Rock/Disco",
          "Jazz/Dixieland",
          "Electronic/Doom Metal",
          "Rock/Doom Metal",
          "Electronic/Downtempo",
          "Jazz/Downtempo",
          "Latin/Downtempo",
          "Rock/Downtempo",
          "Rock/Dream Pop",
          "Electronic/Drum n Bass",
          "Electronic/Dub",
          "Reggae/Dub",
          "Rock/Dub",
          "Electronic/Dub Techno",
          "Electronic/Dubstep",
          "Electronic/EBM",
          "Classical/Early",
          "Jazz/East Coast Blues",
          "Jazz/Easy Listening",
          "Latin/Easy Listening",
          "Children's/Educational",
          "Classical/Educational",
          "Blues/Electric Blues",
          "Hip Hop/Electric Blues",
          "Rock/Electric Blues",
          "Electronic/Electro",
          "Electronic/Electro House",
          "Classical/Emo",
          "Rock/Emo",
          "Electronic/Ethereal",
          "Rock/Ethereal",
          "Electronic/Euro House",
          "Electronic/Eurodance",
          "Electronic/Europop",
          "Pop/Europop",
          "Rock/Europop",
          "Electronic/Experimental",
          "Jazz/Experimental",
          "Pop/Experimental",
          "Rock/Experimental",
          "Pop/Fado",
          "Folk, World, & Country/Field Recording",
          "Electronic/Flamenco",
          "Jazz/Flamenco",
          "Latin/Flamenco",
          "Rock/Flamenco",
          "Blues/Folk",
          "Brass & Military/Folk",
          "Classical/Folk",
          "Electronic/Folk",
          "Folk, World, & Country/Folk",
          "Jazz/Folk",
          "Latin/Folk",
          "Non-Music/Folk",
          "Pop/Folk",
          "Rock/Folk",
          "Rock/Folk Metal",
          "Electronic/Folk Rock",
          "Folk, World, & Country/Folk Rock",
          "Funk / Soul/Folk Rock",
          "Jazz/Folk Rock",
          "Pop/Folk Rock",
          "Reggae/Folk Rock",
          "Rock/Folk Rock",
          "Jazz/Free Improvisation",
          "Electronic/Free Jazz",
          "Jazz/Free Jazz",
          "Electronic/Freestyle",
          "Electronic/Funk",
          "Funk / Soul/Funk",
          "Latin/Funk",
          "Rock/Funk",
          "Electronic/Funk Metal",
          "Rock/Funk Metal",
          "Electronic/Fusion",
          "Jazz/Fusion",
          "Rock/Fusion",
          "Electronic/Future Jazz",
          "Folk, World, & Country/Gagaku",
          "Folk, World, & Country/Gamelan",
          "Hip Hop/Gangsta",
          "Electronic/Garage House",
          "Rock/Garage Rock",
          "Electronic/Glam",
          "Rock/Glam",
          "Electronic/Glitch",
          "Funk / Soul/Gospel",
          "Jazz/Gospel",
          "Rock/Gospel",
          "Electronic/Goth Rock",
          "Rock/Goth Rock",
          "Rock/Gothic Metal",
          "Rock/Grindcore",
          "Rock/Groove Metal",
          "Rock/Grunge",
          "Jazz/Guaguancó",
          "Latin/Guaguancó",
          "Reggae/Guaguancó",
          "Latin/Guajira",
          "Jazz/Guaracha",
          "Latin/Guaracha",
          "Jazz/Gypsy Jazz",
          "Jazz/Hard Bop",
          "Electronic/Hard Rock",
          "Hip Hop/Hard Rock",
          "Rock/Hard Rock",
          "Electronic/Hardcore",
          "Hip Hop/Hardcore",
          "Rock/Hardcore",
          "Hip Hop/Hardcore Hip-Hop",
          "Blues/Harmonica Blues",
          "Electronic/Heavy Metal",
          "Hip Hop/Heavy Metal",
          "Rock/Heavy Metal",
          "Electronic/Hi NRG",
          "Electronic/Hip Hop",
          "Hip Hop/Hip Hop",
          "Electronic/Hip-House",
          "Folk, World, & Country/Honky Tonk",
          "Electronic/House",
          "Rock/House",
          "Electronic/IDM",
          "Electronic/Illbient",
          "Classical/Impressionist",
          "Folk, World, & Country/Indian Classical",
          "Electronic/Indie Pop",
          "Latin/Indie Pop",
          "Pop/Indie Pop",
          "Rock/Indie Pop",
          "Electronic/Indie Rock",
          "Rock/Indie Rock",
          "Electronic/Industrial",
          "Rock/Industrial",
          "Electronic/Industrial Metal",
          "Electronic/Instrumental",
          "Hip Hop/Instrumental",
          "Pop/Instrumental",
          "Electronic/Interview",
          "Non-Music/Interview",
          "Rock/Interview",
          "Electronic/Italo-Disco",
          "Electronic/Jazz-Funk",
          "Funk / Soul/Jazz-Funk",
          "Jazz/Jazz-Funk",
          "Electronic/Jazz-Rock",
          "Jazz/Jazz-Rock",
          "Rock/Jazz-Rock",
          "Latin/Joropo",
          "Electronic/Krautrock",
          "Rock/Krautrock",
          "Latin/Lambada",
          "Electronic/Latin",
          "Latin/Latin",
          "Pop/Latin",
          "Jazz/Latin Jazz",
          "Electronic/Leftfield",
          "Rock/Leftfield",
          "Electronic/Lo-Fi",
          "Rock/Lo-Fi",
          "Blues/Louisiana Blues",
          "Electronic/Lounge",
          "Jazz/Lounge",
          "Pop/Lounge",
          "Rock/Lounge",
          "Reggae/Lovers Rock",
          "Latin/MPB",
          "Rock/MPB",
          "Jazz/Mambo",
          "Latin/Mambo",
          "Latin/Mariachi",
          "Electronic/Marimba",
          "Electronic/Math Rock",
          "Rock/Math Rock",
          "Rock/Melodic Death Metal",
          "Electronic/Merengue",
          "Jazz/Merengue",
          "Latin/Merengue",
          "Electronic/Minimal",
          "Rock/Minneapolis Sound",
          "Rock/Mod",
          "Jazz/Modal",
          "Classical/Modern",
          "Electronic/Modern",
          "Latin/Modern",
          "Electronic/Modern Classical",
          "Folk, World, & Country/Modern Classical",
          "Rock/Modern Classical",
          "Funk / Soul/Modern Electric Blues",
          "Jazz/Monolog",
          "Pop/Music Hall",
          "Rock/Music Hall",
          "Jazz/Musical",
          "Pop/Musical",
          "Stage & Screen/Musical",
          "Electronic/Musique Concrète",
          "Classical/Neo-Classical",
          "Jazz/Neo-Classical",
          "Classical/Neo-Romantic",
          "Rock/Neofolk",
          "Electronic/New Age",
          "Rock/New Age",
          "Electronic/New Jack Swing",
          "Electronic/New Wave",
          "Funk / Soul/New Wave",
          "Hip Hop/New Wave",
          "Pop/New Wave",
          "Rock/New Wave",
          "Rock/No Wave",
          "Electronic/Noise",
          "Rock/Noise",
          "Pop/Novelty",
          "Rock/Novelty",
          "Electronic/Nu Metal",
          "Hip Hop/Nu Metal",
          "Rock/Nu Metal",
          "Electronic/Nu-Disco",
          "Latin/Nueva Cancion",
          "Latin/Nueva Trova",
          "Latin/Nursery Rhymes",
          "Classical/Opera",
          "Electronic/Opera",
          "Rock/Opera",
          "Funk / Soul/P.Funk",
          "Rock/P.Funk",
          "Jazz/Pachanga",
          "Latin/Pachanga",
          "Reggae/Pachanga",
          "Rock/Pachanga",
          "Folk, World, & Country/Pacific",
          "Rock/Pasodoble",
          "Rock/Piano Blues",
          "Electronic/Plena",
          "Hip Hop/Plena",
          "Latin/Plena",
          "Latin/Poetry",
          "Non-Music/Poetry",
          "Latin/Polka",
          "Rock/Pop Punk",
          "Electronic/Pop Rap",
          "Hip Hop/Pop Rap",
          "Electronic/Pop Rock",
          "Funk / Soul/Pop Rock",
          "Hip Hop/Pop Rock",
          "Jazz/Pop Rock",
          "Pop/Pop Rock",
          "Rock/Pop Rock",
          "Latin/Porro",
          "Jazz/Post Bop",
          "Electronic/Post Rock",
          "Rock/Post Rock",
          "Rock/Post-Hardcore",
          "Rock/Post-Metal",
          "Electronic/Post-Punk",
          "Rock/Post-Punk",
          "Rock/Power Metal",
          "Electronic/Power Pop",
          "Rock/Power Pop",
          "Electronic/Prog Rock",
          "Jazz/Prog Rock",
          "Rock/Prog Rock",
          "Electronic/Progressive House",
          "Rock/Progressive Metal",
          "Electronic/Progressive Trance",
          "Folk, World, & Country/Promotional",
          "Rock/Psychedelic",
          "Electronic/Psychedelic Rock",
          "Folk, World, & Country/Psychedelic Rock",
          "Jazz/Psychedelic Rock",
          "Rock/Psychedelic Rock",
          "Rock/Psychobilly",
          "Electronic/Punk",
          "Hip Hop/Punk",
          "Rock/Punk",
          "Hip Hop/Ragga HipHop",
          "Jazz/Ragtime",
          "Latin/Ranchera",
          "Electronic/Reggae",
          "Jazz/Reggae",
          "Reggae/Reggae",
          "Rock/Reggae",
          "Reggae/Reggae-Pop",
          "Electronic/Reggaeton",
          "Folk, World, & Country/Religious",
          "Latin/Religious",
          "Classical/Renaissance",
          "Electronic/Rhythm & Blues",
          "Funk / Soul/Rhythm & Blues",
          "Jazz/Rhythm & Blues",
          "Rock/Rhythm & Blues",
          "Electronic/RnB/Swing",
          "Hip Hop/RnB/Swing",
          "Electronic/Rock & Roll",
          "Jazz/Rock & Roll",
          "Pop/Rock & Roll",
          "Rock/Rock & Roll",
          "Rock/Rock Opera",
          "Jazz/Rockabilly",
          "Rock/Rockabilly",
          "Reggae/Rocksteady",
          "Classical/Romantic",
          "Non-Music/Romantic",
          "Reggae/Roots Reggae",
          "Rock/Roots Reggae",
          "Jazz/Rumba",
          "Latin/Rumba",
          "Jazz/Salsa",
          "Latin/Salsa",
          "Rock/Salsa",
          "Jazz/Samba",
          "Latin/Samba",
          "Pop/Schlager",
          "Classical/Score",
          "Electronic/Score",
          "Jazz/Score",
          "Rock/Score",
          "Electronic/Shoegaze",
          "Rock/Shoegaze",
          "Electronic/Ska",
          "Hip Hop/Ska",
          "Jazz/Ska",
          "Reggae/Ska",
          "Rock/Ska",
          "Rock/Sludge Metal",
          "Electronic/Smooth Jazz",
          "Jazz/Smooth Jazz",
          "Electronic/Soft Rock",
          "Jazz/Soft Rock",
          "Rock/Soft Rock",
          "Latin/Son",
          "Jazz/Son Montuno",
          "Latin/Son Montuno",
          "Electronic/Soul",
          "Funk / Soul/Soul",
          "Jazz/Soul",
          "Reggae/Soul",
          "Rock/Soul",
          "Jazz/Soul-Jazz",
          "Classical/Soundtrack",
          "Electronic/Soundtrack",
          "Folk, World, & Country/Soundtrack",
          "Funk / Soul/Soundtrack",
          "Hip Hop/Soundtrack",
          "Jazz/Soundtrack",
          "Latin/Soundtrack",
          "Non-Music/Soundtrack",
          "Pop/Soundtrack",
          "Rock/Soundtrack",
          "Stage & Screen/Soundtrack",
          "Rock/Southern Rock",
          "Electronic/Space Rock",
          "Rock/Space Rock",
          "Jazz/Space-Age",
          "Rock/Speed Metal",
          "Electronic/Spoken Word",
          "Rock/Stoner Rock",
          "Children's/Story",
          "Non-Music/Story",
          "Pop/Story",
          "Rock/Story",
          "Jazz/Surf",
          "Rock/Surf",
          "Electronic/Swing",
          "Jazz/Swing",
          "Electronic/Symphonic Rock",
          "Rock/Symphonic Rock",
          "Electronic/Synth-pop",
          "Funk / Soul/Synth-pop",
          "Pop/Synth-pop",
          "Rock/Synth-pop",
          "Electronic/Synthwave",
          "Electronic/Tango",
          "Jazz/Tango",
          "Latin/Tango",
          "Electronic/Tech House",
          "Non-Music/Technical",
          "Rock/Technical",
          "Electronic/Techno",
          "Electronic/Theme",
          "Stage & Screen/Theme",
          "Electronic/Thrash",
          "Rock/Thrash",
          "Electronic/Trance",
          "Electronic/Trap",
          "Electronic/Tribal",
          "Electronic/Trip Hop",
          "Latin/Trova",
          "Latin/Vallenato",
          "Rock/Viking Metal",
          "Electronic/Vocal",
          "Funk / Soul/Vocal",
          "Jazz/Vocal",
          "Latin/Vocal",
          "Pop/Vocal",
          "Rock/Vocal",
          "Blues",
          "Brass & Military",
          "Children's",
          "Classical",
          "Electronic",
          "Folk, World, & Country",
          "Funk / Soul",
          "Hip Hop",
          "Jazz",
          "Latin",
          "Non-Music",
          "Pop",
          "Reggae",
          "Rock",
          "Stage & Screen"
         ],
         "labels": [
          "AOR",
          "Abstract",
          "Abstract",
          "Acid",
          "Acid House",
          "Acid Jazz",
          "Acid Rock",
          "Acoustic",
          "Acoustic",
          "Acoustic",
          "Acoustic",
          "Acoustic",
          "African",
          "African",
          "Afro-Cuban",
          "Afro-Cuban",
          "Afro-Cuban",
          "Afro-Cuban",
          "Afro-Cuban Jazz",
          "Afro-Cuban Jazz",
          "Alternative Rock",
          "Alternative Rock",
          "Alternative Rock",
          "Alternative Rock",
          "Alternative Rock",
          "Ambient",
          "Arena Rock",
          "Art Rock",
          "Art Rock",
          "Art Rock",
          "Audiobook",
          "Avant-garde Jazz",
          "Avantgarde",
          "Avantgarde",
          "Ballad",
          "Ballad",
          "Ballad",
          "Ballad",
          "Ballad",
          "Ballad",
          "Baroque",
          "Baroque",
          "Baroque",
          "Bayou Funk",
          "Beat",
          "Berlin-School",
          "Big Band",
          "Big Band",
          "Big Beat",
          "Black Metal",
          "Black Metal",
          "Bluegrass",
          "Blues Rock",
          "Blues Rock",
          "Blues Rock",
          "Blues Rock",
          "Bolero",
          "Bolero",
          "Bolero",
          "Boogaloo",
          "Boogaloo",
          "Boom Bap",
          "Bop",
          "Bossa Nova",
          "Bossanova",
          "Bossanova",
          "Bossanova",
          "Breakbeat",
          "Breaks",
          "Brit Pop",
          "Broken Beat",
          "Calypso",
          "Calypso",
          "Canzone Napoletana",
          "Cha-Cha",
          "Cha-Cha",
          "Cha-Cha",
          "Chanson",
          "Chanson",
          "Chanson",
          "Chanson",
          "Charanga",
          "Chicago Blues",
          "Classic Rock",
          "Classic Rock",
          "Classical",
          "Classical",
          "Classical",
          "Conjunto",
          "Conscious",
          "Contemporary",
          "Contemporary",
          "Contemporary Jazz",
          "Contemporary R&B",
          "Contemporary R&B",
          "Contemporary R&B",
          "Cool Jazz",
          "Country",
          "Country",
          "Country",
          "Country Blues",
          "Country Blues",
          "Country Rock",
          "Country Rock",
          "Cubano",
          "Cubano",
          "Cumbia",
          "Cumbia",
          "Cumbia",
          "Cumbia",
          "Cumbia",
          "Cut-up/DJ",
          "Dance-pop",
          "Dancehall",
          "Dancehall",
          "Danzon",
          "Dark Ambient",
          "Darkwave",
          "Death Metal",
          "Deep House",
          "Delta Blues",
          "Descarga",
          "Descarga",
          "Dialogue",
          "Disco",
          "Disco",
          "Disco",
          "Disco",
          "Disco",
          "Dixieland",
          "Doom Metal",
          "Doom Metal",
          "Downtempo",
          "Downtempo",
          "Downtempo",
          "Downtempo",
          "Dream Pop",
          "Drum n Bass",
          "Dub",
          "Dub",
          "Dub",
          "Dub Techno",
          "Dubstep",
          "EBM",
          "Early",
          "East Coast Blues",
          "Easy Listening",
          "Easy Listening",
          "Educational",
          "Educational",
          "Electric Blues",
          "Electric Blues",
          "Electric Blues",
          "Electro",
          "Electro House",
          "Emo",
          "Emo",
          "Ethereal",
          "Ethereal",
          "Euro House",
          "Eurodance",
          "Europop",
          "Europop",
          "Europop",
          "Experimental",
          "Experimental",
          "Experimental",
          "Experimental",
          "Fado",
          "Field Recording",
          "Flamenco",
          "Flamenco",
          "Flamenco",
          "Flamenco",
          "Folk",
          "Folk",
          "Folk",
          "Folk",
          "Folk",
          "Folk",
          "Folk",
          "Folk",
          "Folk",
          "Folk",
          "Folk Metal",
          "Folk Rock",
          "Folk Rock",
          "Folk Rock",
          "Folk Rock",
          "Folk Rock",
          "Folk Rock",
          "Folk Rock",
          "Free Improvisation",
          "Free Jazz",
          "Free Jazz",
          "Freestyle",
          "Funk",
          "Funk",
          "Funk",
          "Funk",
          "Funk Metal",
          "Funk Metal",
          "Fusion",
          "Fusion",
          "Fusion",
          "Future Jazz",
          "Gagaku",
          "Gamelan",
          "Gangsta",
          "Garage House",
          "Garage Rock",
          "Glam",
          "Glam",
          "Glitch",
          "Gospel",
          "Gospel",
          "Gospel",
          "Goth Rock",
          "Goth Rock",
          "Gothic Metal",
          "Grindcore",
          "Groove Metal",
          "Grunge",
          "Guaguancó",
          "Guaguancó",
          "Guaguancó",
          "Guajira",
          "Guaracha",
          "Guaracha",
          "Gypsy Jazz",
          "Hard Bop",
          "Hard Rock",
          "Hard Rock",
          "Hard Rock",
          "Hardcore",
          "Hardcore",
          "Hardcore",
          "Hardcore Hip-Hop",
          "Harmonica Blues",
          "Heavy Metal",
          "Heavy Metal",
          "Heavy Metal",
          "Hi NRG",
          "Hip Hop",
          "Hip Hop",
          "Hip-House",
          "Honky Tonk",
          "House",
          "House",
          "IDM",
          "Illbient",
          "Impressionist",
          "Indian Classical",
          "Indie Pop",
          "Indie Pop",
          "Indie Pop",
          "Indie Pop",
          "Indie Rock",
          "Indie Rock",
          "Industrial",
          "Industrial",
          "Industrial Metal",
          "Instrumental",
          "Instrumental",
          "Instrumental",
          "Interview",
          "Interview",
          "Interview",
          "Italo-Disco",
          "Jazz-Funk",
          "Jazz-Funk",
          "Jazz-Funk",
          "Jazz-Rock",
          "Jazz-Rock",
          "Jazz-Rock",
          "Joropo",
          "Krautrock",
          "Krautrock",
          "Lambada",
          "Latin",
          "Latin",
          "Latin",
          "Latin Jazz",
          "Leftfield",
          "Leftfield",
          "Lo-Fi",
          "Lo-Fi",
          "Louisiana Blues",
          "Lounge",
          "Lounge",
          "Lounge",
          "Lounge",
          "Lovers Rock",
          "MPB",
          "MPB",
          "Mambo",
          "Mambo",
          "Mariachi",
          "Marimba",
          "Math Rock",
          "Math Rock",
          "Melodic Death Metal",
          "Merengue",
          "Merengue",
          "Merengue",
          "Minimal",
          "Minneapolis Sound",
          "Mod",
          "Modal",
          "Modern",
          "Modern",
          "Modern",
          "Modern Classical",
          "Modern Classical",
          "Modern Classical",
          "Modern Electric Blues",
          "Monolog",
          "Music Hall",
          "Music Hall",
          "Musical",
          "Musical",
          "Musical",
          "Musique Concrète",
          "Neo-Classical",
          "Neo-Classical",
          "Neo-Romantic",
          "Neofolk",
          "New Age",
          "New Age",
          "New Jack Swing",
          "New Wave",
          "New Wave",
          "New Wave",
          "New Wave",
          "New Wave",
          "No Wave",
          "Noise",
          "Noise",
          "Novelty",
          "Novelty",
          "Nu Metal",
          "Nu Metal",
          "Nu Metal",
          "Nu-Disco",
          "Nueva Cancion",
          "Nueva Trova",
          "Nursery Rhymes",
          "Opera",
          "Opera",
          "Opera",
          "P.Funk",
          "P.Funk",
          "Pachanga",
          "Pachanga",
          "Pachanga",
          "Pachanga",
          "Pacific",
          "Pasodoble",
          "Piano Blues",
          "Plena",
          "Plena",
          "Plena",
          "Poetry",
          "Poetry",
          "Polka",
          "Pop Punk",
          "Pop Rap",
          "Pop Rap",
          "Pop Rock",
          "Pop Rock",
          "Pop Rock",
          "Pop Rock",
          "Pop Rock",
          "Pop Rock",
          "Porro",
          "Post Bop",
          "Post Rock",
          "Post Rock",
          "Post-Hardcore",
          "Post-Metal",
          "Post-Punk",
          "Post-Punk",
          "Power Metal",
          "Power Pop",
          "Power Pop",
          "Prog Rock",
          "Prog Rock",
          "Prog Rock",
          "Progressive House",
          "Progressive Metal",
          "Progressive Trance",
          "Promotional",
          "Psychedelic",
          "Psychedelic Rock",
          "Psychedelic Rock",
          "Psychedelic Rock",
          "Psychedelic Rock",
          "Psychobilly",
          "Punk",
          "Punk",
          "Punk",
          "Ragga HipHop",
          "Ragtime",
          "Ranchera",
          "Reggae",
          "Reggae",
          "Reggae",
          "Reggae",
          "Reggae-Pop",
          "Reggaeton",
          "Religious",
          "Religious",
          "Renaissance",
          "Rhythm & Blues",
          "Rhythm & Blues",
          "Rhythm & Blues",
          "Rhythm & Blues",
          "RnB/Swing",
          "RnB/Swing",
          "Rock & Roll",
          "Rock & Roll",
          "Rock & Roll",
          "Rock & Roll",
          "Rock Opera",
          "Rockabilly",
          "Rockabilly",
          "Rocksteady",
          "Romantic",
          "Romantic",
          "Roots Reggae",
          "Roots Reggae",
          "Rumba",
          "Rumba",
          "Salsa",
          "Salsa",
          "Salsa",
          "Samba",
          "Samba",
          "Schlager",
          "Score",
          "Score",
          "Score",
          "Score",
          "Shoegaze",
          "Shoegaze",
          "Ska",
          "Ska",
          "Ska",
          "Ska",
          "Ska",
          "Sludge Metal",
          "Smooth Jazz",
          "Smooth Jazz",
          "Soft Rock",
          "Soft Rock",
          "Soft Rock",
          "Son",
          "Son Montuno",
          "Son Montuno",
          "Soul",
          "Soul",
          "Soul",
          "Soul",
          "Soul",
          "Soul-Jazz",
          "Soundtrack",
          "Soundtrack",
          "Soundtrack",
          "Soundtrack",
          "Soundtrack",
          "Soundtrack",
          "Soundtrack",
          "Soundtrack",
          "Soundtrack",
          "Soundtrack",
          "Soundtrack",
          "Southern Rock",
          "Space Rock",
          "Space Rock",
          "Space-Age",
          "Speed Metal",
          "Spoken Word",
          "Stoner Rock",
          "Story",
          "Story",
          "Story",
          "Story",
          "Surf",
          "Surf",
          "Swing",
          "Swing",
          "Symphonic Rock",
          "Symphonic Rock",
          "Synth-pop",
          "Synth-pop",
          "Synth-pop",
          "Synth-pop",
          "Synthwave",
          "Tango",
          "Tango",
          "Tango",
          "Tech House",
          "Technical",
          "Technical",
          "Techno",
          "Theme",
          "Theme",
          "Thrash",
          "Thrash",
          "Trance",
          "Trap",
          "Tribal",
          "Trip Hop",
          "Trova",
          "Vallenato",
          "Viking Metal",
          "Vocal",
          "Vocal",
          "Vocal",
          "Vocal",
          "Vocal",
          "Vocal",
          "Blues",
          "Brass & Military",
          "Children's",
          "Classical",
          "Electronic",
          "Folk, World, & Country",
          "Funk / Soul",
          "Hip Hop",
          "Jazz",
          "Latin",
          "Non-Music",
          "Pop",
          "Reggae",
          "Rock",
          "Stage & Screen"
         ],
         "name": "",
         "parents": [
          "Rock",
          "Electronic",
          "Rock",
          "Electronic",
          "Electronic",
          "Electronic",
          "Rock",
          "Electronic",
          "Funk / Soul",
          "Jazz",
          "Pop",
          "Rock",
          "Electronic",
          "Folk, World, & Country",
          "Electronic",
          "Jazz",
          "Latin",
          "Rock",
          "Electronic",
          "Jazz",
          "Electronic",
          "Hip Hop",
          "Jazz",
          "Latin",
          "Rock",
          "Electronic",
          "Rock",
          "Electronic",
          "Jazz",
          "Rock",
          "Non-Music",
          "Jazz",
          "Electronic",
          "Rock",
          "Electronic",
          "Funk / Soul",
          "Jazz",
          "Latin",
          "Pop",
          "Rock",
          "Classical",
          "Electronic",
          "Jazz",
          "Funk / Soul",
          "Rock",
          "Electronic",
          "Jazz",
          "Pop",
          "Electronic",
          "Electronic",
          "Rock",
          "Jazz",
          "Electronic",
          "Hip Hop",
          "Jazz",
          "Rock",
          "Jazz",
          "Latin",
          "Rock",
          "Jazz",
          "Latin",
          "Hip Hop",
          "Jazz",
          "Jazz",
          "Electronic",
          "Jazz",
          "Latin",
          "Electronic",
          "Electronic",
          "Rock",
          "Electronic",
          "Jazz",
          "Latin",
          "Pop",
          "Jazz",
          "Latin",
          "Rock",
          "Electronic",
          "Latin",
          "Pop",
          "Rock",
          "Latin",
          "Blues",
          "Electronic",
          "Rock",
          "Classical",
          "Jazz",
          "Rock",
          "Latin",
          "Hip Hop",
          "Classical",
          "Jazz",
          "Jazz",
          "Electronic",
          "Funk / Soul",
          "Hip Hop",
          "Jazz",
          "Folk, World, & Country",
          "Pop",
          "Rock",
          "Blues",
          "Rock",
          "Pop",
          "Rock",
          "Jazz",
          "Latin",
          "Electronic",
          "Jazz",
          "Latin",
          "Reggae",
          "Rock",
          "Hip Hop",
          "Electronic",
          "Hip Hop",
          "Reggae",
          "Latin",
          "Electronic",
          "Electronic",
          "Rock",
          "Electronic",
          "Blues",
          "Jazz",
          "Latin",
          "Rock",
          "Electronic",
          "Funk / Soul",
          "Jazz",
          "Pop",
          "Rock",
          "Jazz",
          "Electronic",
          "Rock",
          "Electronic",
          "Jazz",
          "Latin",
          "Rock",
          "Rock",
          "Electronic",
          "Electronic",
          "Reggae",
          "Rock",
          "Electronic",
          "Electronic",
          "Electronic",
          "Classical",
          "Jazz",
          "Jazz",
          "Latin",
          "Children's",
          "Classical",
          "Blues",
          "Hip Hop",
          "Rock",
          "Electronic",
          "Electronic",
          "Classical",
          "Rock",
          "Electronic",
          "Rock",
          "Electronic",
          "Electronic",
          "Electronic",
          "Pop",
          "Rock",
          "Electronic",
          "Jazz",
          "Pop",
          "Rock",
          "Pop",
          "Folk, World, & Country",
          "Electronic",
          "Jazz",
          "Latin",
          "Rock",
          "Blues",
          "Brass & Military",
          "Classical",
          "Electronic",
          "Folk, World, & Country",
          "Jazz",
          "Latin",
          "Non-Music",
          "Pop",
          "Rock",
          "Rock",
          "Electronic",
          "Folk, World, & Country",
          "Funk / Soul",
          "Jazz",
          "Pop",
          "Reggae",
          "Rock",
          "Jazz",
          "Electronic",
          "Jazz",
          "Electronic",
          "Electronic",
          "Funk / Soul",
          "Latin",
          "Rock",
          "Electronic",
          "Rock",
          "Electronic",
          "Jazz",
          "Rock",
          "Electronic",
          "Folk, World, & Country",
          "Folk, World, & Country",
          "Hip Hop",
          "Electronic",
          "Rock",
          "Electronic",
          "Rock",
          "Electronic",
          "Funk / Soul",
          "Jazz",
          "Rock",
          "Electronic",
          "Rock",
          "Rock",
          "Rock",
          "Rock",
          "Rock",
          "Jazz",
          "Latin",
          "Reggae",
          "Latin",
          "Jazz",
          "Latin",
          "Jazz",
          "Jazz",
          "Electronic",
          "Hip Hop",
          "Rock",
          "Electronic",
          "Hip Hop",
          "Rock",
          "Hip Hop",
          "Blues",
          "Electronic",
          "Hip Hop",
          "Rock",
          "Electronic",
          "Electronic",
          "Hip Hop",
          "Electronic",
          "Folk, World, & Country",
          "Electronic",
          "Rock",
          "Electronic",
          "Electronic",
          "Classical",
          "Folk, World, & Country",
          "Electronic",
          "Latin",
          "Pop",
          "Rock",
          "Electronic",
          "Rock",
          "Electronic",
          "Rock",
          "Electronic",
          "Electronic",
          "Hip Hop",
          "Pop",
          "Electronic",
          "Non-Music",
          "Rock",
          "Electronic",
          "Electronic",
          "Funk / Soul",
          "Jazz",
          "Electronic",
          "Jazz",
          "Rock",
          "Latin",
          "Electronic",
          "Rock",
          "Latin",
          "Electronic",
          "Latin",
          "Pop",
          "Jazz",
          "Electronic",
          "Rock",
          "Electronic",
          "Rock",
          "Blues",
          "Electronic",
          "Jazz",
          "Pop",
          "Rock",
          "Reggae",
          "Latin",
          "Rock",
          "Jazz",
          "Latin",
          "Latin",
          "Electronic",
          "Electronic",
          "Rock",
          "Rock",
          "Electronic",
          "Jazz",
          "Latin",
          "Electronic",
          "Rock",
          "Rock",
          "Jazz",
          "Classical",
          "Electronic",
          "Latin",
          "Electronic",
          "Folk, World, & Country",
          "Rock",
          "Funk / Soul",
          "Jazz",
          "Pop",
          "Rock",
          "Jazz",
          "Pop",
          "Stage & Screen",
          "Electronic",
          "Classical",
          "Jazz",
          "Classical",
          "Rock",
          "Electronic",
          "Rock",
          "Electronic",
          "Electronic",
          "Funk / Soul",
          "Hip Hop",
          "Pop",
          "Rock",
          "Rock",
          "Electronic",
          "Rock",
          "Pop",
          "Rock",
          "Electronic",
          "Hip Hop",
          "Rock",
          "Electronic",
          "Latin",
          "Latin",
          "Latin",
          "Classical",
          "Electronic",
          "Rock",
          "Funk / Soul",
          "Rock",
          "Jazz",
          "Latin",
          "Reggae",
          "Rock",
          "Folk, World, & Country",
          "Rock",
          "Rock",
          "Electronic",
          "Hip Hop",
          "Latin",
          "Latin",
          "Non-Music",
          "Latin",
          "Rock",
          "Electronic",
          "Hip Hop",
          "Electronic",
          "Funk / Soul",
          "Hip Hop",
          "Jazz",
          "Pop",
          "Rock",
          "Latin",
          "Jazz",
          "Electronic",
          "Rock",
          "Rock",
          "Rock",
          "Electronic",
          "Rock",
          "Rock",
          "Electronic",
          "Rock",
          "Electronic",
          "Jazz",
          "Rock",
          "Electronic",
          "Rock",
          "Electronic",
          "Folk, World, & Country",
          "Rock",
          "Electronic",
          "Folk, World, & Country",
          "Jazz",
          "Rock",
          "Rock",
          "Electronic",
          "Hip Hop",
          "Rock",
          "Hip Hop",
          "Jazz",
          "Latin",
          "Electronic",
          "Jazz",
          "Reggae",
          "Rock",
          "Reggae",
          "Electronic",
          "Folk, World, & Country",
          "Latin",
          "Classical",
          "Electronic",
          "Funk / Soul",
          "Jazz",
          "Rock",
          "Electronic",
          "Hip Hop",
          "Electronic",
          "Jazz",
          "Pop",
          "Rock",
          "Rock",
          "Jazz",
          "Rock",
          "Reggae",
          "Classical",
          "Non-Music",
          "Reggae",
          "Rock",
          "Jazz",
          "Latin",
          "Jazz",
          "Latin",
          "Rock",
          "Jazz",
          "Latin",
          "Pop",
          "Classical",
          "Electronic",
          "Jazz",
          "Rock",
          "Electronic",
          "Rock",
          "Electronic",
          "Hip Hop",
          "Jazz",
          "Reggae",
          "Rock",
          "Rock",
          "Electronic",
          "Jazz",
          "Electronic",
          "Jazz",
          "Rock",
          "Latin",
          "Jazz",
          "Latin",
          "Electronic",
          "Funk / Soul",
          "Jazz",
          "Reggae",
          "Rock",
          "Jazz",
          "Classical",
          "Electronic",
          "Folk, World, & Country",
          "Funk / Soul",
          "Hip Hop",
          "Jazz",
          "Latin",
          "Non-Music",
          "Pop",
          "Rock",
          "Stage & Screen",
          "Rock",
          "Electronic",
          "Rock",
          "Jazz",
          "Rock",
          "Electronic",
          "Rock",
          "Children's",
          "Non-Music",
          "Pop",
          "Rock",
          "Jazz",
          "Rock",
          "Electronic",
          "Jazz",
          "Electronic",
          "Rock",
          "Electronic",
          "Funk / Soul",
          "Pop",
          "Rock",
          "Electronic",
          "Electronic",
          "Jazz",
          "Latin",
          "Electronic",
          "Non-Music",
          "Rock",
          "Electronic",
          "Electronic",
          "Stage & Screen",
          "Electronic",
          "Rock",
          "Electronic",
          "Electronic",
          "Electronic",
          "Electronic",
          "Latin",
          "Latin",
          "Rock",
          "Electronic",
          "Funk / Soul",
          "Jazz",
          "Latin",
          "Pop",
          "Rock",
          "",
          "",
          "",
          "",
          "",
          "",
          "",
          "",
          "",
          "",
          "",
          "",
          "",
          "",
          ""
         ],
         "type": "sunburst",
         "values": [
          8,
          35,
          2,
          2,
          3,
          6,
          4,
          6,
          1,
          1,
          1,
          70,
          2,
          3,
          1,
          15,
          22,
          3,
          1,
          36,
          196,
          17,
          3,
          1,
          960,
          48,
          73,
          42,
          5,
          181,
          1,
          1,
          7,
          7,
          6,
          1,
          3,
          39,
          28,
          11,
          36,
          1,
          1,
          2,
          26,
          6,
          58,
          1,
          7,
          3,
          157,
          1,
          2,
          1,
          5,
          287,
          2,
          44,
          2,
          5,
          5,
          1,
          31,
          7,
          1,
          1,
          1,
          24,
          9,
          25,
          1,
          1,
          1,
          1,
          6,
          13,
          1,
          1,
          2,
          21,
          3,
          9,
          2,
          1,
          282,
          48,
          1,
          1,
          1,
          8,
          7,
          1,
          23,
          9,
          1,
          1,
          13,
          8,
          1,
          3,
          1,
          1,
          1,
          22,
          1,
          15,
          4,
          2,
          65,
          1,
          9,
          2,
          6,
          1,
          2,
          1,
          5,
          9,
          86,
          2,
          1,
          2,
          7,
          1,
          37,
          47,
          1,
          1,
          3,
          4,
          1,
          49,
          100,
          1,
          1,
          3,
          3,
          2,
          16,
          8,
          1,
          1,
          1,
          23,
          1,
          1,
          51,
          2,
          1,
          1,
          2,
          1,
          2,
          107,
          1,
          1,
          10,
          4,
          14,
          11,
          2,
          5,
          14,
          2,
          62,
          2,
          1,
          22,
          1,
          2,
          2,
          1,
          5,
          2,
          1,
          1,
          1,
          1,
          7,
          1,
          5,
          1,
          2,
          7,
          2,
          9,
          3,
          1,
          2,
          3,
          1,
          191,
          2,
          2,
          3,
          3,
          4,
          17,
          2,
          8,
          3,
          21,
          6,
          33,
          3,
          7,
          2,
          1,
          4,
          2,
          45,
          2,
          65,
          1,
          2,
          1,
          1,
          7,
          58,
          20,
          2,
          4,
          102,
          2,
          12,
          1,
          3,
          1,
          8,
          3,
          10,
          3,
          3,
          790,
          2,
          5,
          48,
          4,
          1,
          1,
          5,
          399,
          4,
          1,
          1,
          3,
          1,
          90,
          1,
          14,
          2,
          7,
          2,
          9,
          1,
          8,
          12,
          16,
          248,
          57,
          21,
          10,
          2,
          6,
          1,
          2,
          6,
          11,
          2,
          1,
          1,
          7,
          2,
          22,
          3,
          1,
          32,
          9,
          2,
          11,
          2,
          1,
          40,
          98,
          5,
          2,
          11,
          3,
          1,
          2,
          1,
          3,
          1,
          7,
          2,
          18,
          13,
          2,
          1,
          1,
          2,
          1,
          2,
          1,
          14,
          7,
          1,
          4,
          3,
          40,
          1,
          1,
          35,
          1,
          2,
          1,
          1,
          1,
          1,
          2,
          1,
          16,
          1,
          5,
          1,
          7,
          1,
          7,
          1,
          1,
          201,
          1,
          1,
          1,
          217,
          1,
          2,
          20,
          1,
          1,
          2,
          4,
          76,
          3,
          1,
          2,
          2,
          39,
          1,
          1,
          4,
          1,
          1,
          7,
          1,
          3,
          1,
          1,
          1,
          1,
          1,
          1,
          1,
          1,
          1,
          11,
          3,
          8,
          135,
          1,
          1,
          11,
          5,
          863,
          5,
          13,
          13,
          32,
          3,
          1,
          11,
          64,
          4,
          1,
          11,
          10,
          7,
          381,
          8,
          4,
          1,
          1,
          5,
          9,
          1,
          1,
          288,
          6,
          1,
          2,
          205,
          1,
          6,
          7,
          2,
          1,
          23,
          6,
          9,
          1,
          1,
          1,
          2,
          3,
          14,
          7,
          6,
          1,
          4,
          5,
          2,
          1,
          139,
          1,
          1,
          7,
          2,
          137,
          1,
          6,
          1,
          3,
          7,
          50,
          325,
          3,
          2,
          4,
          1,
          3,
          1,
          1,
          2,
          6,
          29,
          2,
          2,
          1,
          10,
          52,
          3,
          1,
          13,
          3,
          3,
          119,
          14,
          1,
          4,
          6,
          38,
          6,
          1,
          3,
          23,
          12,
          59,
          1,
          3,
          1,
          13,
          6,
          3,
          4,
          60,
          20,
          13,
          4,
          21,
          3,
          36,
          1,
          27,
          2,
          1,
          1,
          1,
          1,
          14,
          1,
          28,
          2,
          22,
          415,
          1,
          5,
          2,
          2,
          2,
          3,
          11,
          2,
          2,
          1,
          34,
          1,
          1,
          2,
          236,
          6,
          2,
          4,
          39,
          2,
          9,
          4,
          3,
          1,
          15,
          5,
          36,
          7,
          11,
          1,
          3,
          347,
          2301,
          35,
          137,
          85,
          657,
          722,
          16,
          144,
          66,
          7456,
          37
         ]
        }
       ],
       "layout": {
        "legend": {
         "tracegroupgap": 0
        },
        "margin": {
         "t": 60
        },
        "sunburstcolorway": [
         "#005867",
         "#FFB335",
         "#F3F1EA",
         "#2E383D"
        ],
        "template": {
         "data": {
          "bar": [
           {
            "error_x": {
             "color": "#2a3f5f"
            },
            "error_y": {
             "color": "#2a3f5f"
            },
            "marker": {
             "line": {
              "color": "#E5ECF6",
              "width": 0.5
             }
            },
            "type": "bar"
           }
          ],
          "barpolar": [
           {
            "marker": {
             "line": {
              "color": "#E5ECF6",
              "width": 0.5
             }
            },
            "type": "barpolar"
           }
          ],
          "carpet": [
           {
            "aaxis": {
             "endlinecolor": "#2a3f5f",
             "gridcolor": "white",
             "linecolor": "white",
             "minorgridcolor": "white",
             "startlinecolor": "#2a3f5f"
            },
            "baxis": {
             "endlinecolor": "#2a3f5f",
             "gridcolor": "white",
             "linecolor": "white",
             "minorgridcolor": "white",
             "startlinecolor": "#2a3f5f"
            },
            "type": "carpet"
           }
          ],
          "choropleth": [
           {
            "colorbar": {
             "outlinewidth": 0,
             "ticks": ""
            },
            "type": "choropleth"
           }
          ],
          "contour": [
           {
            "colorbar": {
             "outlinewidth": 0,
             "ticks": ""
            },
            "colorscale": [
             [
              0,
              "#0d0887"
             ],
             [
              0.1111111111111111,
              "#46039f"
             ],
             [
              0.2222222222222222,
              "#7201a8"
             ],
             [
              0.3333333333333333,
              "#9c179e"
             ],
             [
              0.4444444444444444,
              "#bd3786"
             ],
             [
              0.5555555555555556,
              "#d8576b"
             ],
             [
              0.6666666666666666,
              "#ed7953"
             ],
             [
              0.7777777777777778,
              "#fb9f3a"
             ],
             [
              0.8888888888888888,
              "#fdca26"
             ],
             [
              1,
              "#f0f921"
             ]
            ],
            "type": "contour"
           }
          ],
          "contourcarpet": [
           {
            "colorbar": {
             "outlinewidth": 0,
             "ticks": ""
            },
            "type": "contourcarpet"
           }
          ],
          "heatmap": [
           {
            "colorbar": {
             "outlinewidth": 0,
             "ticks": ""
            },
            "colorscale": [
             [
              0,
              "#0d0887"
             ],
             [
              0.1111111111111111,
              "#46039f"
             ],
             [
              0.2222222222222222,
              "#7201a8"
             ],
             [
              0.3333333333333333,
              "#9c179e"
             ],
             [
              0.4444444444444444,
              "#bd3786"
             ],
             [
              0.5555555555555556,
              "#d8576b"
             ],
             [
              0.6666666666666666,
              "#ed7953"
             ],
             [
              0.7777777777777778,
              "#fb9f3a"
             ],
             [
              0.8888888888888888,
              "#fdca26"
             ],
             [
              1,
              "#f0f921"
             ]
            ],
            "type": "heatmap"
           }
          ],
          "heatmapgl": [
           {
            "colorbar": {
             "outlinewidth": 0,
             "ticks": ""
            },
            "colorscale": [
             [
              0,
              "#0d0887"
             ],
             [
              0.1111111111111111,
              "#46039f"
             ],
             [
              0.2222222222222222,
              "#7201a8"
             ],
             [
              0.3333333333333333,
              "#9c179e"
             ],
             [
              0.4444444444444444,
              "#bd3786"
             ],
             [
              0.5555555555555556,
              "#d8576b"
             ],
             [
              0.6666666666666666,
              "#ed7953"
             ],
             [
              0.7777777777777778,
              "#fb9f3a"
             ],
             [
              0.8888888888888888,
              "#fdca26"
             ],
             [
              1,
              "#f0f921"
             ]
            ],
            "type": "heatmapgl"
           }
          ],
          "histogram": [
           {
            "marker": {
             "colorbar": {
              "outlinewidth": 0,
              "ticks": ""
             }
            },
            "type": "histogram"
           }
          ],
          "histogram2d": [
           {
            "colorbar": {
             "outlinewidth": 0,
             "ticks": ""
            },
            "colorscale": [
             [
              0,
              "#0d0887"
             ],
             [
              0.1111111111111111,
              "#46039f"
             ],
             [
              0.2222222222222222,
              "#7201a8"
             ],
             [
              0.3333333333333333,
              "#9c179e"
             ],
             [
              0.4444444444444444,
              "#bd3786"
             ],
             [
              0.5555555555555556,
              "#d8576b"
             ],
             [
              0.6666666666666666,
              "#ed7953"
             ],
             [
              0.7777777777777778,
              "#fb9f3a"
             ],
             [
              0.8888888888888888,
              "#fdca26"
             ],
             [
              1,
              "#f0f921"
             ]
            ],
            "type": "histogram2d"
           }
          ],
          "histogram2dcontour": [
           {
            "colorbar": {
             "outlinewidth": 0,
             "ticks": ""
            },
            "colorscale": [
             [
              0,
              "#0d0887"
             ],
             [
              0.1111111111111111,
              "#46039f"
             ],
             [
              0.2222222222222222,
              "#7201a8"
             ],
             [
              0.3333333333333333,
              "#9c179e"
             ],
             [
              0.4444444444444444,
              "#bd3786"
             ],
             [
              0.5555555555555556,
              "#d8576b"
             ],
             [
              0.6666666666666666,
              "#ed7953"
             ],
             [
              0.7777777777777778,
              "#fb9f3a"
             ],
             [
              0.8888888888888888,
              "#fdca26"
             ],
             [
              1,
              "#f0f921"
             ]
            ],
            "type": "histogram2dcontour"
           }
          ],
          "mesh3d": [
           {
            "colorbar": {
             "outlinewidth": 0,
             "ticks": ""
            },
            "type": "mesh3d"
           }
          ],
          "parcoords": [
           {
            "line": {
             "colorbar": {
              "outlinewidth": 0,
              "ticks": ""
             }
            },
            "type": "parcoords"
           }
          ],
          "pie": [
           {
            "automargin": true,
            "type": "pie"
           }
          ],
          "scatter": [
           {
            "marker": {
             "colorbar": {
              "outlinewidth": 0,
              "ticks": ""
             }
            },
            "type": "scatter"
           }
          ],
          "scatter3d": [
           {
            "line": {
             "colorbar": {
              "outlinewidth": 0,
              "ticks": ""
             }
            },
            "marker": {
             "colorbar": {
              "outlinewidth": 0,
              "ticks": ""
             }
            },
            "type": "scatter3d"
           }
          ],
          "scattercarpet": [
           {
            "marker": {
             "colorbar": {
              "outlinewidth": 0,
              "ticks": ""
             }
            },
            "type": "scattercarpet"
           }
          ],
          "scattergeo": [
           {
            "marker": {
             "colorbar": {
              "outlinewidth": 0,
              "ticks": ""
             }
            },
            "type": "scattergeo"
           }
          ],
          "scattergl": [
           {
            "marker": {
             "colorbar": {
              "outlinewidth": 0,
              "ticks": ""
             }
            },
            "type": "scattergl"
           }
          ],
          "scattermapbox": [
           {
            "marker": {
             "colorbar": {
              "outlinewidth": 0,
              "ticks": ""
             }
            },
            "type": "scattermapbox"
           }
          ],
          "scatterpolar": [
           {
            "marker": {
             "colorbar": {
              "outlinewidth": 0,
              "ticks": ""
             }
            },
            "type": "scatterpolar"
           }
          ],
          "scatterpolargl": [
           {
            "marker": {
             "colorbar": {
              "outlinewidth": 0,
              "ticks": ""
             }
            },
            "type": "scatterpolargl"
           }
          ],
          "scatterternary": [
           {
            "marker": {
             "colorbar": {
              "outlinewidth": 0,
              "ticks": ""
             }
            },
            "type": "scatterternary"
           }
          ],
          "surface": [
           {
            "colorbar": {
             "outlinewidth": 0,
             "ticks": ""
            },
            "colorscale": [
             [
              0,
              "#0d0887"
             ],
             [
              0.1111111111111111,
              "#46039f"
             ],
             [
              0.2222222222222222,
              "#7201a8"
             ],
             [
              0.3333333333333333,
              "#9c179e"
             ],
             [
              0.4444444444444444,
              "#bd3786"
             ],
             [
              0.5555555555555556,
              "#d8576b"
             ],
             [
              0.6666666666666666,
              "#ed7953"
             ],
             [
              0.7777777777777778,
              "#fb9f3a"
             ],
             [
              0.8888888888888888,
              "#fdca26"
             ],
             [
              1,
              "#f0f921"
             ]
            ],
            "type": "surface"
           }
          ],
          "table": [
           {
            "cells": {
             "fill": {
              "color": "#EBF0F8"
             },
             "line": {
              "color": "white"
             }
            },
            "header": {
             "fill": {
              "color": "#C8D4E3"
             },
             "line": {
              "color": "white"
             }
            },
            "type": "table"
           }
          ]
         },
         "layout": {
          "annotationdefaults": {
           "arrowcolor": "#2a3f5f",
           "arrowhead": 0,
           "arrowwidth": 1
          },
          "coloraxis": {
           "colorbar": {
            "outlinewidth": 0,
            "ticks": ""
           }
          },
          "colorscale": {
           "diverging": [
            [
             0,
             "#8e0152"
            ],
            [
             0.1,
             "#c51b7d"
            ],
            [
             0.2,
             "#de77ae"
            ],
            [
             0.3,
             "#f1b6da"
            ],
            [
             0.4,
             "#fde0ef"
            ],
            [
             0.5,
             "#f7f7f7"
            ],
            [
             0.6,
             "#e6f5d0"
            ],
            [
             0.7,
             "#b8e186"
            ],
            [
             0.8,
             "#7fbc41"
            ],
            [
             0.9,
             "#4d9221"
            ],
            [
             1,
             "#276419"
            ]
           ],
           "sequential": [
            [
             0,
             "#0d0887"
            ],
            [
             0.1111111111111111,
             "#46039f"
            ],
            [
             0.2222222222222222,
             "#7201a8"
            ],
            [
             0.3333333333333333,
             "#9c179e"
            ],
            [
             0.4444444444444444,
             "#bd3786"
            ],
            [
             0.5555555555555556,
             "#d8576b"
            ],
            [
             0.6666666666666666,
             "#ed7953"
            ],
            [
             0.7777777777777778,
             "#fb9f3a"
            ],
            [
             0.8888888888888888,
             "#fdca26"
            ],
            [
             1,
             "#f0f921"
            ]
           ],
           "sequentialminus": [
            [
             0,
             "#0d0887"
            ],
            [
             0.1111111111111111,
             "#46039f"
            ],
            [
             0.2222222222222222,
             "#7201a8"
            ],
            [
             0.3333333333333333,
             "#9c179e"
            ],
            [
             0.4444444444444444,
             "#bd3786"
            ],
            [
             0.5555555555555556,
             "#d8576b"
            ],
            [
             0.6666666666666666,
             "#ed7953"
            ],
            [
             0.7777777777777778,
             "#fb9f3a"
            ],
            [
             0.8888888888888888,
             "#fdca26"
            ],
            [
             1,
             "#f0f921"
            ]
           ]
          },
          "colorway": [
           "#636efa",
           "#EF553B",
           "#00cc96",
           "#ab63fa",
           "#FFA15A",
           "#19d3f3",
           "#FF6692",
           "#B6E880",
           "#FF97FF",
           "#FECB52"
          ],
          "font": {
           "color": "#2a3f5f"
          },
          "geo": {
           "bgcolor": "white",
           "lakecolor": "white",
           "landcolor": "#E5ECF6",
           "showlakes": true,
           "showland": true,
           "subunitcolor": "white"
          },
          "hoverlabel": {
           "align": "left"
          },
          "hovermode": "closest",
          "mapbox": {
           "style": "light"
          },
          "paper_bgcolor": "white",
          "plot_bgcolor": "#E5ECF6",
          "polar": {
           "angularaxis": {
            "gridcolor": "white",
            "linecolor": "white",
            "ticks": ""
           },
           "bgcolor": "#E5ECF6",
           "radialaxis": {
            "gridcolor": "white",
            "linecolor": "white",
            "ticks": ""
           }
          },
          "scene": {
           "xaxis": {
            "backgroundcolor": "#E5ECF6",
            "gridcolor": "white",
            "gridwidth": 2,
            "linecolor": "white",
            "showbackground": true,
            "ticks": "",
            "zerolinecolor": "white"
           },
           "yaxis": {
            "backgroundcolor": "#E5ECF6",
            "gridcolor": "white",
            "gridwidth": 2,
            "linecolor": "white",
            "showbackground": true,
            "ticks": "",
            "zerolinecolor": "white"
           },
           "zaxis": {
            "backgroundcolor": "#E5ECF6",
            "gridcolor": "white",
            "gridwidth": 2,
            "linecolor": "white",
            "showbackground": true,
            "ticks": "",
            "zerolinecolor": "white"
           }
          },
          "shapedefaults": {
           "line": {
            "color": "#2a3f5f"
           }
          },
          "ternary": {
           "aaxis": {
            "gridcolor": "white",
            "linecolor": "white",
            "ticks": ""
           },
           "baxis": {
            "gridcolor": "white",
            "linecolor": "white",
            "ticks": ""
           },
           "bgcolor": "#E5ECF6",
           "caxis": {
            "gridcolor": "white",
            "linecolor": "white",
            "ticks": ""
           }
          },
          "title": {
           "x": 0.05
          },
          "xaxis": {
           "automargin": true,
           "gridcolor": "white",
           "linecolor": "white",
           "ticks": "",
           "title": {
            "standoff": 15
           },
           "zerolinecolor": "white",
           "zerolinewidth": 2
          },
          "yaxis": {
           "automargin": true,
           "gridcolor": "white",
           "linecolor": "white",
           "ticks": "",
           "title": {
            "standoff": 15
           },
           "zerolinecolor": "white",
           "zerolinewidth": 2
          }
         }
        }
       }
      },
      "text/html": [
       "<div>\n",
       "        \n",
       "        \n",
       "            <div id=\"6d234526-8103-4e98-b601-bca7f881a39d\" class=\"plotly-graph-div\" style=\"height:525px; width:100%;\"></div>\n",
       "            <script type=\"text/javascript\">\n",
       "                require([\"plotly\"], function(Plotly) {\n",
       "                    window.PLOTLYENV=window.PLOTLYENV || {};\n",
       "                    \n",
       "                if (document.getElementById(\"6d234526-8103-4e98-b601-bca7f881a39d\")) {\n",
       "                    Plotly.newPlot(\n",
       "                        '6d234526-8103-4e98-b601-bca7f881a39d',\n",
       "                        [{\"branchvalues\": \"total\", \"domain\": {\"x\": [0.0, 1.0], \"y\": [0.0, 1.0]}, \"hovertemplate\": \"labels=%{label}<br>total=%{value}<br>parent=%{parent}<br>id=%{id}<extra></extra>\", \"ids\": [\"Rock/AOR\", \"Electronic/Abstract\", \"Rock/Abstract\", \"Electronic/Acid\", \"Electronic/Acid House\", \"Electronic/Acid Jazz\", \"Rock/Acid Rock\", \"Electronic/Acoustic\", \"Funk / Soul/Acoustic\", \"Jazz/Acoustic\", \"Pop/Acoustic\", \"Rock/Acoustic\", \"Electronic/African\", \"Folk, World, & Country/African\", \"Electronic/Afro-Cuban\", \"Jazz/Afro-Cuban\", \"Latin/Afro-Cuban\", \"Rock/Afro-Cuban\", \"Electronic/Afro-Cuban Jazz\", \"Jazz/Afro-Cuban Jazz\", \"Electronic/Alternative Rock\", \"Hip Hop/Alternative Rock\", \"Jazz/Alternative Rock\", \"Latin/Alternative Rock\", \"Rock/Alternative Rock\", \"Electronic/Ambient\", \"Rock/Arena Rock\", \"Electronic/Art Rock\", \"Jazz/Art Rock\", \"Rock/Art Rock\", \"Non-Music/Audiobook\", \"Jazz/Avant-garde Jazz\", \"Electronic/Avantgarde\", \"Rock/Avantgarde\", \"Electronic/Ballad\", \"Funk / Soul/Ballad\", \"Jazz/Ballad\", \"Latin/Ballad\", \"Pop/Ballad\", \"Rock/Ballad\", \"Classical/Baroque\", \"Electronic/Baroque\", \"Jazz/Baroque\", \"Funk / Soul/Bayou Funk\", \"Rock/Beat\", \"Electronic/Berlin-School\", \"Jazz/Big Band\", \"Pop/Big Band\", \"Electronic/Big Beat\", \"Electronic/Black Metal\", \"Rock/Black Metal\", \"Jazz/Bluegrass\", \"Electronic/Blues Rock\", \"Hip Hop/Blues Rock\", \"Jazz/Blues Rock\", \"Rock/Blues Rock\", \"Jazz/Bolero\", \"Latin/Bolero\", \"Rock/Bolero\", \"Jazz/Boogaloo\", \"Latin/Boogaloo\", \"Hip Hop/Boom Bap\", \"Jazz/Bop\", \"Jazz/Bossa Nova\", \"Electronic/Bossanova\", \"Jazz/Bossanova\", \"Latin/Bossanova\", \"Electronic/Breakbeat\", \"Electronic/Breaks\", \"Rock/Brit Pop\", \"Electronic/Broken Beat\", \"Jazz/Calypso\", \"Latin/Calypso\", \"Pop/Canzone Napoletana\", \"Jazz/Cha-Cha\", \"Latin/Cha-Cha\", \"Rock/Cha-Cha\", \"Electronic/Chanson\", \"Latin/Chanson\", \"Pop/Chanson\", \"Rock/Chanson\", \"Latin/Charanga\", \"Blues/Chicago Blues\", \"Electronic/Classic Rock\", \"Rock/Classic Rock\", \"Classical/Classical\", \"Jazz/Classical\", \"Rock/Classical\", \"Latin/Conjunto\", \"Hip Hop/Conscious\", \"Classical/Contemporary\", \"Jazz/Contemporary\", \"Jazz/Contemporary Jazz\", \"Electronic/Contemporary R&B\", \"Funk / Soul/Contemporary R&B\", \"Hip Hop/Contemporary R&B\", \"Jazz/Cool Jazz\", \"Folk, World, & Country/Country\", \"Pop/Country\", \"Rock/Country\", \"Blues/Country Blues\", \"Rock/Country Blues\", \"Pop/Country Rock\", \"Rock/Country Rock\", \"Jazz/Cubano\", \"Latin/Cubano\", \"Electronic/Cumbia\", \"Jazz/Cumbia\", \"Latin/Cumbia\", \"Reggae/Cumbia\", \"Rock/Cumbia\", \"Hip Hop/Cut-up/DJ\", \"Electronic/Dance-pop\", \"Hip Hop/Dancehall\", \"Reggae/Dancehall\", \"Latin/Danzon\", \"Electronic/Dark Ambient\", \"Electronic/Darkwave\", \"Rock/Death Metal\", \"Electronic/Deep House\", \"Blues/Delta Blues\", \"Jazz/Descarga\", \"Latin/Descarga\", \"Rock/Dialogue\", \"Electronic/Disco\", \"Funk / Soul/Disco\", \"Jazz/Disco\", \"Pop/Disco\", \"Rock/Disco\", \"Jazz/Dixieland\", \"Electronic/Doom Metal\", \"Rock/Doom Metal\", \"Electronic/Downtempo\", \"Jazz/Downtempo\", \"Latin/Downtempo\", \"Rock/Downtempo\", \"Rock/Dream Pop\", \"Electronic/Drum n Bass\", \"Electronic/Dub\", \"Reggae/Dub\", \"Rock/Dub\", \"Electronic/Dub Techno\", \"Electronic/Dubstep\", \"Electronic/EBM\", \"Classical/Early\", \"Jazz/East Coast Blues\", \"Jazz/Easy Listening\", \"Latin/Easy Listening\", \"Children's/Educational\", \"Classical/Educational\", \"Blues/Electric Blues\", \"Hip Hop/Electric Blues\", \"Rock/Electric Blues\", \"Electronic/Electro\", \"Electronic/Electro House\", \"Classical/Emo\", \"Rock/Emo\", \"Electronic/Ethereal\", \"Rock/Ethereal\", \"Electronic/Euro House\", \"Electronic/Eurodance\", \"Electronic/Europop\", \"Pop/Europop\", \"Rock/Europop\", \"Electronic/Experimental\", \"Jazz/Experimental\", \"Pop/Experimental\", \"Rock/Experimental\", \"Pop/Fado\", \"Folk, World, & Country/Field Recording\", \"Electronic/Flamenco\", \"Jazz/Flamenco\", \"Latin/Flamenco\", \"Rock/Flamenco\", \"Blues/Folk\", \"Brass & Military/Folk\", \"Classical/Folk\", \"Electronic/Folk\", \"Folk, World, & Country/Folk\", \"Jazz/Folk\", \"Latin/Folk\", \"Non-Music/Folk\", \"Pop/Folk\", \"Rock/Folk\", \"Rock/Folk Metal\", \"Electronic/Folk Rock\", \"Folk, World, & Country/Folk Rock\", \"Funk / Soul/Folk Rock\", \"Jazz/Folk Rock\", \"Pop/Folk Rock\", \"Reggae/Folk Rock\", \"Rock/Folk Rock\", \"Jazz/Free Improvisation\", \"Electronic/Free Jazz\", \"Jazz/Free Jazz\", \"Electronic/Freestyle\", \"Electronic/Funk\", \"Funk / Soul/Funk\", \"Latin/Funk\", \"Rock/Funk\", \"Electronic/Funk Metal\", \"Rock/Funk Metal\", \"Electronic/Fusion\", \"Jazz/Fusion\", \"Rock/Fusion\", \"Electronic/Future Jazz\", \"Folk, World, & Country/Gagaku\", \"Folk, World, & Country/Gamelan\", \"Hip Hop/Gangsta\", \"Electronic/Garage House\", \"Rock/Garage Rock\", \"Electronic/Glam\", \"Rock/Glam\", \"Electronic/Glitch\", \"Funk / Soul/Gospel\", \"Jazz/Gospel\", \"Rock/Gospel\", \"Electronic/Goth Rock\", \"Rock/Goth Rock\", \"Rock/Gothic Metal\", \"Rock/Grindcore\", \"Rock/Groove Metal\", \"Rock/Grunge\", \"Jazz/Guaguanc\\u00f3\", \"Latin/Guaguanc\\u00f3\", \"Reggae/Guaguanc\\u00f3\", \"Latin/Guajira\", \"Jazz/Guaracha\", \"Latin/Guaracha\", \"Jazz/Gypsy Jazz\", \"Jazz/Hard Bop\", \"Electronic/Hard Rock\", \"Hip Hop/Hard Rock\", \"Rock/Hard Rock\", \"Electronic/Hardcore\", \"Hip Hop/Hardcore\", \"Rock/Hardcore\", \"Hip Hop/Hardcore Hip-Hop\", \"Blues/Harmonica Blues\", \"Electronic/Heavy Metal\", \"Hip Hop/Heavy Metal\", \"Rock/Heavy Metal\", \"Electronic/Hi NRG\", \"Electronic/Hip Hop\", \"Hip Hop/Hip Hop\", \"Electronic/Hip-House\", \"Folk, World, & Country/Honky Tonk\", \"Electronic/House\", \"Rock/House\", \"Electronic/IDM\", \"Electronic/Illbient\", \"Classical/Impressionist\", \"Folk, World, & Country/Indian Classical\", \"Electronic/Indie Pop\", \"Latin/Indie Pop\", \"Pop/Indie Pop\", \"Rock/Indie Pop\", \"Electronic/Indie Rock\", \"Rock/Indie Rock\", \"Electronic/Industrial\", \"Rock/Industrial\", \"Electronic/Industrial Metal\", \"Electronic/Instrumental\", \"Hip Hop/Instrumental\", \"Pop/Instrumental\", \"Electronic/Interview\", \"Non-Music/Interview\", \"Rock/Interview\", \"Electronic/Italo-Disco\", \"Electronic/Jazz-Funk\", \"Funk / Soul/Jazz-Funk\", \"Jazz/Jazz-Funk\", \"Electronic/Jazz-Rock\", \"Jazz/Jazz-Rock\", \"Rock/Jazz-Rock\", \"Latin/Joropo\", \"Electronic/Krautrock\", \"Rock/Krautrock\", \"Latin/Lambada\", \"Electronic/Latin\", \"Latin/Latin\", \"Pop/Latin\", \"Jazz/Latin Jazz\", \"Electronic/Leftfield\", \"Rock/Leftfield\", \"Electronic/Lo-Fi\", \"Rock/Lo-Fi\", \"Blues/Louisiana Blues\", \"Electronic/Lounge\", \"Jazz/Lounge\", \"Pop/Lounge\", \"Rock/Lounge\", \"Reggae/Lovers Rock\", \"Latin/MPB\", \"Rock/MPB\", \"Jazz/Mambo\", \"Latin/Mambo\", \"Latin/Mariachi\", \"Electronic/Marimba\", \"Electronic/Math Rock\", \"Rock/Math Rock\", \"Rock/Melodic Death Metal\", \"Electronic/Merengue\", \"Jazz/Merengue\", \"Latin/Merengue\", \"Electronic/Minimal\", \"Rock/Minneapolis Sound\", \"Rock/Mod\", \"Jazz/Modal\", \"Classical/Modern\", \"Electronic/Modern\", \"Latin/Modern\", \"Electronic/Modern Classical\", \"Folk, World, & Country/Modern Classical\", \"Rock/Modern Classical\", \"Funk / Soul/Modern Electric Blues\", \"Jazz/Monolog\", \"Pop/Music Hall\", \"Rock/Music Hall\", \"Jazz/Musical\", \"Pop/Musical\", \"Stage & Screen/Musical\", \"Electronic/Musique Concr\\u00e8te\", \"Classical/Neo-Classical\", \"Jazz/Neo-Classical\", \"Classical/Neo-Romantic\", \"Rock/Neofolk\", \"Electronic/New Age\", \"Rock/New Age\", \"Electronic/New Jack Swing\", \"Electronic/New Wave\", \"Funk / Soul/New Wave\", \"Hip Hop/New Wave\", \"Pop/New Wave\", \"Rock/New Wave\", \"Rock/No Wave\", \"Electronic/Noise\", \"Rock/Noise\", \"Pop/Novelty\", \"Rock/Novelty\", \"Electronic/Nu Metal\", \"Hip Hop/Nu Metal\", \"Rock/Nu Metal\", \"Electronic/Nu-Disco\", \"Latin/Nueva Cancion\", \"Latin/Nueva Trova\", \"Latin/Nursery Rhymes\", \"Classical/Opera\", \"Electronic/Opera\", \"Rock/Opera\", \"Funk / Soul/P.Funk\", \"Rock/P.Funk\", \"Jazz/Pachanga\", \"Latin/Pachanga\", \"Reggae/Pachanga\", \"Rock/Pachanga\", \"Folk, World, & Country/Pacific\", \"Rock/Pasodoble\", \"Rock/Piano Blues\", \"Electronic/Plena\", \"Hip Hop/Plena\", \"Latin/Plena\", \"Latin/Poetry\", \"Non-Music/Poetry\", \"Latin/Polka\", \"Rock/Pop Punk\", \"Electronic/Pop Rap\", \"Hip Hop/Pop Rap\", \"Electronic/Pop Rock\", \"Funk / Soul/Pop Rock\", \"Hip Hop/Pop Rock\", \"Jazz/Pop Rock\", \"Pop/Pop Rock\", \"Rock/Pop Rock\", \"Latin/Porro\", \"Jazz/Post Bop\", \"Electronic/Post Rock\", \"Rock/Post Rock\", \"Rock/Post-Hardcore\", \"Rock/Post-Metal\", \"Electronic/Post-Punk\", \"Rock/Post-Punk\", \"Rock/Power Metal\", \"Electronic/Power Pop\", \"Rock/Power Pop\", \"Electronic/Prog Rock\", \"Jazz/Prog Rock\", \"Rock/Prog Rock\", \"Electronic/Progressive House\", \"Rock/Progressive Metal\", \"Electronic/Progressive Trance\", \"Folk, World, & Country/Promotional\", \"Rock/Psychedelic\", \"Electronic/Psychedelic Rock\", \"Folk, World, & Country/Psychedelic Rock\", \"Jazz/Psychedelic Rock\", \"Rock/Psychedelic Rock\", \"Rock/Psychobilly\", \"Electronic/Punk\", \"Hip Hop/Punk\", \"Rock/Punk\", \"Hip Hop/Ragga HipHop\", \"Jazz/Ragtime\", \"Latin/Ranchera\", \"Electronic/Reggae\", \"Jazz/Reggae\", \"Reggae/Reggae\", \"Rock/Reggae\", \"Reggae/Reggae-Pop\", \"Electronic/Reggaeton\", \"Folk, World, & Country/Religious\", \"Latin/Religious\", \"Classical/Renaissance\", \"Electronic/Rhythm & Blues\", \"Funk / Soul/Rhythm & Blues\", \"Jazz/Rhythm & Blues\", \"Rock/Rhythm & Blues\", \"Electronic/RnB/Swing\", \"Hip Hop/RnB/Swing\", \"Electronic/Rock & Roll\", \"Jazz/Rock & Roll\", \"Pop/Rock & Roll\", \"Rock/Rock & Roll\", \"Rock/Rock Opera\", \"Jazz/Rockabilly\", \"Rock/Rockabilly\", \"Reggae/Rocksteady\", \"Classical/Romantic\", \"Non-Music/Romantic\", \"Reggae/Roots Reggae\", \"Rock/Roots Reggae\", \"Jazz/Rumba\", \"Latin/Rumba\", \"Jazz/Salsa\", \"Latin/Salsa\", \"Rock/Salsa\", \"Jazz/Samba\", \"Latin/Samba\", \"Pop/Schlager\", \"Classical/Score\", \"Electronic/Score\", \"Jazz/Score\", \"Rock/Score\", \"Electronic/Shoegaze\", \"Rock/Shoegaze\", \"Electronic/Ska\", \"Hip Hop/Ska\", \"Jazz/Ska\", \"Reggae/Ska\", \"Rock/Ska\", \"Rock/Sludge Metal\", \"Electronic/Smooth Jazz\", \"Jazz/Smooth Jazz\", \"Electronic/Soft Rock\", \"Jazz/Soft Rock\", \"Rock/Soft Rock\", \"Latin/Son\", \"Jazz/Son Montuno\", \"Latin/Son Montuno\", \"Electronic/Soul\", \"Funk / Soul/Soul\", \"Jazz/Soul\", \"Reggae/Soul\", \"Rock/Soul\", \"Jazz/Soul-Jazz\", \"Classical/Soundtrack\", \"Electronic/Soundtrack\", \"Folk, World, & Country/Soundtrack\", \"Funk / Soul/Soundtrack\", \"Hip Hop/Soundtrack\", \"Jazz/Soundtrack\", \"Latin/Soundtrack\", \"Non-Music/Soundtrack\", \"Pop/Soundtrack\", \"Rock/Soundtrack\", \"Stage & Screen/Soundtrack\", \"Rock/Southern Rock\", \"Electronic/Space Rock\", \"Rock/Space Rock\", \"Jazz/Space-Age\", \"Rock/Speed Metal\", \"Electronic/Spoken Word\", \"Rock/Stoner Rock\", \"Children's/Story\", \"Non-Music/Story\", \"Pop/Story\", \"Rock/Story\", \"Jazz/Surf\", \"Rock/Surf\", \"Electronic/Swing\", \"Jazz/Swing\", \"Electronic/Symphonic Rock\", \"Rock/Symphonic Rock\", \"Electronic/Synth-pop\", \"Funk / Soul/Synth-pop\", \"Pop/Synth-pop\", \"Rock/Synth-pop\", \"Electronic/Synthwave\", \"Electronic/Tango\", \"Jazz/Tango\", \"Latin/Tango\", \"Electronic/Tech House\", \"Non-Music/Technical\", \"Rock/Technical\", \"Electronic/Techno\", \"Electronic/Theme\", \"Stage & Screen/Theme\", \"Electronic/Thrash\", \"Rock/Thrash\", \"Electronic/Trance\", \"Electronic/Trap\", \"Electronic/Tribal\", \"Electronic/Trip Hop\", \"Latin/Trova\", \"Latin/Vallenato\", \"Rock/Viking Metal\", \"Electronic/Vocal\", \"Funk / Soul/Vocal\", \"Jazz/Vocal\", \"Latin/Vocal\", \"Pop/Vocal\", \"Rock/Vocal\", \"Blues\", \"Brass & Military\", \"Children's\", \"Classical\", \"Electronic\", \"Folk, World, & Country\", \"Funk / Soul\", \"Hip Hop\", \"Jazz\", \"Latin\", \"Non-Music\", \"Pop\", \"Reggae\", \"Rock\", \"Stage & Screen\"], \"labels\": [\"AOR\", \"Abstract\", \"Abstract\", \"Acid\", \"Acid House\", \"Acid Jazz\", \"Acid Rock\", \"Acoustic\", \"Acoustic\", \"Acoustic\", \"Acoustic\", \"Acoustic\", \"African\", \"African\", \"Afro-Cuban\", \"Afro-Cuban\", \"Afro-Cuban\", \"Afro-Cuban\", \"Afro-Cuban Jazz\", \"Afro-Cuban Jazz\", \"Alternative Rock\", \"Alternative Rock\", \"Alternative Rock\", \"Alternative Rock\", \"Alternative Rock\", \"Ambient\", \"Arena Rock\", \"Art Rock\", \"Art Rock\", \"Art Rock\", \"Audiobook\", \"Avant-garde Jazz\", \"Avantgarde\", \"Avantgarde\", \"Ballad\", \"Ballad\", \"Ballad\", \"Ballad\", \"Ballad\", \"Ballad\", \"Baroque\", \"Baroque\", \"Baroque\", \"Bayou Funk\", \"Beat\", \"Berlin-School\", \"Big Band\", \"Big Band\", \"Big Beat\", \"Black Metal\", \"Black Metal\", \"Bluegrass\", \"Blues Rock\", \"Blues Rock\", \"Blues Rock\", \"Blues Rock\", \"Bolero\", \"Bolero\", \"Bolero\", \"Boogaloo\", \"Boogaloo\", \"Boom Bap\", \"Bop\", \"Bossa Nova\", \"Bossanova\", \"Bossanova\", \"Bossanova\", \"Breakbeat\", \"Breaks\", \"Brit Pop\", \"Broken Beat\", \"Calypso\", \"Calypso\", \"Canzone Napoletana\", \"Cha-Cha\", \"Cha-Cha\", \"Cha-Cha\", \"Chanson\", \"Chanson\", \"Chanson\", \"Chanson\", \"Charanga\", \"Chicago Blues\", \"Classic Rock\", \"Classic Rock\", \"Classical\", \"Classical\", \"Classical\", \"Conjunto\", \"Conscious\", \"Contemporary\", \"Contemporary\", \"Contemporary Jazz\", \"Contemporary R&B\", \"Contemporary R&B\", \"Contemporary R&B\", \"Cool Jazz\", \"Country\", \"Country\", \"Country\", \"Country Blues\", \"Country Blues\", \"Country Rock\", \"Country Rock\", \"Cubano\", \"Cubano\", \"Cumbia\", \"Cumbia\", \"Cumbia\", \"Cumbia\", \"Cumbia\", \"Cut-up/DJ\", \"Dance-pop\", \"Dancehall\", \"Dancehall\", \"Danzon\", \"Dark Ambient\", \"Darkwave\", \"Death Metal\", \"Deep House\", \"Delta Blues\", \"Descarga\", \"Descarga\", \"Dialogue\", \"Disco\", \"Disco\", \"Disco\", \"Disco\", \"Disco\", \"Dixieland\", \"Doom Metal\", \"Doom Metal\", \"Downtempo\", \"Downtempo\", \"Downtempo\", \"Downtempo\", \"Dream Pop\", \"Drum n Bass\", \"Dub\", \"Dub\", \"Dub\", \"Dub Techno\", \"Dubstep\", \"EBM\", \"Early\", \"East Coast Blues\", \"Easy Listening\", \"Easy Listening\", \"Educational\", \"Educational\", \"Electric Blues\", \"Electric Blues\", \"Electric Blues\", \"Electro\", \"Electro House\", \"Emo\", \"Emo\", \"Ethereal\", \"Ethereal\", \"Euro House\", \"Eurodance\", \"Europop\", \"Europop\", \"Europop\", \"Experimental\", \"Experimental\", \"Experimental\", \"Experimental\", \"Fado\", \"Field Recording\", \"Flamenco\", \"Flamenco\", \"Flamenco\", \"Flamenco\", \"Folk\", \"Folk\", \"Folk\", \"Folk\", \"Folk\", \"Folk\", \"Folk\", \"Folk\", \"Folk\", \"Folk\", \"Folk Metal\", \"Folk Rock\", \"Folk Rock\", \"Folk Rock\", \"Folk Rock\", \"Folk Rock\", \"Folk Rock\", \"Folk Rock\", \"Free Improvisation\", \"Free Jazz\", \"Free Jazz\", \"Freestyle\", \"Funk\", \"Funk\", \"Funk\", \"Funk\", \"Funk Metal\", \"Funk Metal\", \"Fusion\", \"Fusion\", \"Fusion\", \"Future Jazz\", \"Gagaku\", \"Gamelan\", \"Gangsta\", \"Garage House\", \"Garage Rock\", \"Glam\", \"Glam\", \"Glitch\", \"Gospel\", \"Gospel\", \"Gospel\", \"Goth Rock\", \"Goth Rock\", \"Gothic Metal\", \"Grindcore\", \"Groove Metal\", \"Grunge\", \"Guaguanc\\u00f3\", \"Guaguanc\\u00f3\", \"Guaguanc\\u00f3\", \"Guajira\", \"Guaracha\", \"Guaracha\", \"Gypsy Jazz\", \"Hard Bop\", \"Hard Rock\", \"Hard Rock\", \"Hard Rock\", \"Hardcore\", \"Hardcore\", \"Hardcore\", \"Hardcore Hip-Hop\", \"Harmonica Blues\", \"Heavy Metal\", \"Heavy Metal\", \"Heavy Metal\", \"Hi NRG\", \"Hip Hop\", \"Hip Hop\", \"Hip-House\", \"Honky Tonk\", \"House\", \"House\", \"IDM\", \"Illbient\", \"Impressionist\", \"Indian Classical\", \"Indie Pop\", \"Indie Pop\", \"Indie Pop\", \"Indie Pop\", \"Indie Rock\", \"Indie Rock\", \"Industrial\", \"Industrial\", \"Industrial Metal\", \"Instrumental\", \"Instrumental\", \"Instrumental\", \"Interview\", \"Interview\", \"Interview\", \"Italo-Disco\", \"Jazz-Funk\", \"Jazz-Funk\", \"Jazz-Funk\", \"Jazz-Rock\", \"Jazz-Rock\", \"Jazz-Rock\", \"Joropo\", \"Krautrock\", \"Krautrock\", \"Lambada\", \"Latin\", \"Latin\", \"Latin\", \"Latin Jazz\", \"Leftfield\", \"Leftfield\", \"Lo-Fi\", \"Lo-Fi\", \"Louisiana Blues\", \"Lounge\", \"Lounge\", \"Lounge\", \"Lounge\", \"Lovers Rock\", \"MPB\", \"MPB\", \"Mambo\", \"Mambo\", \"Mariachi\", \"Marimba\", \"Math Rock\", \"Math Rock\", \"Melodic Death Metal\", \"Merengue\", \"Merengue\", \"Merengue\", \"Minimal\", \"Minneapolis Sound\", \"Mod\", \"Modal\", \"Modern\", \"Modern\", \"Modern\", \"Modern Classical\", \"Modern Classical\", \"Modern Classical\", \"Modern Electric Blues\", \"Monolog\", \"Music Hall\", \"Music Hall\", \"Musical\", \"Musical\", \"Musical\", \"Musique Concr\\u00e8te\", \"Neo-Classical\", \"Neo-Classical\", \"Neo-Romantic\", \"Neofolk\", \"New Age\", \"New Age\", \"New Jack Swing\", \"New Wave\", \"New Wave\", \"New Wave\", \"New Wave\", \"New Wave\", \"No Wave\", \"Noise\", \"Noise\", \"Novelty\", \"Novelty\", \"Nu Metal\", \"Nu Metal\", \"Nu Metal\", \"Nu-Disco\", \"Nueva Cancion\", \"Nueva Trova\", \"Nursery Rhymes\", \"Opera\", \"Opera\", \"Opera\", \"P.Funk\", \"P.Funk\", \"Pachanga\", \"Pachanga\", \"Pachanga\", \"Pachanga\", \"Pacific\", \"Pasodoble\", \"Piano Blues\", \"Plena\", \"Plena\", \"Plena\", \"Poetry\", \"Poetry\", \"Polka\", \"Pop Punk\", \"Pop Rap\", \"Pop Rap\", \"Pop Rock\", \"Pop Rock\", \"Pop Rock\", \"Pop Rock\", \"Pop Rock\", \"Pop Rock\", \"Porro\", \"Post Bop\", \"Post Rock\", \"Post Rock\", \"Post-Hardcore\", \"Post-Metal\", \"Post-Punk\", \"Post-Punk\", \"Power Metal\", \"Power Pop\", \"Power Pop\", \"Prog Rock\", \"Prog Rock\", \"Prog Rock\", \"Progressive House\", \"Progressive Metal\", \"Progressive Trance\", \"Promotional\", \"Psychedelic\", \"Psychedelic Rock\", \"Psychedelic Rock\", \"Psychedelic Rock\", \"Psychedelic Rock\", \"Psychobilly\", \"Punk\", \"Punk\", \"Punk\", \"Ragga HipHop\", \"Ragtime\", \"Ranchera\", \"Reggae\", \"Reggae\", \"Reggae\", \"Reggae\", \"Reggae-Pop\", \"Reggaeton\", \"Religious\", \"Religious\", \"Renaissance\", \"Rhythm & Blues\", \"Rhythm & Blues\", \"Rhythm & Blues\", \"Rhythm & Blues\", \"RnB/Swing\", \"RnB/Swing\", \"Rock & Roll\", \"Rock & Roll\", \"Rock & Roll\", \"Rock & Roll\", \"Rock Opera\", \"Rockabilly\", \"Rockabilly\", \"Rocksteady\", \"Romantic\", \"Romantic\", \"Roots Reggae\", \"Roots Reggae\", \"Rumba\", \"Rumba\", \"Salsa\", \"Salsa\", \"Salsa\", \"Samba\", \"Samba\", \"Schlager\", \"Score\", \"Score\", \"Score\", \"Score\", \"Shoegaze\", \"Shoegaze\", \"Ska\", \"Ska\", \"Ska\", \"Ska\", \"Ska\", \"Sludge Metal\", \"Smooth Jazz\", \"Smooth Jazz\", \"Soft Rock\", \"Soft Rock\", \"Soft Rock\", \"Son\", \"Son Montuno\", \"Son Montuno\", \"Soul\", \"Soul\", \"Soul\", \"Soul\", \"Soul\", \"Soul-Jazz\", \"Soundtrack\", \"Soundtrack\", \"Soundtrack\", \"Soundtrack\", \"Soundtrack\", \"Soundtrack\", \"Soundtrack\", \"Soundtrack\", \"Soundtrack\", \"Soundtrack\", \"Soundtrack\", \"Southern Rock\", \"Space Rock\", \"Space Rock\", \"Space-Age\", \"Speed Metal\", \"Spoken Word\", \"Stoner Rock\", \"Story\", \"Story\", \"Story\", \"Story\", \"Surf\", \"Surf\", \"Swing\", \"Swing\", \"Symphonic Rock\", \"Symphonic Rock\", \"Synth-pop\", \"Synth-pop\", \"Synth-pop\", \"Synth-pop\", \"Synthwave\", \"Tango\", \"Tango\", \"Tango\", \"Tech House\", \"Technical\", \"Technical\", \"Techno\", \"Theme\", \"Theme\", \"Thrash\", \"Thrash\", \"Trance\", \"Trap\", \"Tribal\", \"Trip Hop\", \"Trova\", \"Vallenato\", \"Viking Metal\", \"Vocal\", \"Vocal\", \"Vocal\", \"Vocal\", \"Vocal\", \"Vocal\", \"Blues\", \"Brass & Military\", \"Children's\", \"Classical\", \"Electronic\", \"Folk, World, & Country\", \"Funk / Soul\", \"Hip Hop\", \"Jazz\", \"Latin\", \"Non-Music\", \"Pop\", \"Reggae\", \"Rock\", \"Stage & Screen\"], \"name\": \"\", \"parents\": [\"Rock\", \"Electronic\", \"Rock\", \"Electronic\", \"Electronic\", \"Electronic\", \"Rock\", \"Electronic\", \"Funk / Soul\", \"Jazz\", \"Pop\", \"Rock\", \"Electronic\", \"Folk, World, & Country\", \"Electronic\", \"Jazz\", \"Latin\", \"Rock\", \"Electronic\", \"Jazz\", \"Electronic\", \"Hip Hop\", \"Jazz\", \"Latin\", \"Rock\", \"Electronic\", \"Rock\", \"Electronic\", \"Jazz\", \"Rock\", \"Non-Music\", \"Jazz\", \"Electronic\", \"Rock\", \"Electronic\", \"Funk / Soul\", \"Jazz\", \"Latin\", \"Pop\", \"Rock\", \"Classical\", \"Electronic\", \"Jazz\", \"Funk / Soul\", \"Rock\", \"Electronic\", \"Jazz\", \"Pop\", \"Electronic\", \"Electronic\", \"Rock\", \"Jazz\", \"Electronic\", \"Hip Hop\", \"Jazz\", \"Rock\", \"Jazz\", \"Latin\", \"Rock\", \"Jazz\", \"Latin\", \"Hip Hop\", \"Jazz\", \"Jazz\", \"Electronic\", \"Jazz\", \"Latin\", \"Electronic\", \"Electronic\", \"Rock\", \"Electronic\", \"Jazz\", \"Latin\", \"Pop\", \"Jazz\", \"Latin\", \"Rock\", \"Electronic\", \"Latin\", \"Pop\", \"Rock\", \"Latin\", \"Blues\", \"Electronic\", \"Rock\", \"Classical\", \"Jazz\", \"Rock\", \"Latin\", \"Hip Hop\", \"Classical\", \"Jazz\", \"Jazz\", \"Electronic\", \"Funk / Soul\", \"Hip Hop\", \"Jazz\", \"Folk, World, & Country\", \"Pop\", \"Rock\", \"Blues\", \"Rock\", \"Pop\", \"Rock\", \"Jazz\", \"Latin\", \"Electronic\", \"Jazz\", \"Latin\", \"Reggae\", \"Rock\", \"Hip Hop\", \"Electronic\", \"Hip Hop\", \"Reggae\", \"Latin\", \"Electronic\", \"Electronic\", \"Rock\", \"Electronic\", \"Blues\", \"Jazz\", \"Latin\", \"Rock\", \"Electronic\", \"Funk / Soul\", \"Jazz\", \"Pop\", \"Rock\", \"Jazz\", \"Electronic\", \"Rock\", \"Electronic\", \"Jazz\", \"Latin\", \"Rock\", \"Rock\", \"Electronic\", \"Electronic\", \"Reggae\", \"Rock\", \"Electronic\", \"Electronic\", \"Electronic\", \"Classical\", \"Jazz\", \"Jazz\", \"Latin\", \"Children's\", \"Classical\", \"Blues\", \"Hip Hop\", \"Rock\", \"Electronic\", \"Electronic\", \"Classical\", \"Rock\", \"Electronic\", \"Rock\", \"Electronic\", \"Electronic\", \"Electronic\", \"Pop\", \"Rock\", \"Electronic\", \"Jazz\", \"Pop\", \"Rock\", \"Pop\", \"Folk, World, & Country\", \"Electronic\", \"Jazz\", \"Latin\", \"Rock\", \"Blues\", \"Brass & Military\", \"Classical\", \"Electronic\", \"Folk, World, & Country\", \"Jazz\", \"Latin\", \"Non-Music\", \"Pop\", \"Rock\", \"Rock\", \"Electronic\", \"Folk, World, & Country\", \"Funk / Soul\", \"Jazz\", \"Pop\", \"Reggae\", \"Rock\", \"Jazz\", \"Electronic\", \"Jazz\", \"Electronic\", \"Electronic\", \"Funk / Soul\", \"Latin\", \"Rock\", \"Electronic\", \"Rock\", \"Electronic\", \"Jazz\", \"Rock\", \"Electronic\", \"Folk, World, & Country\", \"Folk, World, & Country\", \"Hip Hop\", \"Electronic\", \"Rock\", \"Electronic\", \"Rock\", \"Electronic\", \"Funk / Soul\", \"Jazz\", \"Rock\", \"Electronic\", \"Rock\", \"Rock\", \"Rock\", \"Rock\", \"Rock\", \"Jazz\", \"Latin\", \"Reggae\", \"Latin\", \"Jazz\", \"Latin\", \"Jazz\", \"Jazz\", \"Electronic\", \"Hip Hop\", \"Rock\", \"Electronic\", \"Hip Hop\", \"Rock\", \"Hip Hop\", \"Blues\", \"Electronic\", \"Hip Hop\", \"Rock\", \"Electronic\", \"Electronic\", \"Hip Hop\", \"Electronic\", \"Folk, World, & Country\", \"Electronic\", \"Rock\", \"Electronic\", \"Electronic\", \"Classical\", \"Folk, World, & Country\", \"Electronic\", \"Latin\", \"Pop\", \"Rock\", \"Electronic\", \"Rock\", \"Electronic\", \"Rock\", \"Electronic\", \"Electronic\", \"Hip Hop\", \"Pop\", \"Electronic\", \"Non-Music\", \"Rock\", \"Electronic\", \"Electronic\", \"Funk / Soul\", \"Jazz\", \"Electronic\", \"Jazz\", \"Rock\", \"Latin\", \"Electronic\", \"Rock\", \"Latin\", \"Electronic\", \"Latin\", \"Pop\", \"Jazz\", \"Electronic\", \"Rock\", \"Electronic\", \"Rock\", \"Blues\", \"Electronic\", \"Jazz\", \"Pop\", \"Rock\", \"Reggae\", \"Latin\", \"Rock\", \"Jazz\", \"Latin\", \"Latin\", \"Electronic\", \"Electronic\", \"Rock\", \"Rock\", \"Electronic\", \"Jazz\", \"Latin\", \"Electronic\", \"Rock\", \"Rock\", \"Jazz\", \"Classical\", \"Electronic\", \"Latin\", \"Electronic\", \"Folk, World, & Country\", \"Rock\", \"Funk / Soul\", \"Jazz\", \"Pop\", \"Rock\", \"Jazz\", \"Pop\", \"Stage & Screen\", \"Electronic\", \"Classical\", \"Jazz\", \"Classical\", \"Rock\", \"Electronic\", \"Rock\", \"Electronic\", \"Electronic\", \"Funk / Soul\", \"Hip Hop\", \"Pop\", \"Rock\", \"Rock\", \"Electronic\", \"Rock\", \"Pop\", \"Rock\", \"Electronic\", \"Hip Hop\", \"Rock\", \"Electronic\", \"Latin\", \"Latin\", \"Latin\", \"Classical\", \"Electronic\", \"Rock\", \"Funk / Soul\", \"Rock\", \"Jazz\", \"Latin\", \"Reggae\", \"Rock\", \"Folk, World, & Country\", \"Rock\", \"Rock\", \"Electronic\", \"Hip Hop\", \"Latin\", \"Latin\", \"Non-Music\", \"Latin\", \"Rock\", \"Electronic\", \"Hip Hop\", \"Electronic\", \"Funk / Soul\", \"Hip Hop\", \"Jazz\", \"Pop\", \"Rock\", \"Latin\", \"Jazz\", \"Electronic\", \"Rock\", \"Rock\", \"Rock\", \"Electronic\", \"Rock\", \"Rock\", \"Electronic\", \"Rock\", \"Electronic\", \"Jazz\", \"Rock\", \"Electronic\", \"Rock\", \"Electronic\", \"Folk, World, & Country\", \"Rock\", \"Electronic\", \"Folk, World, & Country\", \"Jazz\", \"Rock\", \"Rock\", \"Electronic\", \"Hip Hop\", \"Rock\", \"Hip Hop\", \"Jazz\", \"Latin\", \"Electronic\", \"Jazz\", \"Reggae\", \"Rock\", \"Reggae\", \"Electronic\", \"Folk, World, & Country\", \"Latin\", \"Classical\", \"Electronic\", \"Funk / Soul\", \"Jazz\", \"Rock\", \"Electronic\", \"Hip Hop\", \"Electronic\", \"Jazz\", \"Pop\", \"Rock\", \"Rock\", \"Jazz\", \"Rock\", \"Reggae\", \"Classical\", \"Non-Music\", \"Reggae\", \"Rock\", \"Jazz\", \"Latin\", \"Jazz\", \"Latin\", \"Rock\", \"Jazz\", \"Latin\", \"Pop\", \"Classical\", \"Electronic\", \"Jazz\", \"Rock\", \"Electronic\", \"Rock\", \"Electronic\", \"Hip Hop\", \"Jazz\", \"Reggae\", \"Rock\", \"Rock\", \"Electronic\", \"Jazz\", \"Electronic\", \"Jazz\", \"Rock\", \"Latin\", \"Jazz\", \"Latin\", \"Electronic\", \"Funk / Soul\", \"Jazz\", \"Reggae\", \"Rock\", \"Jazz\", \"Classical\", \"Electronic\", \"Folk, World, & Country\", \"Funk / Soul\", \"Hip Hop\", \"Jazz\", \"Latin\", \"Non-Music\", \"Pop\", \"Rock\", \"Stage & Screen\", \"Rock\", \"Electronic\", \"Rock\", \"Jazz\", \"Rock\", \"Electronic\", \"Rock\", \"Children's\", \"Non-Music\", \"Pop\", \"Rock\", \"Jazz\", \"Rock\", \"Electronic\", \"Jazz\", \"Electronic\", \"Rock\", \"Electronic\", \"Funk / Soul\", \"Pop\", \"Rock\", \"Electronic\", \"Electronic\", \"Jazz\", \"Latin\", \"Electronic\", \"Non-Music\", \"Rock\", \"Electronic\", \"Electronic\", \"Stage & Screen\", \"Electronic\", \"Rock\", \"Electronic\", \"Electronic\", \"Electronic\", \"Electronic\", \"Latin\", \"Latin\", \"Rock\", \"Electronic\", \"Funk / Soul\", \"Jazz\", \"Latin\", \"Pop\", \"Rock\", \"\", \"\", \"\", \"\", \"\", \"\", \"\", \"\", \"\", \"\", \"\", \"\", \"\", \"\", \"\"], \"type\": \"sunburst\", \"values\": [8, 35, 2, 2, 3, 6, 4, 6, 1, 1, 1, 70, 2, 3, 1, 15, 22, 3, 1, 36, 196, 17, 3, 1, 960, 48, 73, 42, 5, 181, 1, 1, 7, 7, 6, 1, 3, 39, 28, 11, 36, 1, 1, 2, 26, 6, 58, 1, 7, 3, 157, 1, 2, 1, 5, 287, 2, 44, 2, 5, 5, 1, 31, 7, 1, 1, 1, 24, 9, 25, 1, 1, 1, 1, 6, 13, 1, 1, 2, 21, 3, 9, 2, 1, 282, 48, 1, 1, 1, 8, 7, 1, 23, 9, 1, 1, 13, 8, 1, 3, 1, 1, 1, 22, 1, 15, 4, 2, 65, 1, 9, 2, 6, 1, 2, 1, 5, 9, 86, 2, 1, 2, 7, 1, 37, 47, 1, 1, 3, 4, 1, 49, 100, 1, 1, 3, 3, 2, 16, 8, 1, 1, 1, 23, 1, 1, 51, 2, 1, 1, 2, 1, 2, 107, 1, 1, 10, 4, 14, 11, 2, 5, 14, 2, 62, 2, 1, 22, 1, 2, 2, 1, 5, 2, 1, 1, 1, 1, 7, 1, 5, 1, 2, 7, 2, 9, 3, 1, 2, 3, 1, 191, 2, 2, 3, 3, 4, 17, 2, 8, 3, 21, 6, 33, 3, 7, 2, 1, 4, 2, 45, 2, 65, 1, 2, 1, 1, 7, 58, 20, 2, 4, 102, 2, 12, 1, 3, 1, 8, 3, 10, 3, 3, 790, 2, 5, 48, 4, 1, 1, 5, 399, 4, 1, 1, 3, 1, 90, 1, 14, 2, 7, 2, 9, 1, 8, 12, 16, 248, 57, 21, 10, 2, 6, 1, 2, 6, 11, 2, 1, 1, 7, 2, 22, 3, 1, 32, 9, 2, 11, 2, 1, 40, 98, 5, 2, 11, 3, 1, 2, 1, 3, 1, 7, 2, 18, 13, 2, 1, 1, 2, 1, 2, 1, 14, 7, 1, 4, 3, 40, 1, 1, 35, 1, 2, 1, 1, 1, 1, 2, 1, 16, 1, 5, 1, 7, 1, 7, 1, 1, 201, 1, 1, 1, 217, 1, 2, 20, 1, 1, 2, 4, 76, 3, 1, 2, 2, 39, 1, 1, 4, 1, 1, 7, 1, 3, 1, 1, 1, 1, 1, 1, 1, 1, 1, 11, 3, 8, 135, 1, 1, 11, 5, 863, 5, 13, 13, 32, 3, 1, 11, 64, 4, 1, 11, 10, 7, 381, 8, 4, 1, 1, 5, 9, 1, 1, 288, 6, 1, 2, 205, 1, 6, 7, 2, 1, 23, 6, 9, 1, 1, 1, 2, 3, 14, 7, 6, 1, 4, 5, 2, 1, 139, 1, 1, 7, 2, 137, 1, 6, 1, 3, 7, 50, 325, 3, 2, 4, 1, 3, 1, 1, 2, 6, 29, 2, 2, 1, 10, 52, 3, 1, 13, 3, 3, 119, 14, 1, 4, 6, 38, 6, 1, 3, 23, 12, 59, 1, 3, 1, 13, 6, 3, 4, 60, 20, 13, 4, 21, 3, 36, 1, 27, 2, 1, 1, 1, 1, 14, 1, 28, 2, 22, 415, 1, 5, 2, 2, 2, 3, 11, 2, 2, 1, 34, 1, 1, 2, 236, 6, 2, 4, 39, 2, 9, 4, 3, 1, 15, 5, 36, 7, 11, 1, 3, 347, 2301, 35, 137, 85, 657, 722, 16, 144, 66, 7456, 37]}],\n",
       "                        {\"legend\": {\"tracegroupgap\": 0}, \"margin\": {\"t\": 60}, \"sunburstcolorway\": [\"#005867\", \"#FFB335\", \"#F3F1EA\", \"#2E383D\"], \"template\": {\"data\": {\"bar\": [{\"error_x\": {\"color\": \"#2a3f5f\"}, \"error_y\": {\"color\": \"#2a3f5f\"}, \"marker\": {\"line\": {\"color\": \"#E5ECF6\", \"width\": 0.5}}, \"type\": \"bar\"}], \"barpolar\": [{\"marker\": {\"line\": {\"color\": \"#E5ECF6\", \"width\": 0.5}}, \"type\": \"barpolar\"}], \"carpet\": [{\"aaxis\": {\"endlinecolor\": \"#2a3f5f\", \"gridcolor\": \"white\", \"linecolor\": \"white\", \"minorgridcolor\": \"white\", \"startlinecolor\": \"#2a3f5f\"}, \"baxis\": {\"endlinecolor\": \"#2a3f5f\", \"gridcolor\": \"white\", \"linecolor\": \"white\", \"minorgridcolor\": \"white\", \"startlinecolor\": \"#2a3f5f\"}, \"type\": \"carpet\"}], \"choropleth\": [{\"colorbar\": {\"outlinewidth\": 0, \"ticks\": \"\"}, \"type\": \"choropleth\"}], \"contour\": [{\"colorbar\": {\"outlinewidth\": 0, \"ticks\": \"\"}, \"colorscale\": [[0.0, \"#0d0887\"], [0.1111111111111111, \"#46039f\"], [0.2222222222222222, \"#7201a8\"], [0.3333333333333333, \"#9c179e\"], [0.4444444444444444, \"#bd3786\"], [0.5555555555555556, \"#d8576b\"], [0.6666666666666666, \"#ed7953\"], [0.7777777777777778, \"#fb9f3a\"], [0.8888888888888888, \"#fdca26\"], [1.0, \"#f0f921\"]], \"type\": \"contour\"}], \"contourcarpet\": [{\"colorbar\": {\"outlinewidth\": 0, \"ticks\": \"\"}, \"type\": \"contourcarpet\"}], \"heatmap\": [{\"colorbar\": {\"outlinewidth\": 0, \"ticks\": \"\"}, \"colorscale\": [[0.0, \"#0d0887\"], [0.1111111111111111, \"#46039f\"], [0.2222222222222222, \"#7201a8\"], [0.3333333333333333, \"#9c179e\"], [0.4444444444444444, \"#bd3786\"], [0.5555555555555556, \"#d8576b\"], [0.6666666666666666, \"#ed7953\"], [0.7777777777777778, \"#fb9f3a\"], [0.8888888888888888, \"#fdca26\"], [1.0, \"#f0f921\"]], \"type\": \"heatmap\"}], \"heatmapgl\": [{\"colorbar\": {\"outlinewidth\": 0, \"ticks\": \"\"}, \"colorscale\": [[0.0, \"#0d0887\"], [0.1111111111111111, \"#46039f\"], [0.2222222222222222, \"#7201a8\"], [0.3333333333333333, \"#9c179e\"], [0.4444444444444444, \"#bd3786\"], [0.5555555555555556, \"#d8576b\"], [0.6666666666666666, \"#ed7953\"], [0.7777777777777778, \"#fb9f3a\"], [0.8888888888888888, \"#fdca26\"], [1.0, \"#f0f921\"]], \"type\": \"heatmapgl\"}], \"histogram\": [{\"marker\": {\"colorbar\": {\"outlinewidth\": 0, \"ticks\": \"\"}}, \"type\": \"histogram\"}], \"histogram2d\": [{\"colorbar\": {\"outlinewidth\": 0, \"ticks\": \"\"}, \"colorscale\": [[0.0, \"#0d0887\"], [0.1111111111111111, \"#46039f\"], [0.2222222222222222, \"#7201a8\"], [0.3333333333333333, \"#9c179e\"], [0.4444444444444444, \"#bd3786\"], [0.5555555555555556, \"#d8576b\"], [0.6666666666666666, \"#ed7953\"], [0.7777777777777778, \"#fb9f3a\"], [0.8888888888888888, \"#fdca26\"], [1.0, \"#f0f921\"]], \"type\": \"histogram2d\"}], \"histogram2dcontour\": [{\"colorbar\": {\"outlinewidth\": 0, \"ticks\": \"\"}, \"colorscale\": [[0.0, \"#0d0887\"], [0.1111111111111111, \"#46039f\"], [0.2222222222222222, \"#7201a8\"], [0.3333333333333333, \"#9c179e\"], [0.4444444444444444, \"#bd3786\"], [0.5555555555555556, \"#d8576b\"], [0.6666666666666666, \"#ed7953\"], [0.7777777777777778, \"#fb9f3a\"], [0.8888888888888888, \"#fdca26\"], [1.0, \"#f0f921\"]], \"type\": \"histogram2dcontour\"}], \"mesh3d\": [{\"colorbar\": {\"outlinewidth\": 0, \"ticks\": \"\"}, \"type\": \"mesh3d\"}], \"parcoords\": [{\"line\": {\"colorbar\": {\"outlinewidth\": 0, \"ticks\": \"\"}}, \"type\": \"parcoords\"}], \"pie\": [{\"automargin\": true, \"type\": \"pie\"}], \"scatter\": [{\"marker\": {\"colorbar\": {\"outlinewidth\": 0, \"ticks\": \"\"}}, \"type\": \"scatter\"}], \"scatter3d\": [{\"line\": {\"colorbar\": {\"outlinewidth\": 0, \"ticks\": \"\"}}, \"marker\": {\"colorbar\": {\"outlinewidth\": 0, \"ticks\": \"\"}}, \"type\": \"scatter3d\"}], \"scattercarpet\": [{\"marker\": {\"colorbar\": {\"outlinewidth\": 0, \"ticks\": \"\"}}, \"type\": \"scattercarpet\"}], \"scattergeo\": [{\"marker\": {\"colorbar\": {\"outlinewidth\": 0, \"ticks\": \"\"}}, \"type\": \"scattergeo\"}], \"scattergl\": [{\"marker\": {\"colorbar\": {\"outlinewidth\": 0, \"ticks\": \"\"}}, \"type\": \"scattergl\"}], \"scattermapbox\": [{\"marker\": {\"colorbar\": {\"outlinewidth\": 0, \"ticks\": \"\"}}, \"type\": \"scattermapbox\"}], \"scatterpolar\": [{\"marker\": {\"colorbar\": {\"outlinewidth\": 0, \"ticks\": \"\"}}, \"type\": \"scatterpolar\"}], \"scatterpolargl\": [{\"marker\": {\"colorbar\": {\"outlinewidth\": 0, \"ticks\": \"\"}}, \"type\": \"scatterpolargl\"}], \"scatterternary\": [{\"marker\": {\"colorbar\": {\"outlinewidth\": 0, \"ticks\": \"\"}}, \"type\": \"scatterternary\"}], \"surface\": [{\"colorbar\": {\"outlinewidth\": 0, \"ticks\": \"\"}, \"colorscale\": [[0.0, \"#0d0887\"], [0.1111111111111111, \"#46039f\"], [0.2222222222222222, \"#7201a8\"], [0.3333333333333333, \"#9c179e\"], [0.4444444444444444, \"#bd3786\"], [0.5555555555555556, \"#d8576b\"], [0.6666666666666666, \"#ed7953\"], [0.7777777777777778, \"#fb9f3a\"], [0.8888888888888888, \"#fdca26\"], [1.0, \"#f0f921\"]], \"type\": \"surface\"}], \"table\": [{\"cells\": {\"fill\": {\"color\": \"#EBF0F8\"}, \"line\": {\"color\": \"white\"}}, \"header\": {\"fill\": {\"color\": \"#C8D4E3\"}, \"line\": {\"color\": \"white\"}}, \"type\": \"table\"}]}, \"layout\": {\"annotationdefaults\": {\"arrowcolor\": \"#2a3f5f\", \"arrowhead\": 0, \"arrowwidth\": 1}, \"coloraxis\": {\"colorbar\": {\"outlinewidth\": 0, \"ticks\": \"\"}}, \"colorscale\": {\"diverging\": [[0, \"#8e0152\"], [0.1, \"#c51b7d\"], [0.2, \"#de77ae\"], [0.3, \"#f1b6da\"], [0.4, \"#fde0ef\"], [0.5, \"#f7f7f7\"], [0.6, \"#e6f5d0\"], [0.7, \"#b8e186\"], [0.8, \"#7fbc41\"], [0.9, \"#4d9221\"], [1, \"#276419\"]], \"sequential\": [[0.0, \"#0d0887\"], [0.1111111111111111, \"#46039f\"], [0.2222222222222222, \"#7201a8\"], [0.3333333333333333, \"#9c179e\"], [0.4444444444444444, \"#bd3786\"], [0.5555555555555556, \"#d8576b\"], [0.6666666666666666, \"#ed7953\"], [0.7777777777777778, \"#fb9f3a\"], [0.8888888888888888, \"#fdca26\"], [1.0, \"#f0f921\"]], \"sequentialminus\": [[0.0, \"#0d0887\"], [0.1111111111111111, \"#46039f\"], [0.2222222222222222, \"#7201a8\"], [0.3333333333333333, \"#9c179e\"], [0.4444444444444444, \"#bd3786\"], [0.5555555555555556, \"#d8576b\"], [0.6666666666666666, \"#ed7953\"], [0.7777777777777778, \"#fb9f3a\"], [0.8888888888888888, \"#fdca26\"], [1.0, \"#f0f921\"]]}, \"colorway\": [\"#636efa\", \"#EF553B\", \"#00cc96\", \"#ab63fa\", \"#FFA15A\", \"#19d3f3\", \"#FF6692\", \"#B6E880\", \"#FF97FF\", \"#FECB52\"], \"font\": {\"color\": \"#2a3f5f\"}, \"geo\": {\"bgcolor\": \"white\", \"lakecolor\": \"white\", \"landcolor\": \"#E5ECF6\", \"showlakes\": true, \"showland\": true, \"subunitcolor\": \"white\"}, \"hoverlabel\": {\"align\": \"left\"}, \"hovermode\": \"closest\", \"mapbox\": {\"style\": \"light\"}, \"paper_bgcolor\": \"white\", \"plot_bgcolor\": \"#E5ECF6\", \"polar\": {\"angularaxis\": {\"gridcolor\": \"white\", \"linecolor\": \"white\", \"ticks\": \"\"}, \"bgcolor\": \"#E5ECF6\", \"radialaxis\": {\"gridcolor\": \"white\", \"linecolor\": \"white\", \"ticks\": \"\"}}, \"scene\": {\"xaxis\": {\"backgroundcolor\": \"#E5ECF6\", \"gridcolor\": \"white\", \"gridwidth\": 2, \"linecolor\": \"white\", \"showbackground\": true, \"ticks\": \"\", \"zerolinecolor\": \"white\"}, \"yaxis\": {\"backgroundcolor\": \"#E5ECF6\", \"gridcolor\": \"white\", \"gridwidth\": 2, \"linecolor\": \"white\", \"showbackground\": true, \"ticks\": \"\", \"zerolinecolor\": \"white\"}, \"zaxis\": {\"backgroundcolor\": \"#E5ECF6\", \"gridcolor\": \"white\", \"gridwidth\": 2, \"linecolor\": \"white\", \"showbackground\": true, \"ticks\": \"\", \"zerolinecolor\": \"white\"}}, \"shapedefaults\": {\"line\": {\"color\": \"#2a3f5f\"}}, \"ternary\": {\"aaxis\": {\"gridcolor\": \"white\", \"linecolor\": \"white\", \"ticks\": \"\"}, \"baxis\": {\"gridcolor\": \"white\", \"linecolor\": \"white\", \"ticks\": \"\"}, \"bgcolor\": \"#E5ECF6\", \"caxis\": {\"gridcolor\": \"white\", \"linecolor\": \"white\", \"ticks\": \"\"}}, \"title\": {\"x\": 0.05}, \"xaxis\": {\"automargin\": true, \"gridcolor\": \"white\", \"linecolor\": \"white\", \"ticks\": \"\", \"title\": {\"standoff\": 15}, \"zerolinecolor\": \"white\", \"zerolinewidth\": 2}, \"yaxis\": {\"automargin\": true, \"gridcolor\": \"white\", \"linecolor\": \"white\", \"ticks\": \"\", \"title\": {\"standoff\": 15}, \"zerolinecolor\": \"white\", \"zerolinewidth\": 2}}}},\n",
       "                        {\"responsive\": true}\n",
       "                    ).then(function(){\n",
       "                            \n",
       "var gd = document.getElementById('6d234526-8103-4e98-b601-bca7f881a39d');\n",
       "var x = new MutationObserver(function (mutations, observer) {{\n",
       "        var display = window.getComputedStyle(gd).display;\n",
       "        if (!display || display === 'none') {{\n",
       "            console.log([gd, 'removed!']);\n",
       "            Plotly.purge(gd);\n",
       "            observer.disconnect();\n",
       "        }}\n",
       "}});\n",
       "\n",
       "// Listen for the removal of the full notebook cells\n",
       "var notebookContainer = gd.closest('#notebook-container');\n",
       "if (notebookContainer) {{\n",
       "    x.observe(notebookContainer, {childList: true});\n",
       "}}\n",
       "\n",
       "// Listen for the clearing of the current output cell\n",
       "var outputEl = gd.closest('.output');\n",
       "if (outputEl) {{\n",
       "    x.observe(outputEl, {childList: true});\n",
       "}}\n",
       "\n",
       "                        })\n",
       "                };\n",
       "                });\n",
       "            </script>\n",
       "        </div>"
      ]
     },
     "metadata": {},
     "output_type": "display_data"
    }
   ],
   "source": [
    "releases_by_genre_style = count_by(all_releases_df,['genre','style'],'album')\n",
    "px.sunburst(releases_by_genre_style, path=['genre','style'], values='total',color_discrete_sequence=cm_466)"
   ]
  },
  {
   "cell_type": "code",
   "execution_count": 62,
   "metadata": {},
   "outputs": [
    {
     "name": "stdout",
     "output_type": "stream",
     "text": [
      "12813\n"
     ]
    }
   ],
   "source": [
    "count_label='label'\n",
    "n = 26 #Colecciones esculcadas\n",
    "M = all_releases_df.shape[0]\n",
    "offset_top=0\n",
    "n_top = 100\n",
    "sns.set(style=\"whitegrid\")\n",
    "sns.set_context(\"notebook\", font_scale=1.3)\n",
    "# Por album/artista\n",
    "all_releases_unique_df = all_releases_df.groupby(['uid','artist','album','genre','format','format_type'], as_index=False)[count_label].agg('count')\n",
    "all_releases_unique_df = all_releases_unique_df.rename(columns={count_label:'count'})\n",
    "print(all_releases_unique_df['count'].sum())\n",
    "# Por artista\n",
    "all_releases_artist_stats = all_releases_unique_df.groupby(['artist'], as_index=False)['count'].sum() #,'decade'\n",
    "all_releases_artist_stats = all_releases_artist_stats.rename(columns={'count':'total'})\n",
    "all_releases_artist_stats = all_releases_artist_stats[all_releases_artist_stats.artist != 'Various']\n",
    "all_releases_artist_stats = all_releases_artist_stats.sort_values(by='total', ascending=False,ignore_index=True)\n",
    "all_releases_artist_stats['artist'] =  (all_releases_artist_stats.index+1).astype(str).str.zfill(3) + ' - ' + all_releases_artist_stats['artist']\n",
    "# Por artista/album/id\n",
    "all_releases_album_stats = all_releases_unique_df.groupby(['artist','album'], as_index=False)['uid'].count()#,'decade'\n",
    "all_releases_album_stats = all_releases_album_stats.rename(columns={'uid':'únicos'})\n",
    "all_releases_album_sum = all_releases_unique_df.groupby(['artist','album'], as_index=False)['count'].sum()#,'decade'\n",
    "all_releases_album_stats['total'] = all_releases_album_sum['count']\n",
    "all_releases_album_stats = all_releases_album_stats.sort_values(by='total', ascending=False,ignore_index=True)\n",
    "all_releases_album_stats['artist_album'] =  (all_releases_album_stats.index+1).astype(str).str.zfill(3) + ' - ' + all_releases_album_stats['artist'] + ' - ' + all_releases_album_stats['album']\n"
   ]
  },
  {
   "cell_type": "markdown",
   "metadata": {},
   "source": [
    "Los artistas más coleccionados son Pink Floyd (2.1%), Metallica (2%), David Bowie (1.8%), Queen (1.7%) y nuestro polémico Soda Stereo (0.9%). Un dato interesante de nuestro Top 5 de Artistas es el gran impacto que tienen las colecciones de los ultra-fans en estas estadísticas (outliers), ya que solo una colección de distintos amigos de la comunidad puede contribuir con el 68% de los discos de Metallica, 50% de Queen, 39% de Bowie, 34% de Soda Stereo y 30% de Pink Floyd."
   ]
  },
  {
   "cell_type": "code",
   "execution_count": 65,
   "metadata": {},
   "outputs": [
    {
     "data": {
      "application/vnd.plotly.v1+json": {
       "config": {
        "plotlyServerURL": "https://plot.ly"
       },
       "data": [
        {
         "alignmentgroup": "True",
         "hovertemplate": "total=%{x}<br>artist=%{y}<extra></extra>",
         "legendgroup": "",
         "marker": {
          "color": "#005867"
         },
         "name": "",
         "offsetgroup": "",
         "orientation": "h",
         "showlegend": false,
         "textposition": "auto",
         "type": "bar",
         "x": [
          275,
          258,
          226,
          219,
          122,
          119,
          116,
          108,
          98,
          91,
          89,
          87,
          82,
          77,
          71,
          67,
          60,
          59,
          57,
          57,
          56,
          55,
          53,
          51,
          50,
          50,
          50,
          48,
          47,
          46,
          45,
          45,
          45,
          44,
          44,
          42,
          40,
          39,
          39,
          39,
          38,
          38,
          38,
          36,
          36,
          34,
          34,
          34,
          34,
          34,
          34,
          33,
          33,
          33,
          32,
          32,
          32,
          32,
          32,
          31,
          31,
          31,
          31,
          31,
          30,
          30,
          29,
          29,
          28,
          26,
          26,
          26,
          26,
          26,
          25,
          25,
          25,
          25,
          25,
          25,
          25,
          24,
          24,
          23,
          23,
          23,
          23,
          23,
          23,
          23,
          23,
          22,
          22,
          22,
          22,
          22,
          22,
          22,
          22,
          21
         ],
         "xaxis": "x",
         "y": [
          "001 - Pink Floyd",
          "002 - Metallica",
          "003 - David Bowie",
          "004 - Queen",
          "005 - Soda Stereo",
          "006 - Led Zeppelin",
          "007 - The Cure",
          "008 - Iron Maiden",
          "009 - The Beatles",
          "010 - Black Sabbath",
          "011 - The Rolling Stones",
          "012 - Depeche Mode",
          "013 - U2",
          "014 - Radiohead",
          "015 - Nirvana",
          "016 - Yes",
          "017 - Pearl Jam",
          "018 - Willie Colón",
          "019 - Kraftwerk",
          "020 - Sonic Youth",
          "021 - The Alan Parsons Project",
          "022 - Moby",
          "023 - Roxy Music",
          "024 - King Crimson",
          "026 - The Doors",
          "027 - Guns N' Roses",
          "025 - New Order",
          "028 - Deep Purple",
          "029 - Siouxsie & The Banshees",
          "030 - Jethro Tull",
          "031 - Ruben Blades",
          "032 - Talking Heads",
          "033 - Kiss",
          "034 - Gustavo Cerati",
          "035 - Rush",
          "036 - Fania All Stars",
          "037 - Gorillaz",
          "039 - Emerson, Lake & Palmer",
          "040 - Supertramp",
          "038 - AC/DC",
          "041 - Tool (2)",
          "042 - The Police",
          "043 - Santana",
          "044 - The Smiths",
          "045 - Michael Jackson",
          "046 - The Clash",
          "047 - R.E.M.",
          "048 - Fleetwood Mac",
          "049 - Ludwig van Beethoven",
          "050 - Fito Páez",
          "051 - Mongo Santamaria",
          "053 - Charly Garcia",
          "054 - Andrés Calamaro",
          "052 - Jimi Hendrix",
          "056 - Portishead",
          "057 - Caifanes",
          "058 - Ozzy Osbourne",
          "059 - Pixies",
          "055 - Styx",
          "062 - Daft Punk",
          "064 - Joy Division",
          "063 - Porcupine Tree",
          "061 - Brian Eno",
          "060 - Kraken (8)",
          "065 - Primus",
          "066 - Ghost (32)",
          "067 - Estados Alterados",
          "068 - Ekhymosis",
          "069 - Bob Dylan",
          "072 - Nine Inch Nails",
          "074 - Journey",
          "073 - Genesis",
          "071 - Bauhaus",
          "070 - The Who",
          "075 - Pet Shop Boys",
          "076 - Björk",
          "077 - AIR",
          "078 - Scorpions",
          "079 - Xavier Cugat And His Orchestra",
          "080 - Ray Barretto",
          "081 - Hector Lavoe",
          "082 - System Of A Down",
          "083 - Tears For Fears",
          "089 - Rammstein",
          "088 - Coldplay",
          "091 - Van Halen",
          "090 - Billy Joel",
          "084 - Judas Priest",
          "087 - Aerosmith",
          "086 - Eric Clapton",
          "085 - Massive Attack",
          "099 - Pyotr Ilyich Tchaikovsky",
          "096 - Queens Of The Stone Age",
          "098 - The Cars",
          "097 - Cafe Tacuba",
          "093 - Cal Tjader",
          "095 - Madonna",
          "094 - Moonspell",
          "092 - Aterciopelados",
          "100 - Devo"
         ],
         "yaxis": "y"
        }
       ],
       "layout": {
        "barmode": "relative",
        "height": 1100,
        "legend": {
         "tracegroupgap": 0
        },
        "margin": {
         "t": 60
        },
        "template": {
         "data": {
          "bar": [
           {
            "error_x": {
             "color": "#2a3f5f"
            },
            "error_y": {
             "color": "#2a3f5f"
            },
            "marker": {
             "line": {
              "color": "white",
              "width": 0.5
             }
            },
            "type": "bar"
           }
          ],
          "barpolar": [
           {
            "marker": {
             "line": {
              "color": "white",
              "width": 0.5
             }
            },
            "type": "barpolar"
           }
          ],
          "carpet": [
           {
            "aaxis": {
             "endlinecolor": "#2a3f5f",
             "gridcolor": "#C8D4E3",
             "linecolor": "#C8D4E3",
             "minorgridcolor": "#C8D4E3",
             "startlinecolor": "#2a3f5f"
            },
            "baxis": {
             "endlinecolor": "#2a3f5f",
             "gridcolor": "#C8D4E3",
             "linecolor": "#C8D4E3",
             "minorgridcolor": "#C8D4E3",
             "startlinecolor": "#2a3f5f"
            },
            "type": "carpet"
           }
          ],
          "choropleth": [
           {
            "colorbar": {
             "outlinewidth": 0,
             "ticks": ""
            },
            "type": "choropleth"
           }
          ],
          "contour": [
           {
            "colorbar": {
             "outlinewidth": 0,
             "ticks": ""
            },
            "colorscale": [
             [
              0,
              "#0d0887"
             ],
             [
              0.1111111111111111,
              "#46039f"
             ],
             [
              0.2222222222222222,
              "#7201a8"
             ],
             [
              0.3333333333333333,
              "#9c179e"
             ],
             [
              0.4444444444444444,
              "#bd3786"
             ],
             [
              0.5555555555555556,
              "#d8576b"
             ],
             [
              0.6666666666666666,
              "#ed7953"
             ],
             [
              0.7777777777777778,
              "#fb9f3a"
             ],
             [
              0.8888888888888888,
              "#fdca26"
             ],
             [
              1,
              "#f0f921"
             ]
            ],
            "type": "contour"
           }
          ],
          "contourcarpet": [
           {
            "colorbar": {
             "outlinewidth": 0,
             "ticks": ""
            },
            "type": "contourcarpet"
           }
          ],
          "heatmap": [
           {
            "colorbar": {
             "outlinewidth": 0,
             "ticks": ""
            },
            "colorscale": [
             [
              0,
              "#0d0887"
             ],
             [
              0.1111111111111111,
              "#46039f"
             ],
             [
              0.2222222222222222,
              "#7201a8"
             ],
             [
              0.3333333333333333,
              "#9c179e"
             ],
             [
              0.4444444444444444,
              "#bd3786"
             ],
             [
              0.5555555555555556,
              "#d8576b"
             ],
             [
              0.6666666666666666,
              "#ed7953"
             ],
             [
              0.7777777777777778,
              "#fb9f3a"
             ],
             [
              0.8888888888888888,
              "#fdca26"
             ],
             [
              1,
              "#f0f921"
             ]
            ],
            "type": "heatmap"
           }
          ],
          "heatmapgl": [
           {
            "colorbar": {
             "outlinewidth": 0,
             "ticks": ""
            },
            "colorscale": [
             [
              0,
              "#0d0887"
             ],
             [
              0.1111111111111111,
              "#46039f"
             ],
             [
              0.2222222222222222,
              "#7201a8"
             ],
             [
              0.3333333333333333,
              "#9c179e"
             ],
             [
              0.4444444444444444,
              "#bd3786"
             ],
             [
              0.5555555555555556,
              "#d8576b"
             ],
             [
              0.6666666666666666,
              "#ed7953"
             ],
             [
              0.7777777777777778,
              "#fb9f3a"
             ],
             [
              0.8888888888888888,
              "#fdca26"
             ],
             [
              1,
              "#f0f921"
             ]
            ],
            "type": "heatmapgl"
           }
          ],
          "histogram": [
           {
            "marker": {
             "colorbar": {
              "outlinewidth": 0,
              "ticks": ""
             }
            },
            "type": "histogram"
           }
          ],
          "histogram2d": [
           {
            "colorbar": {
             "outlinewidth": 0,
             "ticks": ""
            },
            "colorscale": [
             [
              0,
              "#0d0887"
             ],
             [
              0.1111111111111111,
              "#46039f"
             ],
             [
              0.2222222222222222,
              "#7201a8"
             ],
             [
              0.3333333333333333,
              "#9c179e"
             ],
             [
              0.4444444444444444,
              "#bd3786"
             ],
             [
              0.5555555555555556,
              "#d8576b"
             ],
             [
              0.6666666666666666,
              "#ed7953"
             ],
             [
              0.7777777777777778,
              "#fb9f3a"
             ],
             [
              0.8888888888888888,
              "#fdca26"
             ],
             [
              1,
              "#f0f921"
             ]
            ],
            "type": "histogram2d"
           }
          ],
          "histogram2dcontour": [
           {
            "colorbar": {
             "outlinewidth": 0,
             "ticks": ""
            },
            "colorscale": [
             [
              0,
              "#0d0887"
             ],
             [
              0.1111111111111111,
              "#46039f"
             ],
             [
              0.2222222222222222,
              "#7201a8"
             ],
             [
              0.3333333333333333,
              "#9c179e"
             ],
             [
              0.4444444444444444,
              "#bd3786"
             ],
             [
              0.5555555555555556,
              "#d8576b"
             ],
             [
              0.6666666666666666,
              "#ed7953"
             ],
             [
              0.7777777777777778,
              "#fb9f3a"
             ],
             [
              0.8888888888888888,
              "#fdca26"
             ],
             [
              1,
              "#f0f921"
             ]
            ],
            "type": "histogram2dcontour"
           }
          ],
          "mesh3d": [
           {
            "colorbar": {
             "outlinewidth": 0,
             "ticks": ""
            },
            "type": "mesh3d"
           }
          ],
          "parcoords": [
           {
            "line": {
             "colorbar": {
              "outlinewidth": 0,
              "ticks": ""
             }
            },
            "type": "parcoords"
           }
          ],
          "pie": [
           {
            "automargin": true,
            "type": "pie"
           }
          ],
          "scatter": [
           {
            "marker": {
             "colorbar": {
              "outlinewidth": 0,
              "ticks": ""
             }
            },
            "type": "scatter"
           }
          ],
          "scatter3d": [
           {
            "line": {
             "colorbar": {
              "outlinewidth": 0,
              "ticks": ""
             }
            },
            "marker": {
             "colorbar": {
              "outlinewidth": 0,
              "ticks": ""
             }
            },
            "type": "scatter3d"
           }
          ],
          "scattercarpet": [
           {
            "marker": {
             "colorbar": {
              "outlinewidth": 0,
              "ticks": ""
             }
            },
            "type": "scattercarpet"
           }
          ],
          "scattergeo": [
           {
            "marker": {
             "colorbar": {
              "outlinewidth": 0,
              "ticks": ""
             }
            },
            "type": "scattergeo"
           }
          ],
          "scattergl": [
           {
            "marker": {
             "colorbar": {
              "outlinewidth": 0,
              "ticks": ""
             }
            },
            "type": "scattergl"
           }
          ],
          "scattermapbox": [
           {
            "marker": {
             "colorbar": {
              "outlinewidth": 0,
              "ticks": ""
             }
            },
            "type": "scattermapbox"
           }
          ],
          "scatterpolar": [
           {
            "marker": {
             "colorbar": {
              "outlinewidth": 0,
              "ticks": ""
             }
            },
            "type": "scatterpolar"
           }
          ],
          "scatterpolargl": [
           {
            "marker": {
             "colorbar": {
              "outlinewidth": 0,
              "ticks": ""
             }
            },
            "type": "scatterpolargl"
           }
          ],
          "scatterternary": [
           {
            "marker": {
             "colorbar": {
              "outlinewidth": 0,
              "ticks": ""
             }
            },
            "type": "scatterternary"
           }
          ],
          "surface": [
           {
            "colorbar": {
             "outlinewidth": 0,
             "ticks": ""
            },
            "colorscale": [
             [
              0,
              "#0d0887"
             ],
             [
              0.1111111111111111,
              "#46039f"
             ],
             [
              0.2222222222222222,
              "#7201a8"
             ],
             [
              0.3333333333333333,
              "#9c179e"
             ],
             [
              0.4444444444444444,
              "#bd3786"
             ],
             [
              0.5555555555555556,
              "#d8576b"
             ],
             [
              0.6666666666666666,
              "#ed7953"
             ],
             [
              0.7777777777777778,
              "#fb9f3a"
             ],
             [
              0.8888888888888888,
              "#fdca26"
             ],
             [
              1,
              "#f0f921"
             ]
            ],
            "type": "surface"
           }
          ],
          "table": [
           {
            "cells": {
             "fill": {
              "color": "#EBF0F8"
             },
             "line": {
              "color": "white"
             }
            },
            "header": {
             "fill": {
              "color": "#C8D4E3"
             },
             "line": {
              "color": "white"
             }
            },
            "type": "table"
           }
          ]
         },
         "layout": {
          "annotationdefaults": {
           "arrowcolor": "#2a3f5f",
           "arrowhead": 0,
           "arrowwidth": 1
          },
          "coloraxis": {
           "colorbar": {
            "outlinewidth": 0,
            "ticks": ""
           }
          },
          "colorscale": {
           "diverging": [
            [
             0,
             "#8e0152"
            ],
            [
             0.1,
             "#c51b7d"
            ],
            [
             0.2,
             "#de77ae"
            ],
            [
             0.3,
             "#f1b6da"
            ],
            [
             0.4,
             "#fde0ef"
            ],
            [
             0.5,
             "#f7f7f7"
            ],
            [
             0.6,
             "#e6f5d0"
            ],
            [
             0.7,
             "#b8e186"
            ],
            [
             0.8,
             "#7fbc41"
            ],
            [
             0.9,
             "#4d9221"
            ],
            [
             1,
             "#276419"
            ]
           ],
           "sequential": [
            [
             0,
             "#0d0887"
            ],
            [
             0.1111111111111111,
             "#46039f"
            ],
            [
             0.2222222222222222,
             "#7201a8"
            ],
            [
             0.3333333333333333,
             "#9c179e"
            ],
            [
             0.4444444444444444,
             "#bd3786"
            ],
            [
             0.5555555555555556,
             "#d8576b"
            ],
            [
             0.6666666666666666,
             "#ed7953"
            ],
            [
             0.7777777777777778,
             "#fb9f3a"
            ],
            [
             0.8888888888888888,
             "#fdca26"
            ],
            [
             1,
             "#f0f921"
            ]
           ],
           "sequentialminus": [
            [
             0,
             "#0d0887"
            ],
            [
             0.1111111111111111,
             "#46039f"
            ],
            [
             0.2222222222222222,
             "#7201a8"
            ],
            [
             0.3333333333333333,
             "#9c179e"
            ],
            [
             0.4444444444444444,
             "#bd3786"
            ],
            [
             0.5555555555555556,
             "#d8576b"
            ],
            [
             0.6666666666666666,
             "#ed7953"
            ],
            [
             0.7777777777777778,
             "#fb9f3a"
            ],
            [
             0.8888888888888888,
             "#fdca26"
            ],
            [
             1,
             "#f0f921"
            ]
           ]
          },
          "colorway": [
           "#636efa",
           "#EF553B",
           "#00cc96",
           "#ab63fa",
           "#FFA15A",
           "#19d3f3",
           "#FF6692",
           "#B6E880",
           "#FF97FF",
           "#FECB52"
          ],
          "font": {
           "color": "#2a3f5f"
          },
          "geo": {
           "bgcolor": "white",
           "lakecolor": "white",
           "landcolor": "white",
           "showlakes": true,
           "showland": true,
           "subunitcolor": "#C8D4E3"
          },
          "hoverlabel": {
           "align": "left"
          },
          "hovermode": "closest",
          "mapbox": {
           "style": "light"
          },
          "paper_bgcolor": "white",
          "plot_bgcolor": "white",
          "polar": {
           "angularaxis": {
            "gridcolor": "#EBF0F8",
            "linecolor": "#EBF0F8",
            "ticks": ""
           },
           "bgcolor": "white",
           "radialaxis": {
            "gridcolor": "#EBF0F8",
            "linecolor": "#EBF0F8",
            "ticks": ""
           }
          },
          "scene": {
           "xaxis": {
            "backgroundcolor": "white",
            "gridcolor": "#DFE8F3",
            "gridwidth": 2,
            "linecolor": "#EBF0F8",
            "showbackground": true,
            "ticks": "",
            "zerolinecolor": "#EBF0F8"
           },
           "yaxis": {
            "backgroundcolor": "white",
            "gridcolor": "#DFE8F3",
            "gridwidth": 2,
            "linecolor": "#EBF0F8",
            "showbackground": true,
            "ticks": "",
            "zerolinecolor": "#EBF0F8"
           },
           "zaxis": {
            "backgroundcolor": "white",
            "gridcolor": "#DFE8F3",
            "gridwidth": 2,
            "linecolor": "#EBF0F8",
            "showbackground": true,
            "ticks": "",
            "zerolinecolor": "#EBF0F8"
           }
          },
          "shapedefaults": {
           "line": {
            "color": "#2a3f5f"
           }
          },
          "ternary": {
           "aaxis": {
            "gridcolor": "#DFE8F3",
            "linecolor": "#A2B1C6",
            "ticks": ""
           },
           "baxis": {
            "gridcolor": "#DFE8F3",
            "linecolor": "#A2B1C6",
            "ticks": ""
           },
           "bgcolor": "white",
           "caxis": {
            "gridcolor": "#DFE8F3",
            "linecolor": "#A2B1C6",
            "ticks": ""
           }
          },
          "title": {
           "x": 0.05
          },
          "xaxis": {
           "automargin": true,
           "gridcolor": "#EBF0F8",
           "linecolor": "#EBF0F8",
           "ticks": "",
           "title": {
            "standoff": 15
           },
           "zerolinecolor": "#EBF0F8",
           "zerolinewidth": 2
          },
          "yaxis": {
           "automargin": true,
           "gridcolor": "#EBF0F8",
           "linecolor": "#EBF0F8",
           "ticks": "",
           "title": {
            "standoff": 15
           },
           "zerolinecolor": "#EBF0F8",
           "zerolinewidth": 2
          }
         }
        },
        "xaxis": {
         "anchor": "y",
         "domain": [
          0,
          1
         ],
         "title": {
          "text": "Número de discos"
         }
        },
        "yaxis": {
         "anchor": "x",
         "categoryorder": "category descending",
         "domain": [
          0,
          1
         ],
         "nticks": 100,
         "tickfont": {
          "size": 9
         },
         "tickmode": "linear",
         "title": {
          "text": "Artista"
         }
        }
       }
      },
      "text/html": [
       "<div>\n",
       "        \n",
       "        \n",
       "            <div id=\"affb3fb0-e816-49dc-a383-8ad7eb776f24\" class=\"plotly-graph-div\" style=\"height:1100px; width:100%;\"></div>\n",
       "            <script type=\"text/javascript\">\n",
       "                require([\"plotly\"], function(Plotly) {\n",
       "                    window.PLOTLYENV=window.PLOTLYENV || {};\n",
       "                    \n",
       "                if (document.getElementById(\"affb3fb0-e816-49dc-a383-8ad7eb776f24\")) {\n",
       "                    Plotly.newPlot(\n",
       "                        'affb3fb0-e816-49dc-a383-8ad7eb776f24',\n",
       "                        [{\"alignmentgroup\": \"True\", \"hovertemplate\": \"total=%{x}<br>artist=%{y}<extra></extra>\", \"legendgroup\": \"\", \"marker\": {\"color\": \"#005867\"}, \"name\": \"\", \"offsetgroup\": \"\", \"orientation\": \"h\", \"showlegend\": false, \"textposition\": \"auto\", \"type\": \"bar\", \"x\": [275, 258, 226, 219, 122, 119, 116, 108, 98, 91, 89, 87, 82, 77, 71, 67, 60, 59, 57, 57, 56, 55, 53, 51, 50, 50, 50, 48, 47, 46, 45, 45, 45, 44, 44, 42, 40, 39, 39, 39, 38, 38, 38, 36, 36, 34, 34, 34, 34, 34, 34, 33, 33, 33, 32, 32, 32, 32, 32, 31, 31, 31, 31, 31, 30, 30, 29, 29, 28, 26, 26, 26, 26, 26, 25, 25, 25, 25, 25, 25, 25, 24, 24, 23, 23, 23, 23, 23, 23, 23, 23, 22, 22, 22, 22, 22, 22, 22, 22, 21], \"xaxis\": \"x\", \"y\": [\"001 - Pink Floyd\", \"002 - Metallica\", \"003 - David Bowie\", \"004 - Queen\", \"005 - Soda Stereo\", \"006 - Led Zeppelin\", \"007 - The Cure\", \"008 - Iron Maiden\", \"009 - The Beatles\", \"010 - Black Sabbath\", \"011 - The Rolling Stones\", \"012 - Depeche Mode\", \"013 - U2\", \"014 - Radiohead\", \"015 - Nirvana\", \"016 - Yes\", \"017 - Pearl Jam\", \"018 - Willie Col\\u00f3n\", \"019 - Kraftwerk\", \"020 - Sonic Youth\", \"021 - The Alan Parsons Project\", \"022 - Moby\", \"023 - Roxy Music\", \"024 - King Crimson\", \"026 - The Doors\", \"027 - Guns N' Roses\", \"025 - New Order\", \"028 - Deep Purple\", \"029 - Siouxsie & The Banshees\", \"030 - Jethro Tull\", \"031 - Ruben Blades\", \"032 - Talking Heads\", \"033 - Kiss\", \"034 - Gustavo Cerati\", \"035 - Rush\", \"036 - Fania All Stars\", \"037 - Gorillaz\", \"039 - Emerson, Lake & Palmer\", \"040 - Supertramp\", \"038 - AC/DC\", \"041 - Tool (2)\", \"042 - The Police\", \"043 - Santana\", \"044 - The Smiths\", \"045 - Michael Jackson\", \"046 - The Clash\", \"047 - R.E.M.\", \"048 - Fleetwood Mac\", \"049 - Ludwig van Beethoven\", \"050 - Fito P\\u00e1ez\", \"051 - Mongo Santamaria\", \"053 - Charly Garcia\", \"054 - Andr\\u00e9s Calamaro\", \"052 - Jimi Hendrix\", \"056 - Portishead\", \"057 - Caifanes\", \"058 - Ozzy Osbourne\", \"059 - Pixies\", \"055 - Styx\", \"062 - Daft Punk\", \"064 - Joy Division\", \"063 - Porcupine Tree\", \"061 - Brian Eno\", \"060 - Kraken (8)\", \"065 - Primus\", \"066 - Ghost (32)\", \"067 - Estados Alterados\", \"068 - Ekhymosis\", \"069 - Bob Dylan\", \"072 - Nine Inch Nails\", \"074 - Journey\", \"073 - Genesis\", \"071 - Bauhaus\", \"070 - The Who\", \"075 - Pet Shop Boys\", \"076 - Bj\\u00f6rk\", \"077 - AIR\", \"078 - Scorpions\", \"079 - Xavier Cugat And His Orchestra\", \"080 - Ray Barretto\", \"081 - Hector Lavoe\", \"082 - System Of A Down\", \"083 - Tears For Fears\", \"089 - Rammstein\", \"088 - Coldplay\", \"091 - Van Halen\", \"090 - Billy Joel\", \"084 - Judas Priest\", \"087 - Aerosmith\", \"086 - Eric Clapton\", \"085 - Massive Attack\", \"099 - Pyotr Ilyich Tchaikovsky\", \"096 - Queens Of The Stone Age\", \"098 - The Cars\", \"097 - Cafe Tacuba\", \"093 - Cal Tjader\", \"095 - Madonna\", \"094 - Moonspell\", \"092 - Aterciopelados\", \"100 - Devo\"], \"yaxis\": \"y\"}],\n",
       "                        {\"barmode\": \"relative\", \"height\": 1100, \"legend\": {\"tracegroupgap\": 0}, \"margin\": {\"t\": 60}, \"template\": {\"data\": {\"bar\": [{\"error_x\": {\"color\": \"#2a3f5f\"}, \"error_y\": {\"color\": \"#2a3f5f\"}, \"marker\": {\"line\": {\"color\": \"white\", \"width\": 0.5}}, \"type\": \"bar\"}], \"barpolar\": [{\"marker\": {\"line\": {\"color\": \"white\", \"width\": 0.5}}, \"type\": \"barpolar\"}], \"carpet\": [{\"aaxis\": {\"endlinecolor\": \"#2a3f5f\", \"gridcolor\": \"#C8D4E3\", \"linecolor\": \"#C8D4E3\", \"minorgridcolor\": \"#C8D4E3\", \"startlinecolor\": \"#2a3f5f\"}, \"baxis\": {\"endlinecolor\": \"#2a3f5f\", \"gridcolor\": \"#C8D4E3\", \"linecolor\": \"#C8D4E3\", \"minorgridcolor\": \"#C8D4E3\", \"startlinecolor\": \"#2a3f5f\"}, \"type\": \"carpet\"}], \"choropleth\": [{\"colorbar\": {\"outlinewidth\": 0, \"ticks\": \"\"}, \"type\": \"choropleth\"}], \"contour\": [{\"colorbar\": {\"outlinewidth\": 0, \"ticks\": \"\"}, \"colorscale\": [[0.0, \"#0d0887\"], [0.1111111111111111, \"#46039f\"], [0.2222222222222222, \"#7201a8\"], [0.3333333333333333, \"#9c179e\"], [0.4444444444444444, \"#bd3786\"], [0.5555555555555556, \"#d8576b\"], [0.6666666666666666, \"#ed7953\"], [0.7777777777777778, \"#fb9f3a\"], [0.8888888888888888, \"#fdca26\"], [1.0, \"#f0f921\"]], \"type\": \"contour\"}], \"contourcarpet\": [{\"colorbar\": {\"outlinewidth\": 0, \"ticks\": \"\"}, \"type\": \"contourcarpet\"}], \"heatmap\": [{\"colorbar\": {\"outlinewidth\": 0, \"ticks\": \"\"}, \"colorscale\": [[0.0, \"#0d0887\"], [0.1111111111111111, \"#46039f\"], [0.2222222222222222, \"#7201a8\"], [0.3333333333333333, \"#9c179e\"], [0.4444444444444444, \"#bd3786\"], [0.5555555555555556, \"#d8576b\"], [0.6666666666666666, \"#ed7953\"], [0.7777777777777778, \"#fb9f3a\"], [0.8888888888888888, \"#fdca26\"], [1.0, \"#f0f921\"]], \"type\": \"heatmap\"}], \"heatmapgl\": [{\"colorbar\": {\"outlinewidth\": 0, \"ticks\": \"\"}, \"colorscale\": [[0.0, \"#0d0887\"], [0.1111111111111111, \"#46039f\"], [0.2222222222222222, \"#7201a8\"], [0.3333333333333333, \"#9c179e\"], [0.4444444444444444, \"#bd3786\"], [0.5555555555555556, \"#d8576b\"], [0.6666666666666666, \"#ed7953\"], [0.7777777777777778, \"#fb9f3a\"], [0.8888888888888888, \"#fdca26\"], [1.0, \"#f0f921\"]], \"type\": \"heatmapgl\"}], \"histogram\": [{\"marker\": {\"colorbar\": {\"outlinewidth\": 0, \"ticks\": \"\"}}, \"type\": \"histogram\"}], \"histogram2d\": [{\"colorbar\": {\"outlinewidth\": 0, \"ticks\": \"\"}, \"colorscale\": [[0.0, \"#0d0887\"], [0.1111111111111111, \"#46039f\"], [0.2222222222222222, \"#7201a8\"], [0.3333333333333333, \"#9c179e\"], [0.4444444444444444, \"#bd3786\"], [0.5555555555555556, \"#d8576b\"], [0.6666666666666666, \"#ed7953\"], [0.7777777777777778, \"#fb9f3a\"], [0.8888888888888888, \"#fdca26\"], [1.0, \"#f0f921\"]], \"type\": \"histogram2d\"}], \"histogram2dcontour\": [{\"colorbar\": {\"outlinewidth\": 0, \"ticks\": \"\"}, \"colorscale\": [[0.0, \"#0d0887\"], [0.1111111111111111, \"#46039f\"], [0.2222222222222222, \"#7201a8\"], [0.3333333333333333, \"#9c179e\"], [0.4444444444444444, \"#bd3786\"], [0.5555555555555556, \"#d8576b\"], [0.6666666666666666, \"#ed7953\"], [0.7777777777777778, \"#fb9f3a\"], [0.8888888888888888, \"#fdca26\"], [1.0, \"#f0f921\"]], \"type\": \"histogram2dcontour\"}], \"mesh3d\": [{\"colorbar\": {\"outlinewidth\": 0, \"ticks\": \"\"}, \"type\": \"mesh3d\"}], \"parcoords\": [{\"line\": {\"colorbar\": {\"outlinewidth\": 0, \"ticks\": \"\"}}, \"type\": \"parcoords\"}], \"pie\": [{\"automargin\": true, \"type\": \"pie\"}], \"scatter\": [{\"marker\": {\"colorbar\": {\"outlinewidth\": 0, \"ticks\": \"\"}}, \"type\": \"scatter\"}], \"scatter3d\": [{\"line\": {\"colorbar\": {\"outlinewidth\": 0, \"ticks\": \"\"}}, \"marker\": {\"colorbar\": {\"outlinewidth\": 0, \"ticks\": \"\"}}, \"type\": \"scatter3d\"}], \"scattercarpet\": [{\"marker\": {\"colorbar\": {\"outlinewidth\": 0, \"ticks\": \"\"}}, \"type\": \"scattercarpet\"}], \"scattergeo\": [{\"marker\": {\"colorbar\": {\"outlinewidth\": 0, \"ticks\": \"\"}}, \"type\": \"scattergeo\"}], \"scattergl\": [{\"marker\": {\"colorbar\": {\"outlinewidth\": 0, \"ticks\": \"\"}}, \"type\": \"scattergl\"}], \"scattermapbox\": [{\"marker\": {\"colorbar\": {\"outlinewidth\": 0, \"ticks\": \"\"}}, \"type\": \"scattermapbox\"}], \"scatterpolar\": [{\"marker\": {\"colorbar\": {\"outlinewidth\": 0, \"ticks\": \"\"}}, \"type\": \"scatterpolar\"}], \"scatterpolargl\": [{\"marker\": {\"colorbar\": {\"outlinewidth\": 0, \"ticks\": \"\"}}, \"type\": \"scatterpolargl\"}], \"scatterternary\": [{\"marker\": {\"colorbar\": {\"outlinewidth\": 0, \"ticks\": \"\"}}, \"type\": \"scatterternary\"}], \"surface\": [{\"colorbar\": {\"outlinewidth\": 0, \"ticks\": \"\"}, \"colorscale\": [[0.0, \"#0d0887\"], [0.1111111111111111, \"#46039f\"], [0.2222222222222222, \"#7201a8\"], [0.3333333333333333, \"#9c179e\"], [0.4444444444444444, \"#bd3786\"], [0.5555555555555556, \"#d8576b\"], [0.6666666666666666, \"#ed7953\"], [0.7777777777777778, \"#fb9f3a\"], [0.8888888888888888, \"#fdca26\"], [1.0, \"#f0f921\"]], \"type\": \"surface\"}], \"table\": [{\"cells\": {\"fill\": {\"color\": \"#EBF0F8\"}, \"line\": {\"color\": \"white\"}}, \"header\": {\"fill\": {\"color\": \"#C8D4E3\"}, \"line\": {\"color\": \"white\"}}, \"type\": \"table\"}]}, \"layout\": {\"annotationdefaults\": {\"arrowcolor\": \"#2a3f5f\", \"arrowhead\": 0, \"arrowwidth\": 1}, \"coloraxis\": {\"colorbar\": {\"outlinewidth\": 0, \"ticks\": \"\"}}, \"colorscale\": {\"diverging\": [[0, \"#8e0152\"], [0.1, \"#c51b7d\"], [0.2, \"#de77ae\"], [0.3, \"#f1b6da\"], [0.4, \"#fde0ef\"], [0.5, \"#f7f7f7\"], [0.6, \"#e6f5d0\"], [0.7, \"#b8e186\"], [0.8, \"#7fbc41\"], [0.9, \"#4d9221\"], [1, \"#276419\"]], \"sequential\": [[0.0, \"#0d0887\"], [0.1111111111111111, \"#46039f\"], [0.2222222222222222, \"#7201a8\"], [0.3333333333333333, \"#9c179e\"], [0.4444444444444444, \"#bd3786\"], [0.5555555555555556, \"#d8576b\"], [0.6666666666666666, \"#ed7953\"], [0.7777777777777778, \"#fb9f3a\"], [0.8888888888888888, \"#fdca26\"], [1.0, \"#f0f921\"]], \"sequentialminus\": [[0.0, \"#0d0887\"], [0.1111111111111111, \"#46039f\"], [0.2222222222222222, \"#7201a8\"], [0.3333333333333333, \"#9c179e\"], [0.4444444444444444, \"#bd3786\"], [0.5555555555555556, \"#d8576b\"], [0.6666666666666666, \"#ed7953\"], [0.7777777777777778, \"#fb9f3a\"], [0.8888888888888888, \"#fdca26\"], [1.0, \"#f0f921\"]]}, \"colorway\": [\"#636efa\", \"#EF553B\", \"#00cc96\", \"#ab63fa\", \"#FFA15A\", \"#19d3f3\", \"#FF6692\", \"#B6E880\", \"#FF97FF\", \"#FECB52\"], \"font\": {\"color\": \"#2a3f5f\"}, \"geo\": {\"bgcolor\": \"white\", \"lakecolor\": \"white\", \"landcolor\": \"white\", \"showlakes\": true, \"showland\": true, \"subunitcolor\": \"#C8D4E3\"}, \"hoverlabel\": {\"align\": \"left\"}, \"hovermode\": \"closest\", \"mapbox\": {\"style\": \"light\"}, \"paper_bgcolor\": \"white\", \"plot_bgcolor\": \"white\", \"polar\": {\"angularaxis\": {\"gridcolor\": \"#EBF0F8\", \"linecolor\": \"#EBF0F8\", \"ticks\": \"\"}, \"bgcolor\": \"white\", \"radialaxis\": {\"gridcolor\": \"#EBF0F8\", \"linecolor\": \"#EBF0F8\", \"ticks\": \"\"}}, \"scene\": {\"xaxis\": {\"backgroundcolor\": \"white\", \"gridcolor\": \"#DFE8F3\", \"gridwidth\": 2, \"linecolor\": \"#EBF0F8\", \"showbackground\": true, \"ticks\": \"\", \"zerolinecolor\": \"#EBF0F8\"}, \"yaxis\": {\"backgroundcolor\": \"white\", \"gridcolor\": \"#DFE8F3\", \"gridwidth\": 2, \"linecolor\": \"#EBF0F8\", \"showbackground\": true, \"ticks\": \"\", \"zerolinecolor\": \"#EBF0F8\"}, \"zaxis\": {\"backgroundcolor\": \"white\", \"gridcolor\": \"#DFE8F3\", \"gridwidth\": 2, \"linecolor\": \"#EBF0F8\", \"showbackground\": true, \"ticks\": \"\", \"zerolinecolor\": \"#EBF0F8\"}}, \"shapedefaults\": {\"line\": {\"color\": \"#2a3f5f\"}}, \"ternary\": {\"aaxis\": {\"gridcolor\": \"#DFE8F3\", \"linecolor\": \"#A2B1C6\", \"ticks\": \"\"}, \"baxis\": {\"gridcolor\": \"#DFE8F3\", \"linecolor\": \"#A2B1C6\", \"ticks\": \"\"}, \"bgcolor\": \"white\", \"caxis\": {\"gridcolor\": \"#DFE8F3\", \"linecolor\": \"#A2B1C6\", \"ticks\": \"\"}}, \"title\": {\"x\": 0.05}, \"xaxis\": {\"automargin\": true, \"gridcolor\": \"#EBF0F8\", \"linecolor\": \"#EBF0F8\", \"ticks\": \"\", \"title\": {\"standoff\": 15}, \"zerolinecolor\": \"#EBF0F8\", \"zerolinewidth\": 2}, \"yaxis\": {\"automargin\": true, \"gridcolor\": \"#EBF0F8\", \"linecolor\": \"#EBF0F8\", \"ticks\": \"\", \"title\": {\"standoff\": 15}, \"zerolinecolor\": \"#EBF0F8\", \"zerolinewidth\": 2}}}, \"xaxis\": {\"anchor\": \"y\", \"domain\": [0.0, 1.0], \"title\": {\"text\": \"N\\u00famero de discos\"}}, \"yaxis\": {\"anchor\": \"x\", \"categoryorder\": \"category descending\", \"domain\": [0.0, 1.0], \"nticks\": 100, \"tickfont\": {\"size\": 9}, \"tickmode\": \"linear\", \"title\": {\"text\": \"Artista\"}}},\n",
       "                        {\"responsive\": true}\n",
       "                    ).then(function(){\n",
       "                            \n",
       "var gd = document.getElementById('affb3fb0-e816-49dc-a383-8ad7eb776f24');\n",
       "var x = new MutationObserver(function (mutations, observer) {{\n",
       "        var display = window.getComputedStyle(gd).display;\n",
       "        if (!display || display === 'none') {{\n",
       "            console.log([gd, 'removed!']);\n",
       "            Plotly.purge(gd);\n",
       "            observer.disconnect();\n",
       "        }}\n",
       "}});\n",
       "\n",
       "// Listen for the removal of the full notebook cells\n",
       "var notebookContainer = gd.closest('#notebook-container');\n",
       "if (notebookContainer) {{\n",
       "    x.observe(notebookContainer, {childList: true});\n",
       "}}\n",
       "\n",
       "// Listen for the clearing of the current output cell\n",
       "var outputEl = gd.closest('.output');\n",
       "if (outputEl) {{\n",
       "    x.observe(outputEl, {childList: true});\n",
       "}}\n",
       "\n",
       "                        })\n",
       "                };\n",
       "                });\n",
       "            </script>\n",
       "        </div>"
      ]
     },
     "metadata": {},
     "output_type": "display_data"
    }
   ],
   "source": [
    "px.bar(all_releases_artist_stats.sort_values(by='total', ascending=False)[offset_top:offset_top+n_top], \n",
    "       x=\"total\", y=\"artist\", orientation='h',color_discrete_sequence=cm_466,template='plotly_white',\n",
    "       height=1100).update_xaxes(title = 'Número de discos').update_yaxes(nticks=n_top,\n",
    "                                                                          tickmode='linear',\n",
    "                                                                          tickfont={'size':9},\n",
    "                                                                          title = 'Artista',\n",
    "                                                                          categoryorder=\"category descending\")\n"
   ]
  },
  {
   "cell_type": "markdown",
   "metadata": {},
   "source": [
    "Para terminar, los álbumes más coleccionados son The Dark Side of the Moon (0.24%), Master of Puppets (0.19%), Ride the Lightning (0.16%), The Wall (0.16%) y Kill'em All (0.16%). Un aspecto interesante que puede apreciarse en la gráfica, es que la muchos de los discos son coleccionados más de una vez por la misma persona (discos repetidos en amarillo). Espero que les haya gustado esta entrada, así que no duden en compartir sus comentarios o ideas para futuras publicaciones en este tema, pues la información que podemos extraer de Discogs es gigante y personalmente tengo muchas ideas sobre otras estadísticas bien interesantes que se podrían generar con nuestras colecciones. Muchas gracias a todos los amigos de la caja por compartir sus discogs ids y a Juan Rafael por su ayuda en la selección del punto de corte para clasificar un disco como [SAE](https://lacajasoundbox.com/blogs/comunidad/glosario-esencial-para-los-cajiamigos-coleccionistas): 1995. Como bonus track y aportando con la discusión semanal de la comunidad, les dejo el Top de álbumes más coleccionados de Soda Stereo: Canción Animal (14%), Doble Vida (12%), Signos (10%), Soda Stereo (10%) y un empate técnico entre el Sueño Stereo y el Dynamo con el 7.38% (en serio!)."
   ]
  },
  {
   "cell_type": "code",
   "execution_count": 63,
   "metadata": {},
   "outputs": [
    {
     "data": {
      "application/vnd.plotly.v1+json": {
       "config": {
        "plotlyServerURL": "https://plot.ly"
       },
       "data": [
        {
         "alignmentgroup": "True",
         "hovertemplate": "Tipo=únicos<br>value=%{x}<br>artist_album=%{y}<extra></extra>",
         "legendgroup": "únicos",
         "marker": {
          "color": "#005867"
         },
         "name": "únicos",
         "offsetgroup": "únicos",
         "orientation": "h",
         "showlegend": true,
         "textposition": "auto",
         "type": "bar",
         "x": [
          23,
          14,
          14,
          17,
          12,
          11,
          16,
          15,
          10,
          17,
          14,
          11,
          15,
          12,
          11,
          9,
          14,
          14,
          13,
          14,
          14,
          9,
          13,
          10,
          12,
          10,
          10,
          9,
          12,
          10,
          12,
          9,
          10,
          10,
          7,
          11,
          10,
          7,
          9,
          9,
          9,
          10,
          10,
          7,
          6,
          10,
          10,
          10,
          10,
          7,
          8,
          9,
          8,
          7,
          9,
          9,
          9,
          9,
          9,
          9,
          6,
          9,
          9,
          8,
          9,
          8,
          7,
          8,
          8,
          7,
          8,
          8,
          8,
          8,
          8,
          7,
          7,
          7,
          8,
          7,
          8,
          8,
          5,
          8,
          8,
          8,
          8,
          6,
          7,
          6,
          7,
          8,
          8,
          7,
          5,
          7,
          6,
          6,
          6,
          7
         ],
         "xaxis": "x",
         "y": [
          "001 - Pink Floyd - The Dark Side Of The Moon",
          "002 - Metallica - Master Of Puppets",
          "003 - Metallica - Ride The Lightning",
          "004 - Pink Floyd - The Wall",
          "005 - Metallica - Kill 'Em All",
          "006 - Metallica - ...And Justice For All",
          "007 - Michael Jackson - Thriller",
          "008 - Pink Floyd - Wish You Were Here",
          "009 - Metallica - Metallica",
          "010 - The Cure - Disintegration",
          "011 - Soda Stereo - Canción Animal",
          "012 - David Bowie - The Rise And Fall Of Ziggy Stardust And The Spiders From Mars",
          "013 - Nirvana - MTV Unplugged In New York",
          "014 - Queen - Greatest Hits",
          "015 - Guns N' Roses - Appetite For Destruction",
          "016 - Metallica - The $5.98 E.P. - Garage Days Re-Revisited",
          "017 - Soda Stereo - Doble Vida",
          "018 - Pink Floyd - Meddle",
          "019 - Pearl Jam - Ten",
          "020 - Nirvana - Nevermind",
          "021 - Bajo Tierra (2) - Bajo Tierra",
          "022 - Queen - A Night At The Opera",
          "023 - Pink Floyd - Animals",
          "024 - Queen - The Game",
          "025 - Depeche Mode - Violator",
          "026 - Led Zeppelin - In Through The Out Door",
          "027 - Soda Stereo - Signos",
          "028 - Queen - News Of The World",
          "029 - Aterciopelados - El Dorado",
          "030 - Soda Stereo - Soda Stereo",
          "031 - Joy Division - Unknown Pleasures",
          "032 - David Bowie - \"Heroes\"",
          "033 - Pink Floyd - Atom Heart Mother",
          "034 - Led Zeppelin - Led Zeppelin",
          "035 - Queen - A Day At The Races",
          "036 - Portishead - Portishead",
          "037 - Iron Maiden - The Number Of The Beast",
          "038 - Queen - Jazz",
          "039 - Pink Floyd - The Final Cut",
          "040 - Black Sabbath - Black Sabbath",
          "041 - Pink Floyd - Ummagumma",
          "042 - U2 - The Joshua Tree",
          "043 - Led Zeppelin - Led Zeppelin II",
          "044 - Nirvana - Incesticide",
          "045 - David Bowie - Low",
          "046 - Black Sabbath - Paranoid",
          "047 - AC/DC - Back In Black",
          "048 - Tool (2) - 10,000 Days",
          "049 - Nirvana - Bleach",
          "050 - Metallica - St. Anger",
          "051 - Soda Stereo - Sueño Stereo",
          "052 - The Smiths - The Queen Is Dead",
          "053 - Gorillaz - Demon Days",
          "054 - Pink Floyd - Obscured By Clouds",
          "055 - David Bowie - Let's Dance",
          "056 - Radiohead - OK Computer",
          "057 - Radiohead - Kid A",
          "058 - Daft Punk - Discovery",
          "059 - Metropolitan (Medellín) - This Road / On Your Lips",
          "060 - Red Hot Chili Peppers - Blood Sugar Sex Magik",
          "061 - Queen - A Kind Of Magic",
          "062 - Radiohead - In Rainbows",
          "063 - The Police - Synchronicity",
          "064 - Soda Stereo - Dynamo",
          "065 - Led Zeppelin - Untitled",
          "066 - Led Zeppelin - The Soundtrack From The Film The Song Remains The Same",
          "067 - Pink Floyd - A Collection Of Great Dance Songs",
          "068 - The Beatles - Sgt. Pepper's Lonely Hearts Club Band",
          "069 - David Bowie - Diamond Dogs",
          "070 - System Of A Down - Toxicity",
          "071 - The Clash - London Calling",
          "072 - System Of A Down - System Of A Down",
          "073 - Pixies - Doolittle",
          "074 - Iron Maiden - Live After Death",
          "075 - Led Zeppelin - Physical Graffiti",
          "076 - Pink Floyd - Relics",
          "077 - The Alan Parsons Project - Eye In The Sky",
          "078 - David Bowie - Lodger",
          "079 - Depeche Mode - Music For The Masses",
          "080 - Nine Inch Nails - Pretty Hate Machine",
          "081 - Fleetwood Mac - Rumours",
          "082 - David Bowie - ★ (Blackstar)",
          "083 - Queen - Live Killers",
          "084 - Blondie - Parallel Lines",
          "085 - Portishead - Dummy",
          "086 - Portishead - Third",
          "087 - Guns N' Roses - Use Your Illusion II",
          "088 - U2 - Achtung Baby",
          "089 - The Beatles - Abbey Road",
          "090 - Carlos Vives - Clásicos De La Provincia",
          "091 - Led Zeppelin - Led Zeppelin III",
          "092 - The B-52's - The B-52's",
          "093 - Roxy Music - Roxy Music",
          "094 - The Beatles - The Beatles",
          "095 - Santana - Santana",
          "096 - Caifanes - El Silencio",
          "097 - Tool (2) - Ænima",
          "098 - The Beatles - Revolver",
          "099 - Eagles - Hotel California",
          "100 - The Cure - Seventeen Seconds"
         ],
         "yaxis": "y"
        },
        {
         "alignmentgroup": "True",
         "hovertemplate": "Tipo=repetidos<br>value=%{x}<br>artist_album=%{y}<extra></extra>",
         "legendgroup": "repetidos",
         "marker": {
          "color": "#FFB335"
         },
         "name": "repetidos",
         "offsetgroup": "repetidos",
         "orientation": "h",
         "showlegend": true,
         "textposition": "auto",
         "type": "bar",
         "x": [
          8,
          10,
          7,
          4,
          9,
          8,
          3,
          3,
          7,
          0,
          3,
          4,
          0,
          3,
          4,
          6,
          1,
          1,
          1,
          0,
          0,
          4,
          0,
          3,
          1,
          2,
          2,
          3,
          0,
          2,
          0,
          2,
          1,
          1,
          4,
          0,
          0,
          3,
          1,
          1,
          1,
          0,
          0,
          3,
          4,
          0,
          0,
          0,
          0,
          3,
          1,
          0,
          1,
          2,
          0,
          0,
          0,
          0,
          0,
          0,
          3,
          0,
          0,
          1,
          0,
          1,
          1,
          0,
          0,
          1,
          0,
          0,
          0,
          0,
          0,
          1,
          1,
          1,
          0,
          1,
          0,
          0,
          3,
          0,
          0,
          0,
          0,
          2,
          1,
          2,
          1,
          0,
          0,
          0,
          2,
          0,
          1,
          1,
          1,
          0
         ],
         "xaxis": "x",
         "y": [
          "001 - Pink Floyd - The Dark Side Of The Moon",
          "002 - Metallica - Master Of Puppets",
          "003 - Metallica - Ride The Lightning",
          "004 - Pink Floyd - The Wall",
          "005 - Metallica - Kill 'Em All",
          "006 - Metallica - ...And Justice For All",
          "007 - Michael Jackson - Thriller",
          "008 - Pink Floyd - Wish You Were Here",
          "009 - Metallica - Metallica",
          "010 - The Cure - Disintegration",
          "011 - Soda Stereo - Canción Animal",
          "012 - David Bowie - The Rise And Fall Of Ziggy Stardust And The Spiders From Mars",
          "013 - Nirvana - MTV Unplugged In New York",
          "014 - Queen - Greatest Hits",
          "015 - Guns N' Roses - Appetite For Destruction",
          "016 - Metallica - The $5.98 E.P. - Garage Days Re-Revisited",
          "017 - Soda Stereo - Doble Vida",
          "018 - Pink Floyd - Meddle",
          "019 - Pearl Jam - Ten",
          "020 - Nirvana - Nevermind",
          "021 - Bajo Tierra (2) - Bajo Tierra",
          "022 - Queen - A Night At The Opera",
          "023 - Pink Floyd - Animals",
          "024 - Queen - The Game",
          "025 - Depeche Mode - Violator",
          "026 - Led Zeppelin - In Through The Out Door",
          "027 - Soda Stereo - Signos",
          "028 - Queen - News Of The World",
          "029 - Aterciopelados - El Dorado",
          "030 - Soda Stereo - Soda Stereo",
          "031 - Joy Division - Unknown Pleasures",
          "032 - David Bowie - \"Heroes\"",
          "033 - Pink Floyd - Atom Heart Mother",
          "034 - Led Zeppelin - Led Zeppelin",
          "035 - Queen - A Day At The Races",
          "036 - Portishead - Portishead",
          "037 - Iron Maiden - The Number Of The Beast",
          "038 - Queen - Jazz",
          "039 - Pink Floyd - The Final Cut",
          "040 - Black Sabbath - Black Sabbath",
          "041 - Pink Floyd - Ummagumma",
          "042 - U2 - The Joshua Tree",
          "043 - Led Zeppelin - Led Zeppelin II",
          "044 - Nirvana - Incesticide",
          "045 - David Bowie - Low",
          "046 - Black Sabbath - Paranoid",
          "047 - AC/DC - Back In Black",
          "048 - Tool (2) - 10,000 Days",
          "049 - Nirvana - Bleach",
          "050 - Metallica - St. Anger",
          "051 - Soda Stereo - Sueño Stereo",
          "052 - The Smiths - The Queen Is Dead",
          "053 - Gorillaz - Demon Days",
          "054 - Pink Floyd - Obscured By Clouds",
          "055 - David Bowie - Let's Dance",
          "056 - Radiohead - OK Computer",
          "057 - Radiohead - Kid A",
          "058 - Daft Punk - Discovery",
          "059 - Metropolitan (Medellín) - This Road / On Your Lips",
          "060 - Red Hot Chili Peppers - Blood Sugar Sex Magik",
          "061 - Queen - A Kind Of Magic",
          "062 - Radiohead - In Rainbows",
          "063 - The Police - Synchronicity",
          "064 - Soda Stereo - Dynamo",
          "065 - Led Zeppelin - Untitled",
          "066 - Led Zeppelin - The Soundtrack From The Film The Song Remains The Same",
          "067 - Pink Floyd - A Collection Of Great Dance Songs",
          "068 - The Beatles - Sgt. Pepper's Lonely Hearts Club Band",
          "069 - David Bowie - Diamond Dogs",
          "070 - System Of A Down - Toxicity",
          "071 - The Clash - London Calling",
          "072 - System Of A Down - System Of A Down",
          "073 - Pixies - Doolittle",
          "074 - Iron Maiden - Live After Death",
          "075 - Led Zeppelin - Physical Graffiti",
          "076 - Pink Floyd - Relics",
          "077 - The Alan Parsons Project - Eye In The Sky",
          "078 - David Bowie - Lodger",
          "079 - Depeche Mode - Music For The Masses",
          "080 - Nine Inch Nails - Pretty Hate Machine",
          "081 - Fleetwood Mac - Rumours",
          "082 - David Bowie - ★ (Blackstar)",
          "083 - Queen - Live Killers",
          "084 - Blondie - Parallel Lines",
          "085 - Portishead - Dummy",
          "086 - Portishead - Third",
          "087 - Guns N' Roses - Use Your Illusion II",
          "088 - U2 - Achtung Baby",
          "089 - The Beatles - Abbey Road",
          "090 - Carlos Vives - Clásicos De La Provincia",
          "091 - Led Zeppelin - Led Zeppelin III",
          "092 - The B-52's - The B-52's",
          "093 - Roxy Music - Roxy Music",
          "094 - The Beatles - The Beatles",
          "095 - Santana - Santana",
          "096 - Caifanes - El Silencio",
          "097 - Tool (2) - Ænima",
          "098 - The Beatles - Revolver",
          "099 - Eagles - Hotel California",
          "100 - The Cure - Seventeen Seconds"
         ],
         "yaxis": "y"
        }
       ],
       "layout": {
        "barmode": "stack",
        "height": 1100,
        "legend": {
         "title": {
          "text": "Tipo"
         },
         "tracegroupgap": 0
        },
        "margin": {
         "t": 60
        },
        "template": {
         "data": {
          "bar": [
           {
            "error_x": {
             "color": "#2a3f5f"
            },
            "error_y": {
             "color": "#2a3f5f"
            },
            "marker": {
             "line": {
              "color": "white",
              "width": 0.5
             }
            },
            "type": "bar"
           }
          ],
          "barpolar": [
           {
            "marker": {
             "line": {
              "color": "white",
              "width": 0.5
             }
            },
            "type": "barpolar"
           }
          ],
          "carpet": [
           {
            "aaxis": {
             "endlinecolor": "#2a3f5f",
             "gridcolor": "#C8D4E3",
             "linecolor": "#C8D4E3",
             "minorgridcolor": "#C8D4E3",
             "startlinecolor": "#2a3f5f"
            },
            "baxis": {
             "endlinecolor": "#2a3f5f",
             "gridcolor": "#C8D4E3",
             "linecolor": "#C8D4E3",
             "minorgridcolor": "#C8D4E3",
             "startlinecolor": "#2a3f5f"
            },
            "type": "carpet"
           }
          ],
          "choropleth": [
           {
            "colorbar": {
             "outlinewidth": 0,
             "ticks": ""
            },
            "type": "choropleth"
           }
          ],
          "contour": [
           {
            "colorbar": {
             "outlinewidth": 0,
             "ticks": ""
            },
            "colorscale": [
             [
              0,
              "#0d0887"
             ],
             [
              0.1111111111111111,
              "#46039f"
             ],
             [
              0.2222222222222222,
              "#7201a8"
             ],
             [
              0.3333333333333333,
              "#9c179e"
             ],
             [
              0.4444444444444444,
              "#bd3786"
             ],
             [
              0.5555555555555556,
              "#d8576b"
             ],
             [
              0.6666666666666666,
              "#ed7953"
             ],
             [
              0.7777777777777778,
              "#fb9f3a"
             ],
             [
              0.8888888888888888,
              "#fdca26"
             ],
             [
              1,
              "#f0f921"
             ]
            ],
            "type": "contour"
           }
          ],
          "contourcarpet": [
           {
            "colorbar": {
             "outlinewidth": 0,
             "ticks": ""
            },
            "type": "contourcarpet"
           }
          ],
          "heatmap": [
           {
            "colorbar": {
             "outlinewidth": 0,
             "ticks": ""
            },
            "colorscale": [
             [
              0,
              "#0d0887"
             ],
             [
              0.1111111111111111,
              "#46039f"
             ],
             [
              0.2222222222222222,
              "#7201a8"
             ],
             [
              0.3333333333333333,
              "#9c179e"
             ],
             [
              0.4444444444444444,
              "#bd3786"
             ],
             [
              0.5555555555555556,
              "#d8576b"
             ],
             [
              0.6666666666666666,
              "#ed7953"
             ],
             [
              0.7777777777777778,
              "#fb9f3a"
             ],
             [
              0.8888888888888888,
              "#fdca26"
             ],
             [
              1,
              "#f0f921"
             ]
            ],
            "type": "heatmap"
           }
          ],
          "heatmapgl": [
           {
            "colorbar": {
             "outlinewidth": 0,
             "ticks": ""
            },
            "colorscale": [
             [
              0,
              "#0d0887"
             ],
             [
              0.1111111111111111,
              "#46039f"
             ],
             [
              0.2222222222222222,
              "#7201a8"
             ],
             [
              0.3333333333333333,
              "#9c179e"
             ],
             [
              0.4444444444444444,
              "#bd3786"
             ],
             [
              0.5555555555555556,
              "#d8576b"
             ],
             [
              0.6666666666666666,
              "#ed7953"
             ],
             [
              0.7777777777777778,
              "#fb9f3a"
             ],
             [
              0.8888888888888888,
              "#fdca26"
             ],
             [
              1,
              "#f0f921"
             ]
            ],
            "type": "heatmapgl"
           }
          ],
          "histogram": [
           {
            "marker": {
             "colorbar": {
              "outlinewidth": 0,
              "ticks": ""
             }
            },
            "type": "histogram"
           }
          ],
          "histogram2d": [
           {
            "colorbar": {
             "outlinewidth": 0,
             "ticks": ""
            },
            "colorscale": [
             [
              0,
              "#0d0887"
             ],
             [
              0.1111111111111111,
              "#46039f"
             ],
             [
              0.2222222222222222,
              "#7201a8"
             ],
             [
              0.3333333333333333,
              "#9c179e"
             ],
             [
              0.4444444444444444,
              "#bd3786"
             ],
             [
              0.5555555555555556,
              "#d8576b"
             ],
             [
              0.6666666666666666,
              "#ed7953"
             ],
             [
              0.7777777777777778,
              "#fb9f3a"
             ],
             [
              0.8888888888888888,
              "#fdca26"
             ],
             [
              1,
              "#f0f921"
             ]
            ],
            "type": "histogram2d"
           }
          ],
          "histogram2dcontour": [
           {
            "colorbar": {
             "outlinewidth": 0,
             "ticks": ""
            },
            "colorscale": [
             [
              0,
              "#0d0887"
             ],
             [
              0.1111111111111111,
              "#46039f"
             ],
             [
              0.2222222222222222,
              "#7201a8"
             ],
             [
              0.3333333333333333,
              "#9c179e"
             ],
             [
              0.4444444444444444,
              "#bd3786"
             ],
             [
              0.5555555555555556,
              "#d8576b"
             ],
             [
              0.6666666666666666,
              "#ed7953"
             ],
             [
              0.7777777777777778,
              "#fb9f3a"
             ],
             [
              0.8888888888888888,
              "#fdca26"
             ],
             [
              1,
              "#f0f921"
             ]
            ],
            "type": "histogram2dcontour"
           }
          ],
          "mesh3d": [
           {
            "colorbar": {
             "outlinewidth": 0,
             "ticks": ""
            },
            "type": "mesh3d"
           }
          ],
          "parcoords": [
           {
            "line": {
             "colorbar": {
              "outlinewidth": 0,
              "ticks": ""
             }
            },
            "type": "parcoords"
           }
          ],
          "pie": [
           {
            "automargin": true,
            "type": "pie"
           }
          ],
          "scatter": [
           {
            "marker": {
             "colorbar": {
              "outlinewidth": 0,
              "ticks": ""
             }
            },
            "type": "scatter"
           }
          ],
          "scatter3d": [
           {
            "line": {
             "colorbar": {
              "outlinewidth": 0,
              "ticks": ""
             }
            },
            "marker": {
             "colorbar": {
              "outlinewidth": 0,
              "ticks": ""
             }
            },
            "type": "scatter3d"
           }
          ],
          "scattercarpet": [
           {
            "marker": {
             "colorbar": {
              "outlinewidth": 0,
              "ticks": ""
             }
            },
            "type": "scattercarpet"
           }
          ],
          "scattergeo": [
           {
            "marker": {
             "colorbar": {
              "outlinewidth": 0,
              "ticks": ""
             }
            },
            "type": "scattergeo"
           }
          ],
          "scattergl": [
           {
            "marker": {
             "colorbar": {
              "outlinewidth": 0,
              "ticks": ""
             }
            },
            "type": "scattergl"
           }
          ],
          "scattermapbox": [
           {
            "marker": {
             "colorbar": {
              "outlinewidth": 0,
              "ticks": ""
             }
            },
            "type": "scattermapbox"
           }
          ],
          "scatterpolar": [
           {
            "marker": {
             "colorbar": {
              "outlinewidth": 0,
              "ticks": ""
             }
            },
            "type": "scatterpolar"
           }
          ],
          "scatterpolargl": [
           {
            "marker": {
             "colorbar": {
              "outlinewidth": 0,
              "ticks": ""
             }
            },
            "type": "scatterpolargl"
           }
          ],
          "scatterternary": [
           {
            "marker": {
             "colorbar": {
              "outlinewidth": 0,
              "ticks": ""
             }
            },
            "type": "scatterternary"
           }
          ],
          "surface": [
           {
            "colorbar": {
             "outlinewidth": 0,
             "ticks": ""
            },
            "colorscale": [
             [
              0,
              "#0d0887"
             ],
             [
              0.1111111111111111,
              "#46039f"
             ],
             [
              0.2222222222222222,
              "#7201a8"
             ],
             [
              0.3333333333333333,
              "#9c179e"
             ],
             [
              0.4444444444444444,
              "#bd3786"
             ],
             [
              0.5555555555555556,
              "#d8576b"
             ],
             [
              0.6666666666666666,
              "#ed7953"
             ],
             [
              0.7777777777777778,
              "#fb9f3a"
             ],
             [
              0.8888888888888888,
              "#fdca26"
             ],
             [
              1,
              "#f0f921"
             ]
            ],
            "type": "surface"
           }
          ],
          "table": [
           {
            "cells": {
             "fill": {
              "color": "#EBF0F8"
             },
             "line": {
              "color": "white"
             }
            },
            "header": {
             "fill": {
              "color": "#C8D4E3"
             },
             "line": {
              "color": "white"
             }
            },
            "type": "table"
           }
          ]
         },
         "layout": {
          "annotationdefaults": {
           "arrowcolor": "#2a3f5f",
           "arrowhead": 0,
           "arrowwidth": 1
          },
          "coloraxis": {
           "colorbar": {
            "outlinewidth": 0,
            "ticks": ""
           }
          },
          "colorscale": {
           "diverging": [
            [
             0,
             "#8e0152"
            ],
            [
             0.1,
             "#c51b7d"
            ],
            [
             0.2,
             "#de77ae"
            ],
            [
             0.3,
             "#f1b6da"
            ],
            [
             0.4,
             "#fde0ef"
            ],
            [
             0.5,
             "#f7f7f7"
            ],
            [
             0.6,
             "#e6f5d0"
            ],
            [
             0.7,
             "#b8e186"
            ],
            [
             0.8,
             "#7fbc41"
            ],
            [
             0.9,
             "#4d9221"
            ],
            [
             1,
             "#276419"
            ]
           ],
           "sequential": [
            [
             0,
             "#0d0887"
            ],
            [
             0.1111111111111111,
             "#46039f"
            ],
            [
             0.2222222222222222,
             "#7201a8"
            ],
            [
             0.3333333333333333,
             "#9c179e"
            ],
            [
             0.4444444444444444,
             "#bd3786"
            ],
            [
             0.5555555555555556,
             "#d8576b"
            ],
            [
             0.6666666666666666,
             "#ed7953"
            ],
            [
             0.7777777777777778,
             "#fb9f3a"
            ],
            [
             0.8888888888888888,
             "#fdca26"
            ],
            [
             1,
             "#f0f921"
            ]
           ],
           "sequentialminus": [
            [
             0,
             "#0d0887"
            ],
            [
             0.1111111111111111,
             "#46039f"
            ],
            [
             0.2222222222222222,
             "#7201a8"
            ],
            [
             0.3333333333333333,
             "#9c179e"
            ],
            [
             0.4444444444444444,
             "#bd3786"
            ],
            [
             0.5555555555555556,
             "#d8576b"
            ],
            [
             0.6666666666666666,
             "#ed7953"
            ],
            [
             0.7777777777777778,
             "#fb9f3a"
            ],
            [
             0.8888888888888888,
             "#fdca26"
            ],
            [
             1,
             "#f0f921"
            ]
           ]
          },
          "colorway": [
           "#636efa",
           "#EF553B",
           "#00cc96",
           "#ab63fa",
           "#FFA15A",
           "#19d3f3",
           "#FF6692",
           "#B6E880",
           "#FF97FF",
           "#FECB52"
          ],
          "font": {
           "color": "#2a3f5f"
          },
          "geo": {
           "bgcolor": "white",
           "lakecolor": "white",
           "landcolor": "white",
           "showlakes": true,
           "showland": true,
           "subunitcolor": "#C8D4E3"
          },
          "hoverlabel": {
           "align": "left"
          },
          "hovermode": "closest",
          "mapbox": {
           "style": "light"
          },
          "paper_bgcolor": "white",
          "plot_bgcolor": "white",
          "polar": {
           "angularaxis": {
            "gridcolor": "#EBF0F8",
            "linecolor": "#EBF0F8",
            "ticks": ""
           },
           "bgcolor": "white",
           "radialaxis": {
            "gridcolor": "#EBF0F8",
            "linecolor": "#EBF0F8",
            "ticks": ""
           }
          },
          "scene": {
           "xaxis": {
            "backgroundcolor": "white",
            "gridcolor": "#DFE8F3",
            "gridwidth": 2,
            "linecolor": "#EBF0F8",
            "showbackground": true,
            "ticks": "",
            "zerolinecolor": "#EBF0F8"
           },
           "yaxis": {
            "backgroundcolor": "white",
            "gridcolor": "#DFE8F3",
            "gridwidth": 2,
            "linecolor": "#EBF0F8",
            "showbackground": true,
            "ticks": "",
            "zerolinecolor": "#EBF0F8"
           },
           "zaxis": {
            "backgroundcolor": "white",
            "gridcolor": "#DFE8F3",
            "gridwidth": 2,
            "linecolor": "#EBF0F8",
            "showbackground": true,
            "ticks": "",
            "zerolinecolor": "#EBF0F8"
           }
          },
          "shapedefaults": {
           "line": {
            "color": "#2a3f5f"
           }
          },
          "ternary": {
           "aaxis": {
            "gridcolor": "#DFE8F3",
            "linecolor": "#A2B1C6",
            "ticks": ""
           },
           "baxis": {
            "gridcolor": "#DFE8F3",
            "linecolor": "#A2B1C6",
            "ticks": ""
           },
           "bgcolor": "white",
           "caxis": {
            "gridcolor": "#DFE8F3",
            "linecolor": "#A2B1C6",
            "ticks": ""
           }
          },
          "title": {
           "x": 0.05
          },
          "xaxis": {
           "automargin": true,
           "gridcolor": "#EBF0F8",
           "linecolor": "#EBF0F8",
           "ticks": "",
           "title": {
            "standoff": 15
           },
           "zerolinecolor": "#EBF0F8",
           "zerolinewidth": 2
          },
          "yaxis": {
           "automargin": true,
           "gridcolor": "#EBF0F8",
           "linecolor": "#EBF0F8",
           "ticks": "",
           "title": {
            "standoff": 15
           },
           "zerolinecolor": "#EBF0F8",
           "zerolinewidth": 2
          }
         }
        },
        "xaxis": {
         "anchor": "y",
         "domain": [
          0,
          1
         ],
         "title": {
          "text": "Número de discos"
         }
        },
        "yaxis": {
         "anchor": "x",
         "categoryorder": "category descending",
         "domain": [
          0,
          1
         ],
         "nticks": 100,
         "tickfont": {
          "size": 9
         },
         "tickmode": "linear",
         "title": {
          "text": "Artista - Álbum"
         }
        }
       }
      },
      "text/html": [
       "<div>\n",
       "        \n",
       "        \n",
       "            <div id=\"583650e7-4cd4-4278-a033-f9261df7c9da\" class=\"plotly-graph-div\" style=\"height:1100px; width:100%;\"></div>\n",
       "            <script type=\"text/javascript\">\n",
       "                require([\"plotly\"], function(Plotly) {\n",
       "                    window.PLOTLYENV=window.PLOTLYENV || {};\n",
       "                    \n",
       "                if (document.getElementById(\"583650e7-4cd4-4278-a033-f9261df7c9da\")) {\n",
       "                    Plotly.newPlot(\n",
       "                        '583650e7-4cd4-4278-a033-f9261df7c9da',\n",
       "                        [{\"alignmentgroup\": \"True\", \"hovertemplate\": \"Tipo=\\u00fanicos<br>value=%{x}<br>artist_album=%{y}<extra></extra>\", \"legendgroup\": \"\\u00fanicos\", \"marker\": {\"color\": \"#005867\"}, \"name\": \"\\u00fanicos\", \"offsetgroup\": \"\\u00fanicos\", \"orientation\": \"h\", \"showlegend\": true, \"textposition\": \"auto\", \"type\": \"bar\", \"x\": [23, 14, 14, 17, 12, 11, 16, 15, 10, 17, 14, 11, 15, 12, 11, 9, 14, 14, 13, 14, 14, 9, 13, 10, 12, 10, 10, 9, 12, 10, 12, 9, 10, 10, 7, 11, 10, 7, 9, 9, 9, 10, 10, 7, 6, 10, 10, 10, 10, 7, 8, 9, 8, 7, 9, 9, 9, 9, 9, 9, 6, 9, 9, 8, 9, 8, 7, 8, 8, 7, 8, 8, 8, 8, 8, 7, 7, 7, 8, 7, 8, 8, 5, 8, 8, 8, 8, 6, 7, 6, 7, 8, 8, 7, 5, 7, 6, 6, 6, 7], \"xaxis\": \"x\", \"y\": [\"001 - Pink Floyd - The Dark Side Of The Moon\", \"002 - Metallica - Master Of Puppets\", \"003 - Metallica - Ride The Lightning\", \"004 - Pink Floyd - The Wall\", \"005 - Metallica - Kill 'Em All\", \"006 - Metallica - ...And Justice For All\", \"007 - Michael Jackson - Thriller\", \"008 - Pink Floyd - Wish You Were Here\", \"009 - Metallica - Metallica\", \"010 - The Cure - Disintegration\", \"011 - Soda Stereo - Canci\\u00f3n Animal\", \"012 - David Bowie - The Rise And Fall Of Ziggy Stardust And The Spiders From Mars\", \"013 - Nirvana - MTV Unplugged In New York\", \"014 - Queen - Greatest Hits\", \"015 - Guns N' Roses - Appetite For Destruction\", \"016 - Metallica - The $5.98 E.P. - Garage Days Re-Revisited\", \"017 - Soda Stereo - Doble Vida\", \"018 - Pink Floyd - Meddle\", \"019 - Pearl Jam - Ten\", \"020 - Nirvana - Nevermind\", \"021 - Bajo Tierra (2) - Bajo Tierra\", \"022 - Queen - A Night At The Opera\", \"023 - Pink Floyd - Animals\", \"024 - Queen - The Game\", \"025 - Depeche Mode - Violator\", \"026 - Led Zeppelin - In Through The Out Door\", \"027 - Soda Stereo - Signos\", \"028 - Queen - News Of The World\", \"029 - Aterciopelados - El Dorado\", \"030 - Soda Stereo - Soda Stereo\", \"031 - Joy Division - Unknown Pleasures\", \"032 - David Bowie - \\\"Heroes\\\"\", \"033 - Pink Floyd - Atom Heart Mother\", \"034 - Led Zeppelin - Led Zeppelin\", \"035 - Queen - A Day At The Races\", \"036 - Portishead - Portishead\", \"037 - Iron Maiden - The Number Of The Beast\", \"038 - Queen - Jazz\", \"039 - Pink Floyd - The Final Cut\", \"040 - Black Sabbath - Black Sabbath\", \"041 - Pink Floyd - Ummagumma\", \"042 - U2 - The Joshua Tree\", \"043 - Led Zeppelin - Led Zeppelin II\", \"044 - Nirvana - Incesticide\", \"045 - David Bowie - Low\", \"046 - Black Sabbath - Paranoid\", \"047 - AC/DC - Back In Black\", \"048 - Tool (2) - 10,000 Days\", \"049 - Nirvana - Bleach\", \"050 - Metallica - St. Anger\", \"051 - Soda Stereo - Sue\\u00f1o Stereo\", \"052 - The Smiths - The Queen Is Dead\", \"053 - Gorillaz - Demon Days\", \"054 - Pink Floyd - Obscured By Clouds\", \"055 - David Bowie - Let's Dance\", \"056 - Radiohead - OK Computer\", \"057 - Radiohead - Kid A\", \"058 - Daft Punk - Discovery\", \"059 - Metropolitan (Medell\\u00edn) - This Road / On Your Lips\", \"060 - Red Hot Chili Peppers - Blood Sugar Sex Magik\", \"061 - Queen - A Kind Of Magic\", \"062 - Radiohead - In Rainbows\", \"063 - The Police - Synchronicity\", \"064 - Soda Stereo - Dynamo\", \"065 - Led Zeppelin - Untitled\", \"066 - Led Zeppelin - The Soundtrack From The Film The Song Remains The Same\", \"067 - Pink Floyd - A Collection Of Great Dance Songs\", \"068 - The Beatles - Sgt. Pepper's Lonely Hearts Club Band\", \"069 - David Bowie - Diamond Dogs\", \"070 - System Of A Down - Toxicity\", \"071 - The Clash - London Calling\", \"072 - System Of A Down - System Of A Down\", \"073 - Pixies - Doolittle\", \"074 - Iron Maiden - Live After Death\", \"075 - Led Zeppelin - Physical Graffiti\", \"076 - Pink Floyd - Relics\", \"077 - The Alan Parsons Project - Eye In The Sky\", \"078 - David Bowie - Lodger\", \"079 - Depeche Mode - Music For The Masses\", \"080 - Nine Inch Nails - Pretty Hate Machine\", \"081 - Fleetwood Mac - Rumours\", \"082 - David Bowie - \\u2605 (Blackstar)\", \"083 - Queen - Live Killers\", \"084 - Blondie - Parallel Lines\", \"085 - Portishead - Dummy\", \"086 - Portishead - Third\", \"087 - Guns N' Roses - Use Your Illusion II\", \"088 - U2 - Achtung Baby\", \"089 - The Beatles - Abbey Road\", \"090 - Carlos Vives - Cl\\u00e1sicos De La Provincia\", \"091 - Led Zeppelin - Led Zeppelin III\", \"092 - The B-52's - The B-52's\", \"093 - Roxy Music - Roxy Music\", \"094 - The Beatles - The Beatles\", \"095 - Santana - Santana\", \"096 - Caifanes - El Silencio\", \"097 - Tool (2) - \\u00c6nima\", \"098 - The Beatles - Revolver\", \"099 - Eagles - Hotel California\", \"100 - The Cure - Seventeen Seconds\"], \"yaxis\": \"y\"}, {\"alignmentgroup\": \"True\", \"hovertemplate\": \"Tipo=repetidos<br>value=%{x}<br>artist_album=%{y}<extra></extra>\", \"legendgroup\": \"repetidos\", \"marker\": {\"color\": \"#FFB335\"}, \"name\": \"repetidos\", \"offsetgroup\": \"repetidos\", \"orientation\": \"h\", \"showlegend\": true, \"textposition\": \"auto\", \"type\": \"bar\", \"x\": [8, 10, 7, 4, 9, 8, 3, 3, 7, 0, 3, 4, 0, 3, 4, 6, 1, 1, 1, 0, 0, 4, 0, 3, 1, 2, 2, 3, 0, 2, 0, 2, 1, 1, 4, 0, 0, 3, 1, 1, 1, 0, 0, 3, 4, 0, 0, 0, 0, 3, 1, 0, 1, 2, 0, 0, 0, 0, 0, 0, 3, 0, 0, 1, 0, 1, 1, 0, 0, 1, 0, 0, 0, 0, 0, 1, 1, 1, 0, 1, 0, 0, 3, 0, 0, 0, 0, 2, 1, 2, 1, 0, 0, 0, 2, 0, 1, 1, 1, 0], \"xaxis\": \"x\", \"y\": [\"001 - Pink Floyd - The Dark Side Of The Moon\", \"002 - Metallica - Master Of Puppets\", \"003 - Metallica - Ride The Lightning\", \"004 - Pink Floyd - The Wall\", \"005 - Metallica - Kill 'Em All\", \"006 - Metallica - ...And Justice For All\", \"007 - Michael Jackson - Thriller\", \"008 - Pink Floyd - Wish You Were Here\", \"009 - Metallica - Metallica\", \"010 - The Cure - Disintegration\", \"011 - Soda Stereo - Canci\\u00f3n Animal\", \"012 - David Bowie - The Rise And Fall Of Ziggy Stardust And The Spiders From Mars\", \"013 - Nirvana - MTV Unplugged In New York\", \"014 - Queen - Greatest Hits\", \"015 - Guns N' Roses - Appetite For Destruction\", \"016 - Metallica - The $5.98 E.P. - Garage Days Re-Revisited\", \"017 - Soda Stereo - Doble Vida\", \"018 - Pink Floyd - Meddle\", \"019 - Pearl Jam - Ten\", \"020 - Nirvana - Nevermind\", \"021 - Bajo Tierra (2) - Bajo Tierra\", \"022 - Queen - A Night At The Opera\", \"023 - Pink Floyd - Animals\", \"024 - Queen - The Game\", \"025 - Depeche Mode - Violator\", \"026 - Led Zeppelin - In Through The Out Door\", \"027 - Soda Stereo - Signos\", \"028 - Queen - News Of The World\", \"029 - Aterciopelados - El Dorado\", \"030 - Soda Stereo - Soda Stereo\", \"031 - Joy Division - Unknown Pleasures\", \"032 - David Bowie - \\\"Heroes\\\"\", \"033 - Pink Floyd - Atom Heart Mother\", \"034 - Led Zeppelin - Led Zeppelin\", \"035 - Queen - A Day At The Races\", \"036 - Portishead - Portishead\", \"037 - Iron Maiden - The Number Of The Beast\", \"038 - Queen - Jazz\", \"039 - Pink Floyd - The Final Cut\", \"040 - Black Sabbath - Black Sabbath\", \"041 - Pink Floyd - Ummagumma\", \"042 - U2 - The Joshua Tree\", \"043 - Led Zeppelin - Led Zeppelin II\", \"044 - Nirvana - Incesticide\", \"045 - David Bowie - Low\", \"046 - Black Sabbath - Paranoid\", \"047 - AC/DC - Back In Black\", \"048 - Tool (2) - 10,000 Days\", \"049 - Nirvana - Bleach\", \"050 - Metallica - St. Anger\", \"051 - Soda Stereo - Sue\\u00f1o Stereo\", \"052 - The Smiths - The Queen Is Dead\", \"053 - Gorillaz - Demon Days\", \"054 - Pink Floyd - Obscured By Clouds\", \"055 - David Bowie - Let's Dance\", \"056 - Radiohead - OK Computer\", \"057 - Radiohead - Kid A\", \"058 - Daft Punk - Discovery\", \"059 - Metropolitan (Medell\\u00edn) - This Road / On Your Lips\", \"060 - Red Hot Chili Peppers - Blood Sugar Sex Magik\", \"061 - Queen - A Kind Of Magic\", \"062 - Radiohead - In Rainbows\", \"063 - The Police - Synchronicity\", \"064 - Soda Stereo - Dynamo\", \"065 - Led Zeppelin - Untitled\", \"066 - Led Zeppelin - The Soundtrack From The Film The Song Remains The Same\", \"067 - Pink Floyd - A Collection Of Great Dance Songs\", \"068 - The Beatles - Sgt. Pepper's Lonely Hearts Club Band\", \"069 - David Bowie - Diamond Dogs\", \"070 - System Of A Down - Toxicity\", \"071 - The Clash - London Calling\", \"072 - System Of A Down - System Of A Down\", \"073 - Pixies - Doolittle\", \"074 - Iron Maiden - Live After Death\", \"075 - Led Zeppelin - Physical Graffiti\", \"076 - Pink Floyd - Relics\", \"077 - The Alan Parsons Project - Eye In The Sky\", \"078 - David Bowie - Lodger\", \"079 - Depeche Mode - Music For The Masses\", \"080 - Nine Inch Nails - Pretty Hate Machine\", \"081 - Fleetwood Mac - Rumours\", \"082 - David Bowie - \\u2605 (Blackstar)\", \"083 - Queen - Live Killers\", \"084 - Blondie - Parallel Lines\", \"085 - Portishead - Dummy\", \"086 - Portishead - Third\", \"087 - Guns N' Roses - Use Your Illusion II\", \"088 - U2 - Achtung Baby\", \"089 - The Beatles - Abbey Road\", \"090 - Carlos Vives - Cl\\u00e1sicos De La Provincia\", \"091 - Led Zeppelin - Led Zeppelin III\", \"092 - The B-52's - The B-52's\", \"093 - Roxy Music - Roxy Music\", \"094 - The Beatles - The Beatles\", \"095 - Santana - Santana\", \"096 - Caifanes - El Silencio\", \"097 - Tool (2) - \\u00c6nima\", \"098 - The Beatles - Revolver\", \"099 - Eagles - Hotel California\", \"100 - The Cure - Seventeen Seconds\"], \"yaxis\": \"y\"}],\n",
       "                        {\"barmode\": \"stack\", \"height\": 1100, \"legend\": {\"title\": {\"text\": \"Tipo\"}, \"tracegroupgap\": 0}, \"margin\": {\"t\": 60}, \"template\": {\"data\": {\"bar\": [{\"error_x\": {\"color\": \"#2a3f5f\"}, \"error_y\": {\"color\": \"#2a3f5f\"}, \"marker\": {\"line\": {\"color\": \"white\", \"width\": 0.5}}, \"type\": \"bar\"}], \"barpolar\": [{\"marker\": {\"line\": {\"color\": \"white\", \"width\": 0.5}}, \"type\": \"barpolar\"}], \"carpet\": [{\"aaxis\": {\"endlinecolor\": \"#2a3f5f\", \"gridcolor\": \"#C8D4E3\", \"linecolor\": \"#C8D4E3\", \"minorgridcolor\": \"#C8D4E3\", \"startlinecolor\": \"#2a3f5f\"}, \"baxis\": {\"endlinecolor\": \"#2a3f5f\", \"gridcolor\": \"#C8D4E3\", \"linecolor\": \"#C8D4E3\", \"minorgridcolor\": \"#C8D4E3\", \"startlinecolor\": \"#2a3f5f\"}, \"type\": \"carpet\"}], \"choropleth\": [{\"colorbar\": {\"outlinewidth\": 0, \"ticks\": \"\"}, \"type\": \"choropleth\"}], \"contour\": [{\"colorbar\": {\"outlinewidth\": 0, \"ticks\": \"\"}, \"colorscale\": [[0.0, \"#0d0887\"], [0.1111111111111111, \"#46039f\"], [0.2222222222222222, \"#7201a8\"], [0.3333333333333333, \"#9c179e\"], [0.4444444444444444, \"#bd3786\"], [0.5555555555555556, \"#d8576b\"], [0.6666666666666666, \"#ed7953\"], [0.7777777777777778, \"#fb9f3a\"], [0.8888888888888888, \"#fdca26\"], [1.0, \"#f0f921\"]], \"type\": \"contour\"}], \"contourcarpet\": [{\"colorbar\": {\"outlinewidth\": 0, \"ticks\": \"\"}, \"type\": \"contourcarpet\"}], \"heatmap\": [{\"colorbar\": {\"outlinewidth\": 0, \"ticks\": \"\"}, \"colorscale\": [[0.0, \"#0d0887\"], [0.1111111111111111, \"#46039f\"], [0.2222222222222222, \"#7201a8\"], [0.3333333333333333, \"#9c179e\"], [0.4444444444444444, \"#bd3786\"], [0.5555555555555556, \"#d8576b\"], [0.6666666666666666, \"#ed7953\"], [0.7777777777777778, \"#fb9f3a\"], [0.8888888888888888, \"#fdca26\"], [1.0, \"#f0f921\"]], \"type\": \"heatmap\"}], \"heatmapgl\": [{\"colorbar\": {\"outlinewidth\": 0, \"ticks\": \"\"}, \"colorscale\": [[0.0, \"#0d0887\"], [0.1111111111111111, \"#46039f\"], [0.2222222222222222, \"#7201a8\"], [0.3333333333333333, \"#9c179e\"], [0.4444444444444444, \"#bd3786\"], [0.5555555555555556, \"#d8576b\"], [0.6666666666666666, \"#ed7953\"], [0.7777777777777778, \"#fb9f3a\"], [0.8888888888888888, \"#fdca26\"], [1.0, \"#f0f921\"]], \"type\": \"heatmapgl\"}], \"histogram\": [{\"marker\": {\"colorbar\": {\"outlinewidth\": 0, \"ticks\": \"\"}}, \"type\": \"histogram\"}], \"histogram2d\": [{\"colorbar\": {\"outlinewidth\": 0, \"ticks\": \"\"}, \"colorscale\": [[0.0, \"#0d0887\"], [0.1111111111111111, \"#46039f\"], [0.2222222222222222, \"#7201a8\"], [0.3333333333333333, \"#9c179e\"], [0.4444444444444444, \"#bd3786\"], [0.5555555555555556, \"#d8576b\"], [0.6666666666666666, \"#ed7953\"], [0.7777777777777778, \"#fb9f3a\"], [0.8888888888888888, \"#fdca26\"], [1.0, \"#f0f921\"]], \"type\": \"histogram2d\"}], \"histogram2dcontour\": [{\"colorbar\": {\"outlinewidth\": 0, \"ticks\": \"\"}, \"colorscale\": [[0.0, \"#0d0887\"], [0.1111111111111111, \"#46039f\"], [0.2222222222222222, \"#7201a8\"], [0.3333333333333333, \"#9c179e\"], [0.4444444444444444, \"#bd3786\"], [0.5555555555555556, \"#d8576b\"], [0.6666666666666666, \"#ed7953\"], [0.7777777777777778, \"#fb9f3a\"], [0.8888888888888888, \"#fdca26\"], [1.0, \"#f0f921\"]], \"type\": \"histogram2dcontour\"}], \"mesh3d\": [{\"colorbar\": {\"outlinewidth\": 0, \"ticks\": \"\"}, \"type\": \"mesh3d\"}], \"parcoords\": [{\"line\": {\"colorbar\": {\"outlinewidth\": 0, \"ticks\": \"\"}}, \"type\": \"parcoords\"}], \"pie\": [{\"automargin\": true, \"type\": \"pie\"}], \"scatter\": [{\"marker\": {\"colorbar\": {\"outlinewidth\": 0, \"ticks\": \"\"}}, \"type\": \"scatter\"}], \"scatter3d\": [{\"line\": {\"colorbar\": {\"outlinewidth\": 0, \"ticks\": \"\"}}, \"marker\": {\"colorbar\": {\"outlinewidth\": 0, \"ticks\": \"\"}}, \"type\": \"scatter3d\"}], \"scattercarpet\": [{\"marker\": {\"colorbar\": {\"outlinewidth\": 0, \"ticks\": \"\"}}, \"type\": \"scattercarpet\"}], \"scattergeo\": [{\"marker\": {\"colorbar\": {\"outlinewidth\": 0, \"ticks\": \"\"}}, \"type\": \"scattergeo\"}], \"scattergl\": [{\"marker\": {\"colorbar\": {\"outlinewidth\": 0, \"ticks\": \"\"}}, \"type\": \"scattergl\"}], \"scattermapbox\": [{\"marker\": {\"colorbar\": {\"outlinewidth\": 0, \"ticks\": \"\"}}, \"type\": \"scattermapbox\"}], \"scatterpolar\": [{\"marker\": {\"colorbar\": {\"outlinewidth\": 0, \"ticks\": \"\"}}, \"type\": \"scatterpolar\"}], \"scatterpolargl\": [{\"marker\": {\"colorbar\": {\"outlinewidth\": 0, \"ticks\": \"\"}}, \"type\": \"scatterpolargl\"}], \"scatterternary\": [{\"marker\": {\"colorbar\": {\"outlinewidth\": 0, \"ticks\": \"\"}}, \"type\": \"scatterternary\"}], \"surface\": [{\"colorbar\": {\"outlinewidth\": 0, \"ticks\": \"\"}, \"colorscale\": [[0.0, \"#0d0887\"], [0.1111111111111111, \"#46039f\"], [0.2222222222222222, \"#7201a8\"], [0.3333333333333333, \"#9c179e\"], [0.4444444444444444, \"#bd3786\"], [0.5555555555555556, \"#d8576b\"], [0.6666666666666666, \"#ed7953\"], [0.7777777777777778, \"#fb9f3a\"], [0.8888888888888888, \"#fdca26\"], [1.0, \"#f0f921\"]], \"type\": \"surface\"}], \"table\": [{\"cells\": {\"fill\": {\"color\": \"#EBF0F8\"}, \"line\": {\"color\": \"white\"}}, \"header\": {\"fill\": {\"color\": \"#C8D4E3\"}, \"line\": {\"color\": \"white\"}}, \"type\": \"table\"}]}, \"layout\": {\"annotationdefaults\": {\"arrowcolor\": \"#2a3f5f\", \"arrowhead\": 0, \"arrowwidth\": 1}, \"coloraxis\": {\"colorbar\": {\"outlinewidth\": 0, \"ticks\": \"\"}}, \"colorscale\": {\"diverging\": [[0, \"#8e0152\"], [0.1, \"#c51b7d\"], [0.2, \"#de77ae\"], [0.3, \"#f1b6da\"], [0.4, \"#fde0ef\"], [0.5, \"#f7f7f7\"], [0.6, \"#e6f5d0\"], [0.7, \"#b8e186\"], [0.8, \"#7fbc41\"], [0.9, \"#4d9221\"], [1, \"#276419\"]], \"sequential\": [[0.0, \"#0d0887\"], [0.1111111111111111, \"#46039f\"], [0.2222222222222222, \"#7201a8\"], [0.3333333333333333, \"#9c179e\"], [0.4444444444444444, \"#bd3786\"], [0.5555555555555556, \"#d8576b\"], [0.6666666666666666, \"#ed7953\"], [0.7777777777777778, \"#fb9f3a\"], [0.8888888888888888, \"#fdca26\"], [1.0, \"#f0f921\"]], \"sequentialminus\": [[0.0, \"#0d0887\"], [0.1111111111111111, \"#46039f\"], [0.2222222222222222, \"#7201a8\"], [0.3333333333333333, \"#9c179e\"], [0.4444444444444444, \"#bd3786\"], [0.5555555555555556, \"#d8576b\"], [0.6666666666666666, \"#ed7953\"], [0.7777777777777778, \"#fb9f3a\"], [0.8888888888888888, \"#fdca26\"], [1.0, \"#f0f921\"]]}, \"colorway\": [\"#636efa\", \"#EF553B\", \"#00cc96\", \"#ab63fa\", \"#FFA15A\", \"#19d3f3\", \"#FF6692\", \"#B6E880\", \"#FF97FF\", \"#FECB52\"], \"font\": {\"color\": \"#2a3f5f\"}, \"geo\": {\"bgcolor\": \"white\", \"lakecolor\": \"white\", \"landcolor\": \"white\", \"showlakes\": true, \"showland\": true, \"subunitcolor\": \"#C8D4E3\"}, \"hoverlabel\": {\"align\": \"left\"}, \"hovermode\": \"closest\", \"mapbox\": {\"style\": \"light\"}, \"paper_bgcolor\": \"white\", \"plot_bgcolor\": \"white\", \"polar\": {\"angularaxis\": {\"gridcolor\": \"#EBF0F8\", \"linecolor\": \"#EBF0F8\", \"ticks\": \"\"}, \"bgcolor\": \"white\", \"radialaxis\": {\"gridcolor\": \"#EBF0F8\", \"linecolor\": \"#EBF0F8\", \"ticks\": \"\"}}, \"scene\": {\"xaxis\": {\"backgroundcolor\": \"white\", \"gridcolor\": \"#DFE8F3\", \"gridwidth\": 2, \"linecolor\": \"#EBF0F8\", \"showbackground\": true, \"ticks\": \"\", \"zerolinecolor\": \"#EBF0F8\"}, \"yaxis\": {\"backgroundcolor\": \"white\", \"gridcolor\": \"#DFE8F3\", \"gridwidth\": 2, \"linecolor\": \"#EBF0F8\", \"showbackground\": true, \"ticks\": \"\", \"zerolinecolor\": \"#EBF0F8\"}, \"zaxis\": {\"backgroundcolor\": \"white\", \"gridcolor\": \"#DFE8F3\", \"gridwidth\": 2, \"linecolor\": \"#EBF0F8\", \"showbackground\": true, \"ticks\": \"\", \"zerolinecolor\": \"#EBF0F8\"}}, \"shapedefaults\": {\"line\": {\"color\": \"#2a3f5f\"}}, \"ternary\": {\"aaxis\": {\"gridcolor\": \"#DFE8F3\", \"linecolor\": \"#A2B1C6\", \"ticks\": \"\"}, \"baxis\": {\"gridcolor\": \"#DFE8F3\", \"linecolor\": \"#A2B1C6\", \"ticks\": \"\"}, \"bgcolor\": \"white\", \"caxis\": {\"gridcolor\": \"#DFE8F3\", \"linecolor\": \"#A2B1C6\", \"ticks\": \"\"}}, \"title\": {\"x\": 0.05}, \"xaxis\": {\"automargin\": true, \"gridcolor\": \"#EBF0F8\", \"linecolor\": \"#EBF0F8\", \"ticks\": \"\", \"title\": {\"standoff\": 15}, \"zerolinecolor\": \"#EBF0F8\", \"zerolinewidth\": 2}, \"yaxis\": {\"automargin\": true, \"gridcolor\": \"#EBF0F8\", \"linecolor\": \"#EBF0F8\", \"ticks\": \"\", \"title\": {\"standoff\": 15}, \"zerolinecolor\": \"#EBF0F8\", \"zerolinewidth\": 2}}}, \"xaxis\": {\"anchor\": \"y\", \"domain\": [0.0, 1.0], \"title\": {\"text\": \"N\\u00famero de discos\"}}, \"yaxis\": {\"anchor\": \"x\", \"categoryorder\": \"category descending\", \"domain\": [0.0, 1.0], \"nticks\": 100, \"tickfont\": {\"size\": 9}, \"tickmode\": \"linear\", \"title\": {\"text\": \"Artista - \\u00c1lbum\"}}},\n",
       "                        {\"responsive\": true}\n",
       "                    ).then(function(){\n",
       "                            \n",
       "var gd = document.getElementById('583650e7-4cd4-4278-a033-f9261df7c9da');\n",
       "var x = new MutationObserver(function (mutations, observer) {{\n",
       "        var display = window.getComputedStyle(gd).display;\n",
       "        if (!display || display === 'none') {{\n",
       "            console.log([gd, 'removed!']);\n",
       "            Plotly.purge(gd);\n",
       "            observer.disconnect();\n",
       "        }}\n",
       "}});\n",
       "\n",
       "// Listen for the removal of the full notebook cells\n",
       "var notebookContainer = gd.closest('#notebook-container');\n",
       "if (notebookContainer) {{\n",
       "    x.observe(notebookContainer, {childList: true});\n",
       "}}\n",
       "\n",
       "// Listen for the clearing of the current output cell\n",
       "var outputEl = gd.closest('.output');\n",
       "if (outputEl) {{\n",
       "    x.observe(outputEl, {childList: true});\n",
       "}}\n",
       "\n",
       "                        })\n",
       "                };\n",
       "                });\n",
       "            </script>\n",
       "        </div>"
      ]
     },
     "metadata": {},
     "output_type": "display_data"
    }
   ],
   "source": [
    "all_releases_album_stats_melt = all_releases_album_stats.copy()\n",
    "all_releases_album_stats_melt['repetidos'] = all_releases_album_stats_melt['total'] - all_releases_album_stats_melt['únicos']\n",
    "all_releases_album_stats_melt = pd.melt(all_releases_album_stats_melt[offset_top:offset_top+n_top],id_vars=['artist_album'], \n",
    "                                        value_vars=['únicos','repetidos'],var_name='Tipo')\n",
    "px.bar(all_releases_album_stats_melt, x=\"value\", y=\"artist_album\", orientation='h',color='Tipo',\n",
    "       color_discrete_sequence=cm_466,barmode='stack',template='plotly_white',\n",
    "       height=1100).update_xaxes(title = 'Número de discos').update_yaxes(nticks=n_top,\n",
    "                                                                         tickmode='linear',\n",
    "                                                                         tickfont={'size':9},\n",
    "                                                                         title = 'Artista - Álbum',\n",
    "                                                                         categoryorder=\"category descending\")"
   ]
  },
  {
   "cell_type": "code",
   "execution_count": null,
   "metadata": {},
   "outputs": [],
   "source": []
  }
 ],
 "metadata": {
  "kernelspec": {
   "display_name": "Python 3",
   "language": "python",
   "name": "python3"
  },
  "language_info": {
   "codemirror_mode": {
    "name": "ipython",
    "version": 3
   },
   "file_extension": ".py",
   "mimetype": "text/x-python",
   "name": "python",
   "nbconvert_exporter": "python",
   "pygments_lexer": "ipython3",
   "version": "3.7.4"
  }
 },
 "nbformat": 4,
 "nbformat_minor": 4
}
